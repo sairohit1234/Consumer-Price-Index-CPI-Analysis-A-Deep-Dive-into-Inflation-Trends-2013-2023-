{
 "cells": [
  {
   "cell_type": "markdown",
   "id": "2bb9ed89-a8cb-4290-8a33-2bd3a574f0d7",
   "metadata": {},
   "source": [
    "# CONSUMER PRICE INDEX"
   ]
  },
  {
   "cell_type": "markdown",
   "id": "7c252bf3-4ebc-4898-9fc1-f7e71540de55",
   "metadata": {},
   "source": [
    "``Consumer Price Index (CPI)`` Analysis involves tracking the average price change over time for a basket of goods and services typically consumed by households. It serves as a primary measure of inflation, which helps companies and governments understand purchasing power trends, inflationary pressures, and economic stability. So, if you want to understand how to analyze the Consumer Price Index, this article is for you. In this article, I’ll take you through the task of Consumer Price Index Analysis with Python."
   ]
  },
  {
   "cell_type": "code",
   "execution_count": 131,
   "id": "0cb99f52-9a58-48d5-bc1c-1d62fc8ce87d",
   "metadata": {},
   "outputs": [],
   "source": [
    "import pandas as pd\n",
    "import matplotlib.pyplot as plt\n",
    "import seaborn as sns\n",
    "from scipy.signal import detrend\n",
    "import plotly.graph_objects as go"
   ]
  },
  {
   "cell_type": "code",
   "execution_count": 107,
   "id": "efc03081-74b8-44f2-824d-7ba78db20f23",
   "metadata": {},
   "outputs": [],
   "source": [
    "df=pd.read_csv(r\"C:\\Users\\Sai Rohit Basantam\\Downloads\\cpi.csv\")"
   ]
  },
  {
   "cell_type": "code",
   "execution_count": 108,
   "id": "c691679c-1406-43ee-81a1-62f70e26811c",
   "metadata": {},
   "outputs": [
    {
     "data": {
      "text/html": [
       "<div>\n",
       "<style scoped>\n",
       "    .dataframe tbody tr th:only-of-type {\n",
       "        vertical-align: middle;\n",
       "    }\n",
       "\n",
       "    .dataframe tbody tr th {\n",
       "        vertical-align: top;\n",
       "    }\n",
       "\n",
       "    .dataframe thead th {\n",
       "        text-align: right;\n",
       "    }\n",
       "</style>\n",
       "<table border=\"1\" class=\"dataframe\">\n",
       "  <thead>\n",
       "    <tr style=\"text-align: right;\">\n",
       "      <th></th>\n",
       "      <th>Sector</th>\n",
       "      <th>Year</th>\n",
       "      <th>Month</th>\n",
       "      <th>Cereals and products</th>\n",
       "      <th>Meat and fish</th>\n",
       "      <th>Egg</th>\n",
       "      <th>Milk and products</th>\n",
       "      <th>Oils and fats</th>\n",
       "      <th>Fruits</th>\n",
       "      <th>Vegetables</th>\n",
       "      <th>...</th>\n",
       "      <th>Housing</th>\n",
       "      <th>Fuel and light</th>\n",
       "      <th>Household goods and services</th>\n",
       "      <th>Health</th>\n",
       "      <th>Transport and communication</th>\n",
       "      <th>Recreation and amusement</th>\n",
       "      <th>Education</th>\n",
       "      <th>Personal care and effects</th>\n",
       "      <th>Miscellaneous</th>\n",
       "      <th>General index</th>\n",
       "    </tr>\n",
       "  </thead>\n",
       "  <tbody>\n",
       "    <tr>\n",
       "      <th>0</th>\n",
       "      <td>Rural</td>\n",
       "      <td>2013</td>\n",
       "      <td>January</td>\n",
       "      <td>107.5</td>\n",
       "      <td>106.3</td>\n",
       "      <td>108.1</td>\n",
       "      <td>104.9</td>\n",
       "      <td>106.1</td>\n",
       "      <td>103.9</td>\n",
       "      <td>101.9</td>\n",
       "      <td>...</td>\n",
       "      <td>NaN</td>\n",
       "      <td>105.5</td>\n",
       "      <td>104.8</td>\n",
       "      <td>104.0</td>\n",
       "      <td>103.3</td>\n",
       "      <td>103.4</td>\n",
       "      <td>103.8</td>\n",
       "      <td>104.7</td>\n",
       "      <td>104.0</td>\n",
       "      <td>105.1</td>\n",
       "    </tr>\n",
       "    <tr>\n",
       "      <th>1</th>\n",
       "      <td>Urban</td>\n",
       "      <td>2013</td>\n",
       "      <td>January</td>\n",
       "      <td>110.5</td>\n",
       "      <td>109.1</td>\n",
       "      <td>113.0</td>\n",
       "      <td>103.6</td>\n",
       "      <td>103.4</td>\n",
       "      <td>102.3</td>\n",
       "      <td>102.9</td>\n",
       "      <td>...</td>\n",
       "      <td>100.3</td>\n",
       "      <td>105.4</td>\n",
       "      <td>104.8</td>\n",
       "      <td>104.1</td>\n",
       "      <td>103.2</td>\n",
       "      <td>102.9</td>\n",
       "      <td>103.5</td>\n",
       "      <td>104.3</td>\n",
       "      <td>103.7</td>\n",
       "      <td>104.0</td>\n",
       "    </tr>\n",
       "    <tr>\n",
       "      <th>2</th>\n",
       "      <td>Rural+Urban</td>\n",
       "      <td>2013</td>\n",
       "      <td>January</td>\n",
       "      <td>108.4</td>\n",
       "      <td>107.3</td>\n",
       "      <td>110.0</td>\n",
       "      <td>104.4</td>\n",
       "      <td>105.1</td>\n",
       "      <td>103.2</td>\n",
       "      <td>102.2</td>\n",
       "      <td>...</td>\n",
       "      <td>100.3</td>\n",
       "      <td>105.5</td>\n",
       "      <td>104.8</td>\n",
       "      <td>104.0</td>\n",
       "      <td>103.2</td>\n",
       "      <td>103.1</td>\n",
       "      <td>103.6</td>\n",
       "      <td>104.5</td>\n",
       "      <td>103.9</td>\n",
       "      <td>104.6</td>\n",
       "    </tr>\n",
       "    <tr>\n",
       "      <th>3</th>\n",
       "      <td>Rural</td>\n",
       "      <td>2013</td>\n",
       "      <td>February</td>\n",
       "      <td>109.2</td>\n",
       "      <td>108.7</td>\n",
       "      <td>110.2</td>\n",
       "      <td>105.4</td>\n",
       "      <td>106.7</td>\n",
       "      <td>104.0</td>\n",
       "      <td>102.4</td>\n",
       "      <td>...</td>\n",
       "      <td>NaN</td>\n",
       "      <td>106.2</td>\n",
       "      <td>105.2</td>\n",
       "      <td>104.4</td>\n",
       "      <td>103.9</td>\n",
       "      <td>104.0</td>\n",
       "      <td>104.1</td>\n",
       "      <td>104.6</td>\n",
       "      <td>104.4</td>\n",
       "      <td>105.8</td>\n",
       "    </tr>\n",
       "    <tr>\n",
       "      <th>4</th>\n",
       "      <td>Urban</td>\n",
       "      <td>2013</td>\n",
       "      <td>February</td>\n",
       "      <td>112.9</td>\n",
       "      <td>112.9</td>\n",
       "      <td>116.9</td>\n",
       "      <td>104.0</td>\n",
       "      <td>103.5</td>\n",
       "      <td>103.1</td>\n",
       "      <td>104.9</td>\n",
       "      <td>...</td>\n",
       "      <td>100.4</td>\n",
       "      <td>105.7</td>\n",
       "      <td>105.2</td>\n",
       "      <td>104.7</td>\n",
       "      <td>104.4</td>\n",
       "      <td>103.3</td>\n",
       "      <td>103.7</td>\n",
       "      <td>104.3</td>\n",
       "      <td>104.3</td>\n",
       "      <td>104.7</td>\n",
       "    </tr>\n",
       "  </tbody>\n",
       "</table>\n",
       "<p>5 rows × 30 columns</p>\n",
       "</div>"
      ],
      "text/plain": [
       "        Sector  Year     Month  Cereals and products  Meat and fish    Egg  \\\n",
       "0        Rural  2013   January                 107.5          106.3  108.1   \n",
       "1        Urban  2013   January                 110.5          109.1  113.0   \n",
       "2  Rural+Urban  2013   January                 108.4          107.3  110.0   \n",
       "3        Rural  2013  February                 109.2          108.7  110.2   \n",
       "4        Urban  2013  February                 112.9          112.9  116.9   \n",
       "\n",
       "   Milk and products  Oils and fats  Fruits  Vegetables  ...  Housing  \\\n",
       "0              104.9          106.1   103.9       101.9  ...      NaN   \n",
       "1              103.6          103.4   102.3       102.9  ...    100.3   \n",
       "2              104.4          105.1   103.2       102.2  ...    100.3   \n",
       "3              105.4          106.7   104.0       102.4  ...      NaN   \n",
       "4              104.0          103.5   103.1       104.9  ...    100.4   \n",
       "\n",
       "   Fuel and light  Household goods and services  Health  \\\n",
       "0           105.5                         104.8   104.0   \n",
       "1           105.4                         104.8   104.1   \n",
       "2           105.5                         104.8   104.0   \n",
       "3           106.2                         105.2   104.4   \n",
       "4           105.7                         105.2   104.7   \n",
       "\n",
       "   Transport and communication  Recreation and amusement  Education  \\\n",
       "0                        103.3                     103.4      103.8   \n",
       "1                        103.2                     102.9      103.5   \n",
       "2                        103.2                     103.1      103.6   \n",
       "3                        103.9                     104.0      104.1   \n",
       "4                        104.4                     103.3      103.7   \n",
       "\n",
       "   Personal care and effects  Miscellaneous  General index  \n",
       "0                      104.7          104.0          105.1  \n",
       "1                      104.3          103.7          104.0  \n",
       "2                      104.5          103.9          104.6  \n",
       "3                      104.6          104.4          105.8  \n",
       "4                      104.3          104.3          104.7  \n",
       "\n",
       "[5 rows x 30 columns]"
      ]
     },
     "execution_count": 108,
     "metadata": {},
     "output_type": "execute_result"
    }
   ],
   "source": [
    "df.head()"
   ]
  },
  {
   "cell_type": "code",
   "execution_count": 109,
   "id": "71ef5bca-a1f8-4601-b87d-ea94933c2487",
   "metadata": {},
   "outputs": [
    {
     "data": {
      "text/plain": [
       "Index(['Sector', 'Year', 'Month', 'Cereals and products', 'Meat and fish',\n",
       "       'Egg', 'Milk and products', 'Oils and fats', 'Fruits', 'Vegetables',\n",
       "       'Pulses and products', 'Sugar and Confectionery', 'Spices',\n",
       "       'Non-alcoholic beverages', 'Prepared meals, snacks, sweets etc.',\n",
       "       'Food and beverages', 'Pan, tobacco and intoxicants', 'Clothing',\n",
       "       'Footwear', 'Clothing and footwear', 'Housing', 'Fuel and light',\n",
       "       'Household goods and services', 'Health', 'Transport and communication',\n",
       "       'Recreation and amusement', 'Education', 'Personal care and effects',\n",
       "       'Miscellaneous', 'General index'],\n",
       "      dtype='object')"
      ]
     },
     "execution_count": 109,
     "metadata": {},
     "output_type": "execute_result"
    }
   ],
   "source": [
    "df.columns"
   ]
  },
  {
   "cell_type": "code",
   "execution_count": 110,
   "id": "e102d061-6da7-4b2c-b9e5-e814c84e72a5",
   "metadata": {},
   "outputs": [],
   "source": [
    "df.columns = [i.lower().replace(' ','_') for i in df.columns]"
   ]
  },
  {
   "cell_type": "code",
   "execution_count": 111,
   "id": "7d40111b-9da9-47f6-a636-818a843a2134",
   "metadata": {},
   "outputs": [
    {
     "data": {
      "text/plain": [
       "Index(['sector', 'year', 'month', 'cereals_and_products', 'meat_and_fish',\n",
       "       'egg', 'milk_and_products', 'oils_and_fats', 'fruits', 'vegetables',\n",
       "       'pulses_and_products', 'sugar_and_confectionery', 'spices',\n",
       "       'non-alcoholic_beverages', 'prepared_meals,_snacks,_sweets_etc.',\n",
       "       'food_and_beverages', 'pan,_tobacco_and_intoxicants', 'clothing',\n",
       "       'footwear', 'clothing_and_footwear', 'housing', 'fuel_and_light',\n",
       "       'household_goods_and_services', 'health', 'transport_and_communication',\n",
       "       'recreation_and_amusement', 'education', 'personal_care_and_effects',\n",
       "       'miscellaneous', 'general_index'],\n",
       "      dtype='object')"
      ]
     },
     "execution_count": 111,
     "metadata": {},
     "output_type": "execute_result"
    }
   ],
   "source": [
    "df.columns"
   ]
  },
  {
   "cell_type": "code",
   "execution_count": 112,
   "id": "f5b65ef5-c409-4c84-ab76-e28ba3a367e8",
   "metadata": {},
   "outputs": [
    {
     "name": "stdout",
     "output_type": "stream",
     "text": [
      "<class 'pandas.core.frame.DataFrame'>\n",
      "RangeIndex: 365 entries, 0 to 364\n",
      "Data columns (total 30 columns):\n",
      " #   Column                               Non-Null Count  Dtype  \n",
      "---  ------                               --------------  -----  \n",
      " 0   sector                               365 non-null    object \n",
      " 1   year                                 365 non-null    int64  \n",
      " 2   month                                365 non-null    object \n",
      " 3   cereals_and_products                 362 non-null    float64\n",
      " 4   meat_and_fish                        359 non-null    float64\n",
      " 5   egg                                  362 non-null    float64\n",
      " 6   milk_and_products                    362 non-null    float64\n",
      " 7   oils_and_fats                        362 non-null    float64\n",
      " 8   fruits                               362 non-null    float64\n",
      " 9   vegetables                           362 non-null    float64\n",
      " 10  pulses_and_products                  362 non-null    float64\n",
      " 11  sugar_and_confectionery              362 non-null    float64\n",
      " 12  spices                               362 non-null    float64\n",
      " 13  non-alcoholic_beverages              362 non-null    float64\n",
      " 14  prepared_meals,_snacks,_sweets_etc.  359 non-null    float64\n",
      " 15  food_and_beverages                   362 non-null    float64\n",
      " 16  pan,_tobacco_and_intoxicants         359 non-null    float64\n",
      " 17  clothing                             359 non-null    float64\n",
      " 18  footwear                             359 non-null    float64\n",
      " 19  clothing_and_footwear                359 non-null    float64\n",
      " 20  housing                              243 non-null    object \n",
      " 21  fuel_and_light                       362 non-null    float64\n",
      " 22  household_goods_and_services         359 non-null    float64\n",
      " 23  health                               362 non-null    float64\n",
      " 24  transport_and_communication          359 non-null    float64\n",
      " 25  recreation_and_amusement             359 non-null    float64\n",
      " 26  education                            359 non-null    float64\n",
      " 27  personal_care_and_effects            359 non-null    float64\n",
      " 28  miscellaneous                        359 non-null    float64\n",
      " 29  general_index                        359 non-null    float64\n",
      "dtypes: float64(26), int64(1), object(3)\n",
      "memory usage: 85.7+ KB\n"
     ]
    }
   ],
   "source": [
    "df.info()"
   ]
  },
  {
   "cell_type": "code",
   "execution_count": 113,
   "id": "3fe6b8ef-9bc1-4a6e-9028-ffbc8921e5c3",
   "metadata": {},
   "outputs": [
    {
     "data": {
      "text/plain": [
       "array(['January', 'February', 'March', 'April', 'May', 'June', 'July',\n",
       "       'August', 'September', 'October', 'November ', 'November',\n",
       "       'December', 'Marcrh'], dtype=object)"
      ]
     },
     "execution_count": 113,
     "metadata": {},
     "output_type": "execute_result"
    }
   ],
   "source": [
    "df['month'].unique()"
   ]
  },
  {
   "cell_type": "markdown",
   "id": "ea992a50-8019-4f35-b8f9-9df3ccee1695",
   "metadata": {},
   "source": [
    "During the initial analysis of this dataset, I found that some of the month values contain extra whitespace, which can cause errors in parsing. So,     I’ll clean up the data before the data conversion to ensure smooth analysis. I also noticed a typo in the Month column, such as “Marcrh” instead of     “March”. I’ll check for such inconsistencies, correct them, and then proceed with the analysis:"
   ]
  },
  {
   "cell_type": "code",
   "execution_count": 114,
   "id": "4e681ad9-88f2-4649-9140-9e13a3bd55f9",
   "metadata": {},
   "outputs": [
    {
     "data": {
      "text/plain": [
       "array(['January', 'February', 'March', 'April', 'May', 'June', 'July',\n",
       "       'August', 'September', 'October', 'November', 'December'],\n",
       "      dtype=object)"
      ]
     },
     "execution_count": 114,
     "metadata": {},
     "output_type": "execute_result"
    }
   ],
   "source": [
    "df['month']=df['month'].str.strip()\n",
    "df['month']=df['month'].str.replace(\"Marcrh\",\"March\")\n",
    "df['date'] = pd.to_datetime(df['year'].astype(str) + '-' + df['month'], format='%Y-%B')\n",
    "df['month'].unique()  "
   ]
  },
  {
   "cell_type": "markdown",
   "id": "9ead2f6d-70d6-428c-bb46-400beb95b081",
   "metadata": {},
   "source": [
    "# Inflation Trend Analysis\n",
    "Now, I will analyze the general CPI index over time for the Rural+Urban sector This will help identify periods when prices increased rapidly or remained stable."
   ]
  },
  {
   "cell_type": "code",
   "execution_count": 115,
   "id": "c546f114-55b2-471d-804b-baf29b77fdab",
   "metadata": {},
   "outputs": [],
   "source": [
    "rural_urban_cpi = df[df['sector'] == \"Rural+Urban\"].sort_values('date')"
   ]
  },
  {
   "cell_type": "code",
   "execution_count": 116,
   "id": "ebd2cf16-e5eb-4afd-8584-492004ac8a72",
   "metadata": {},
   "outputs": [
    {
     "data": {
      "text/html": [
       "<div>\n",
       "<style scoped>\n",
       "    .dataframe tbody tr th:only-of-type {\n",
       "        vertical-align: middle;\n",
       "    }\n",
       "\n",
       "    .dataframe tbody tr th {\n",
       "        vertical-align: top;\n",
       "    }\n",
       "\n",
       "    .dataframe thead th {\n",
       "        text-align: right;\n",
       "    }\n",
       "</style>\n",
       "<table border=\"1\" class=\"dataframe\">\n",
       "  <thead>\n",
       "    <tr style=\"text-align: right;\">\n",
       "      <th></th>\n",
       "      <th>sector</th>\n",
       "      <th>year</th>\n",
       "      <th>month</th>\n",
       "      <th>cereals_and_products</th>\n",
       "      <th>meat_and_fish</th>\n",
       "      <th>egg</th>\n",
       "      <th>milk_and_products</th>\n",
       "      <th>oils_and_fats</th>\n",
       "      <th>fruits</th>\n",
       "      <th>vegetables</th>\n",
       "      <th>...</th>\n",
       "      <th>fuel_and_light</th>\n",
       "      <th>household_goods_and_services</th>\n",
       "      <th>health</th>\n",
       "      <th>transport_and_communication</th>\n",
       "      <th>recreation_and_amusement</th>\n",
       "      <th>education</th>\n",
       "      <th>personal_care_and_effects</th>\n",
       "      <th>miscellaneous</th>\n",
       "      <th>general_index</th>\n",
       "      <th>date</th>\n",
       "    </tr>\n",
       "  </thead>\n",
       "  <tbody>\n",
       "    <tr>\n",
       "      <th>2</th>\n",
       "      <td>Rural+Urban</td>\n",
       "      <td>2013</td>\n",
       "      <td>January</td>\n",
       "      <td>108.4</td>\n",
       "      <td>107.3</td>\n",
       "      <td>110.0</td>\n",
       "      <td>104.4</td>\n",
       "      <td>105.1</td>\n",
       "      <td>103.2</td>\n",
       "      <td>102.2</td>\n",
       "      <td>...</td>\n",
       "      <td>105.5</td>\n",
       "      <td>104.8</td>\n",
       "      <td>104.0</td>\n",
       "      <td>103.2</td>\n",
       "      <td>103.1</td>\n",
       "      <td>103.6</td>\n",
       "      <td>104.5</td>\n",
       "      <td>103.9</td>\n",
       "      <td>104.6</td>\n",
       "      <td>2013-01-01</td>\n",
       "    </tr>\n",
       "    <tr>\n",
       "      <th>5</th>\n",
       "      <td>Rural+Urban</td>\n",
       "      <td>2013</td>\n",
       "      <td>February</td>\n",
       "      <td>110.4</td>\n",
       "      <td>110.2</td>\n",
       "      <td>112.8</td>\n",
       "      <td>104.9</td>\n",
       "      <td>105.5</td>\n",
       "      <td>103.6</td>\n",
       "      <td>103.2</td>\n",
       "      <td>...</td>\n",
       "      <td>106.0</td>\n",
       "      <td>105.2</td>\n",
       "      <td>104.5</td>\n",
       "      <td>104.2</td>\n",
       "      <td>103.6</td>\n",
       "      <td>103.9</td>\n",
       "      <td>104.5</td>\n",
       "      <td>104.4</td>\n",
       "      <td>105.3</td>\n",
       "      <td>2013-02-01</td>\n",
       "    </tr>\n",
       "    <tr>\n",
       "      <th>8</th>\n",
       "      <td>Rural+Urban</td>\n",
       "      <td>2013</td>\n",
       "      <td>March</td>\n",
       "      <td>111.4</td>\n",
       "      <td>109.7</td>\n",
       "      <td>111.2</td>\n",
       "      <td>105.1</td>\n",
       "      <td>104.9</td>\n",
       "      <td>105.3</td>\n",
       "      <td>102.2</td>\n",
       "      <td>...</td>\n",
       "      <td>106.1</td>\n",
       "      <td>105.6</td>\n",
       "      <td>104.9</td>\n",
       "      <td>105.1</td>\n",
       "      <td>103.7</td>\n",
       "      <td>104.0</td>\n",
       "      <td>104.3</td>\n",
       "      <td>104.7</td>\n",
       "      <td>105.5</td>\n",
       "      <td>2013-03-01</td>\n",
       "    </tr>\n",
       "    <tr>\n",
       "      <th>11</th>\n",
       "      <td>Rural+Urban</td>\n",
       "      <td>2013</td>\n",
       "      <td>April</td>\n",
       "      <td>111.6</td>\n",
       "      <td>110.9</td>\n",
       "      <td>106.6</td>\n",
       "      <td>105.7</td>\n",
       "      <td>104.4</td>\n",
       "      <td>108.9</td>\n",
       "      <td>105.5</td>\n",
       "      <td>...</td>\n",
       "      <td>106.5</td>\n",
       "      <td>106.3</td>\n",
       "      <td>105.3</td>\n",
       "      <td>104.7</td>\n",
       "      <td>104.2</td>\n",
       "      <td>105.0</td>\n",
       "      <td>102.9</td>\n",
       "      <td>104.8</td>\n",
       "      <td>106.1</td>\n",
       "      <td>2013-04-01</td>\n",
       "    </tr>\n",
       "    <tr>\n",
       "      <th>14</th>\n",
       "      <td>Rural+Urban</td>\n",
       "      <td>2013</td>\n",
       "      <td>May</td>\n",
       "      <td>112.3</td>\n",
       "      <td>111.3</td>\n",
       "      <td>104.7</td>\n",
       "      <td>106.8</td>\n",
       "      <td>103.9</td>\n",
       "      <td>109.3</td>\n",
       "      <td>112.9</td>\n",
       "      <td>...</td>\n",
       "      <td>107.4</td>\n",
       "      <td>106.9</td>\n",
       "      <td>105.9</td>\n",
       "      <td>104.0</td>\n",
       "      <td>104.8</td>\n",
       "      <td>105.6</td>\n",
       "      <td>102.3</td>\n",
       "      <td>104.8</td>\n",
       "      <td>106.9</td>\n",
       "      <td>2013-05-01</td>\n",
       "    </tr>\n",
       "    <tr>\n",
       "      <th>...</th>\n",
       "      <td>...</td>\n",
       "      <td>...</td>\n",
       "      <td>...</td>\n",
       "      <td>...</td>\n",
       "      <td>...</td>\n",
       "      <td>...</td>\n",
       "      <td>...</td>\n",
       "      <td>...</td>\n",
       "      <td>...</td>\n",
       "      <td>...</td>\n",
       "      <td>...</td>\n",
       "      <td>...</td>\n",
       "      <td>...</td>\n",
       "      <td>...</td>\n",
       "      <td>...</td>\n",
       "      <td>...</td>\n",
       "      <td>...</td>\n",
       "      <td>...</td>\n",
       "      <td>...</td>\n",
       "      <td>...</td>\n",
       "      <td>...</td>\n",
       "    </tr>\n",
       "    <tr>\n",
       "      <th>350</th>\n",
       "      <td>Rural+Urban</td>\n",
       "      <td>2022</td>\n",
       "      <td>October</td>\n",
       "      <td>165.2</td>\n",
       "      <td>210.9</td>\n",
       "      <td>170.9</td>\n",
       "      <td>170.9</td>\n",
       "      <td>186.5</td>\n",
       "      <td>163.8</td>\n",
       "      <td>199.7</td>\n",
       "      <td>...</td>\n",
       "      <td>180.5</td>\n",
       "      <td>170.4</td>\n",
       "      <td>178.7</td>\n",
       "      <td>162.9</td>\n",
       "      <td>168.2</td>\n",
       "      <td>173.4</td>\n",
       "      <td>172.1</td>\n",
       "      <td>170.5</td>\n",
       "      <td>176.7</td>\n",
       "      <td>2022-10-01</td>\n",
       "    </tr>\n",
       "    <tr>\n",
       "      <th>353</th>\n",
       "      <td>Rural+Urban</td>\n",
       "      <td>2022</td>\n",
       "      <td>November</td>\n",
       "      <td>167.4</td>\n",
       "      <td>209.4</td>\n",
       "      <td>181.4</td>\n",
       "      <td>172.3</td>\n",
       "      <td>188.9</td>\n",
       "      <td>160.7</td>\n",
       "      <td>183.1</td>\n",
       "      <td>...</td>\n",
       "      <td>181.3</td>\n",
       "      <td>171.4</td>\n",
       "      <td>179.8</td>\n",
       "      <td>163.0</td>\n",
       "      <td>168.5</td>\n",
       "      <td>173.7</td>\n",
       "      <td>173.6</td>\n",
       "      <td>171.1</td>\n",
       "      <td>176.5</td>\n",
       "      <td>2022-11-01</td>\n",
       "    </tr>\n",
       "    <tr>\n",
       "      <th>356</th>\n",
       "      <td>Rural+Urban</td>\n",
       "      <td>2022</td>\n",
       "      <td>December</td>\n",
       "      <td>169.2</td>\n",
       "      <td>209.0</td>\n",
       "      <td>190.2</td>\n",
       "      <td>173.6</td>\n",
       "      <td>188.5</td>\n",
       "      <td>158.0</td>\n",
       "      <td>159.9</td>\n",
       "      <td>...</td>\n",
       "      <td>182.0</td>\n",
       "      <td>172.1</td>\n",
       "      <td>181.1</td>\n",
       "      <td>163.4</td>\n",
       "      <td>168.9</td>\n",
       "      <td>174.1</td>\n",
       "      <td>175.8</td>\n",
       "      <td>172.0</td>\n",
       "      <td>175.7</td>\n",
       "      <td>2022-12-01</td>\n",
       "    </tr>\n",
       "    <tr>\n",
       "      <th>359</th>\n",
       "      <td>Rural+Urban</td>\n",
       "      <td>2023</td>\n",
       "      <td>January</td>\n",
       "      <td>173.8</td>\n",
       "      <td>210.7</td>\n",
       "      <td>194.5</td>\n",
       "      <td>174.6</td>\n",
       "      <td>187.2</td>\n",
       "      <td>158.3</td>\n",
       "      <td>153.9</td>\n",
       "      <td>...</td>\n",
       "      <td>182.0</td>\n",
       "      <td>172.9</td>\n",
       "      <td>182.3</td>\n",
       "      <td>163.6</td>\n",
       "      <td>169.5</td>\n",
       "      <td>174.3</td>\n",
       "      <td>178.6</td>\n",
       "      <td>172.8</td>\n",
       "      <td>176.5</td>\n",
       "      <td>2023-01-01</td>\n",
       "    </tr>\n",
       "    <tr>\n",
       "      <th>362</th>\n",
       "      <td>Rural+Urban</td>\n",
       "      <td>2023</td>\n",
       "      <td>February</td>\n",
       "      <td>174.4</td>\n",
       "      <td>207.7</td>\n",
       "      <td>175.2</td>\n",
       "      <td>177.3</td>\n",
       "      <td>179.3</td>\n",
       "      <td>169.5</td>\n",
       "      <td>152.7</td>\n",
       "      <td>...</td>\n",
       "      <td>182.1</td>\n",
       "      <td>174.2</td>\n",
       "      <td>184.4</td>\n",
       "      <td>164.2</td>\n",
       "      <td>170.3</td>\n",
       "      <td>175.0</td>\n",
       "      <td>181.0</td>\n",
       "      <td>174.1</td>\n",
       "      <td>177.2</td>\n",
       "      <td>2023-02-01</td>\n",
       "    </tr>\n",
       "  </tbody>\n",
       "</table>\n",
       "<p>121 rows × 31 columns</p>\n",
       "</div>"
      ],
      "text/plain": [
       "          sector  year     month  cereals_and_products  meat_and_fish    egg  \\\n",
       "2    Rural+Urban  2013   January                 108.4          107.3  110.0   \n",
       "5    Rural+Urban  2013  February                 110.4          110.2  112.8   \n",
       "8    Rural+Urban  2013     March                 111.4          109.7  111.2   \n",
       "11   Rural+Urban  2013     April                 111.6          110.9  106.6   \n",
       "14   Rural+Urban  2013       May                 112.3          111.3  104.7   \n",
       "..           ...   ...       ...                   ...            ...    ...   \n",
       "350  Rural+Urban  2022   October                 165.2          210.9  170.9   \n",
       "353  Rural+Urban  2022  November                 167.4          209.4  181.4   \n",
       "356  Rural+Urban  2022  December                 169.2          209.0  190.2   \n",
       "359  Rural+Urban  2023   January                 173.8          210.7  194.5   \n",
       "362  Rural+Urban  2023  February                 174.4          207.7  175.2   \n",
       "\n",
       "     milk_and_products  oils_and_fats  fruits  vegetables  ...  \\\n",
       "2                104.4          105.1   103.2       102.2  ...   \n",
       "5                104.9          105.5   103.6       103.2  ...   \n",
       "8                105.1          104.9   105.3       102.2  ...   \n",
       "11               105.7          104.4   108.9       105.5  ...   \n",
       "14               106.8          103.9   109.3       112.9  ...   \n",
       "..                 ...            ...     ...         ...  ...   \n",
       "350              170.9          186.5   163.8       199.7  ...   \n",
       "353              172.3          188.9   160.7       183.1  ...   \n",
       "356              173.6          188.5   158.0       159.9  ...   \n",
       "359              174.6          187.2   158.3       153.9  ...   \n",
       "362              177.3          179.3   169.5       152.7  ...   \n",
       "\n",
       "     fuel_and_light  household_goods_and_services  health  \\\n",
       "2             105.5                         104.8   104.0   \n",
       "5             106.0                         105.2   104.5   \n",
       "8             106.1                         105.6   104.9   \n",
       "11            106.5                         106.3   105.3   \n",
       "14            107.4                         106.9   105.9   \n",
       "..              ...                           ...     ...   \n",
       "350           180.5                         170.4   178.7   \n",
       "353           181.3                         171.4   179.8   \n",
       "356           182.0                         172.1   181.1   \n",
       "359           182.0                         172.9   182.3   \n",
       "362           182.1                         174.2   184.4   \n",
       "\n",
       "     transport_and_communication  recreation_and_amusement  education  \\\n",
       "2                          103.2                     103.1      103.6   \n",
       "5                          104.2                     103.6      103.9   \n",
       "8                          105.1                     103.7      104.0   \n",
       "11                         104.7                     104.2      105.0   \n",
       "14                         104.0                     104.8      105.6   \n",
       "..                           ...                       ...        ...   \n",
       "350                        162.9                     168.2      173.4   \n",
       "353                        163.0                     168.5      173.7   \n",
       "356                        163.4                     168.9      174.1   \n",
       "359                        163.6                     169.5      174.3   \n",
       "362                        164.2                     170.3      175.0   \n",
       "\n",
       "     personal_care_and_effects  miscellaneous  general_index       date  \n",
       "2                        104.5          103.9          104.6 2013-01-01  \n",
       "5                        104.5          104.4          105.3 2013-02-01  \n",
       "8                        104.3          104.7          105.5 2013-03-01  \n",
       "11                       102.9          104.8          106.1 2013-04-01  \n",
       "14                       102.3          104.8          106.9 2013-05-01  \n",
       "..                         ...            ...            ...        ...  \n",
       "350                      172.1          170.5          176.7 2022-10-01  \n",
       "353                      173.6          171.1          176.5 2022-11-01  \n",
       "356                      175.8          172.0          175.7 2022-12-01  \n",
       "359                      178.6          172.8          176.5 2023-01-01  \n",
       "362                      181.0          174.1          177.2 2023-02-01  \n",
       "\n",
       "[121 rows x 31 columns]"
      ]
     },
     "execution_count": 116,
     "metadata": {},
     "output_type": "execute_result"
    }
   ],
   "source": [
    "rural_urban_cpi"
   ]
  },
  {
   "cell_type": "code",
   "execution_count": 117,
   "id": "64506070-2d87-49a0-bf6e-fabee98a68a8",
   "metadata": {},
   "outputs": [
    {
     "data": {
      "image/png": "[encoded data removed]",
      "text/plain": [
       "<Figure size 1000x500 with 1 Axes>"
      ]
     },
     "metadata": {},
     "output_type": "display_data"
    }
   ],
   "source": [
    "import seaborn as sns  \n",
    "import matplotlib.pyplot as plt  \n",
    "\n",
    "# Create the plot\n",
    "plt.figure(figsize=(10, 5))\n",
    "sns.lineplot(data=rural_urban_cpi, x='date', y='general_index', label='General CPI Index')\n",
    "\n",
    "# Add labels and title\n",
    "plt.xlabel('Date')\n",
    "plt.ylabel('CPI - General Index')\n",
    "plt.title('Inflation Trend Analysis (General CPI Index)')\n",
    "plt.legend()\n",
    "\n",
    "# Show the plot\n",
    "plt.show()\n"
   ]
  },
  {
   "cell_type": "markdown",
   "id": "5a991ed9-56f6-4129-8105-4e8f44891617",
   "metadata": {},
   "source": [
    "From around 2013 to 2023, there is a steady increase in the CPI in India, which reflects a continuous rise in inflation. The general upward trend suggests that the cost of goods and services has gradually increased over this period, with occasional fluctuations. The sharp rise in the last few years points to a significant inflationary impact, especially around and after 2020."
   ]
  },
  {
   "cell_type": "markdown",
   "id": "809c7a45-7100-4b72-8546-dfa31c2ccbb1",
   "metadata": {},
   "source": [
    "# Seasonal and Cyclical Patterns\n",
    "- Now, I’ll decompose the CPI data into seasonal, trend, and residual components to identify patterns:"
   ]
  },
  {
   "cell_type": "code",
   "execution_count": 118,
   "id": "679ed472-249f-40f1-abc0-035a87760f52",
   "metadata": {},
   "outputs": [],
   "source": [
    "from statsmodels.tsa.seasonal import seasonal_decompose\n",
    "\n",
    "\n",
    "rural_urban_cpi.set_index('date', inplace=True)\n",
    "monthly_cpi = rural_urban_cpi['general_index'].resample('M').mean().interpolate(method='linear')\n",
    "decomposition = seasonal_decompose(monthly_cpi, model='multiplicative', period=12)"
   ]
  },
  {
   "cell_type": "code",
   "execution_count": 119,
   "id": "0fe49f04-166c-4825-9347-b5ae9921198c",
   "metadata": {},
   "outputs": [
    {
     "data": {
      "image/png": "[encoded data removed]",
      "text/plain": [
       "<Figure size 1200x600 with 1 Axes>"
      ]
     },
     "metadata": {},
     "output_type": "display_data"
    }
   ],
   "source": [
    "plt.figure(figsize=(12, 6))\n",
    "\n",
    "plt.plot(decomposition.observed, label=\"Observed\", color='blue', linewidth=2)\n",
    "plt.plot(decomposition.trend, label=\"Trend\", color='red', linewidth=2)\n",
    "plt.plot(decomposition.seasonal, label=\"Seasonal\", color='green', linewidth=2)\n",
    "plt.plot(decomposition.resid, label=\"Residual\", color='purple', linewidth=2)\n",
    "\n",
    "# Formatting the plot\n",
    "plt.title(\"Seasonal Decomposition of CPI (Observed, Trend, Seasonal, Residual)\", fontsize=14)\n",
    "plt.xlabel(\"Date\", fontsize=12)\n",
    "plt.ylabel(\"CPI Value\", fontsize=12)\n",
    "plt.legend()  # Show labels\n",
    "plt.grid(True, linestyle='--', alpha=0.6)\n",
    "\n",
    "plt.show()"
   ]
  },
  {
   "cell_type": "markdown",
   "id": "03939365-948c-4e6d-916c-3f523e15dede",
   "metadata": {},
   "source": [
    "The trend line (in red) closely follows the observed CPI values, which indicates a steady upward trend over time. The seasonal component (in green) is minimal, which suggests little seasonal fluctuation in the CPI. The residual component (in purple) is close to zero, which indicates minimal random variation, which implies that the CPI trend is consistent and primarily driven by long-term factors rather than seasonal or irregular influences."
   ]
  },
  {
   "cell_type": "markdown",
   "id": "9247c029-bd91-4410-b16e-c125888814fb",
   "metadata": {},
   "source": [
    "# Comparison Across Sectors or Regions\n",
    "\n",
    "- Now, let’s compare the average CPI across different sectors (Rural, Urban, Rural+Urban):"
   ]
  },
  {
   "cell_type": "code",
   "execution_count": 120,
   "id": "6e015b43-5500-4769-abad-efb66dc6e383",
   "metadata": {},
   "outputs": [
    {
     "data": {
      "image/png": "[encoded data removed]",
      "text/plain": [
       "<Figure size 1000x600 with 1 Axes>"
      ]
     },
     "metadata": {},
     "output_type": "display_data"
    }
   ],
   "source": [
    "sector_cpi_mean = df.groupby(['sector'])['general_index'].mean().reset_index()\n",
    "\n",
    "\n",
    "plt.figure(figsize=(10, 6))\n",
    "ax = sns.barplot(data=sector_cpi_mean, x='sector', y='general_index')\n",
    "\n",
    "# Add labels and title\n",
    "plt.xlabel(\"sector\", fontsize=12)\n",
    "plt.ylabel(\"Average CPI - General Index\", fontsize=12)\n",
    "plt.title(\"Average CPI Comparison Across Sectors (Rural, Urban, Rural+Urban)\")\n",
    "\n",
    "# Show the plot\n",
    "plt.show()"
   ]
  },
  {
   "cell_type": "markdown",
   "id": "e4b34247-ed9c-4bfc-9906-e88486c6461c",
   "metadata": {},
   "source": [
    "The CPI values are relatively consistent across all sectors, with only slight differences, which indicates that inflation, as measured by the CPI, affects rural and urban areas similarly. This suggests that price changes in goods and services are fairly uniform across these regions."
   ]
  },
  {
   "cell_type": "code",
   "execution_count": null,
   "id": "f773ae8e-fdac-4d3f-be87-b7895c90e8a6",
   "metadata": {},
   "outputs": [],
   "source": []
  },
  {
   "cell_type": "code",
   "execution_count": 121,
   "id": "de7f7829-e973-4663-a0c2-a70ace0e7b62",
   "metadata": {},
   "outputs": [],
   "source": [
    "cpi_categories = df[['cereals_and_products', 'meat_and_fish', 'egg', 'milk_and_products', 'oils_and_fats',\n",
    "                           'fruits', 'vegetables', 'fuel_and_light', 'housing', 'health', 'transport_and_communication',\n",
    "                           'recreation_and_amusement', 'education', 'personal_care_and_effects', 'miscellaneous', 'general_index']]\n",
    "\n",
    "cpi_categories = cpi_categories.apply(pd.to_numeric, errors='coerce')  # convert to numeric"
   ]
  },
  {
   "cell_type": "code",
   "execution_count": 122,
   "id": "9b20a3be-44de-4994-91ab-ce7e78bf3534",
   "metadata": {},
   "outputs": [
    {
     "data": {
      "text/html": [
       "<div>\n",
       "<style scoped>\n",
       "    .dataframe tbody tr th:only-of-type {\n",
       "        vertical-align: middle;\n",
       "    }\n",
       "\n",
       "    .dataframe tbody tr th {\n",
       "        vertical-align: top;\n",
       "    }\n",
       "\n",
       "    .dataframe thead th {\n",
       "        text-align: right;\n",
       "    }\n",
       "</style>\n",
       "<table border=\"1\" class=\"dataframe\">\n",
       "  <thead>\n",
       "    <tr style=\"text-align: right;\">\n",
       "      <th></th>\n",
       "      <th>cereals_and_products</th>\n",
       "      <th>meat_and_fish</th>\n",
       "      <th>egg</th>\n",
       "      <th>milk_and_products</th>\n",
       "      <th>oils_and_fats</th>\n",
       "      <th>fruits</th>\n",
       "      <th>vegetables</th>\n",
       "      <th>fuel_and_light</th>\n",
       "      <th>housing</th>\n",
       "      <th>health</th>\n",
       "      <th>transport_and_communication</th>\n",
       "      <th>recreation_and_amusement</th>\n",
       "      <th>education</th>\n",
       "      <th>personal_care_and_effects</th>\n",
       "      <th>miscellaneous</th>\n",
       "      <th>general_index</th>\n",
       "    </tr>\n",
       "  </thead>\n",
       "  <tbody>\n",
       "    <tr>\n",
       "      <th>0</th>\n",
       "      <td>107.5</td>\n",
       "      <td>106.3</td>\n",
       "      <td>108.1</td>\n",
       "      <td>104.9</td>\n",
       "      <td>106.1</td>\n",
       "      <td>103.9</td>\n",
       "      <td>101.9</td>\n",
       "      <td>105.5</td>\n",
       "      <td>NaN</td>\n",
       "      <td>104.0</td>\n",
       "      <td>103.3</td>\n",
       "      <td>103.4</td>\n",
       "      <td>103.8</td>\n",
       "      <td>104.7</td>\n",
       "      <td>104.0</td>\n",
       "      <td>105.1</td>\n",
       "    </tr>\n",
       "    <tr>\n",
       "      <th>1</th>\n",
       "      <td>110.5</td>\n",
       "      <td>109.1</td>\n",
       "      <td>113.0</td>\n",
       "      <td>103.6</td>\n",
       "      <td>103.4</td>\n",
       "      <td>102.3</td>\n",
       "      <td>102.9</td>\n",
       "      <td>105.4</td>\n",
       "      <td>100.3</td>\n",
       "      <td>104.1</td>\n",
       "      <td>103.2</td>\n",
       "      <td>102.9</td>\n",
       "      <td>103.5</td>\n",
       "      <td>104.3</td>\n",
       "      <td>103.7</td>\n",
       "      <td>104.0</td>\n",
       "    </tr>\n",
       "    <tr>\n",
       "      <th>2</th>\n",
       "      <td>108.4</td>\n",
       "      <td>107.3</td>\n",
       "      <td>110.0</td>\n",
       "      <td>104.4</td>\n",
       "      <td>105.1</td>\n",
       "      <td>103.2</td>\n",
       "      <td>102.2</td>\n",
       "      <td>105.5</td>\n",
       "      <td>100.3</td>\n",
       "      <td>104.0</td>\n",
       "      <td>103.2</td>\n",
       "      <td>103.1</td>\n",
       "      <td>103.6</td>\n",
       "      <td>104.5</td>\n",
       "      <td>103.9</td>\n",
       "      <td>104.6</td>\n",
       "    </tr>\n",
       "    <tr>\n",
       "      <th>3</th>\n",
       "      <td>109.2</td>\n",
       "      <td>108.7</td>\n",
       "      <td>110.2</td>\n",
       "      <td>105.4</td>\n",
       "      <td>106.7</td>\n",
       "      <td>104.0</td>\n",
       "      <td>102.4</td>\n",
       "      <td>106.2</td>\n",
       "      <td>NaN</td>\n",
       "      <td>104.4</td>\n",
       "      <td>103.9</td>\n",
       "      <td>104.0</td>\n",
       "      <td>104.1</td>\n",
       "      <td>104.6</td>\n",
       "      <td>104.4</td>\n",
       "      <td>105.8</td>\n",
       "    </tr>\n",
       "    <tr>\n",
       "      <th>4</th>\n",
       "      <td>112.9</td>\n",
       "      <td>112.9</td>\n",
       "      <td>116.9</td>\n",
       "      <td>104.0</td>\n",
       "      <td>103.5</td>\n",
       "      <td>103.1</td>\n",
       "      <td>104.9</td>\n",
       "      <td>105.7</td>\n",
       "      <td>100.4</td>\n",
       "      <td>104.7</td>\n",
       "      <td>104.4</td>\n",
       "      <td>103.3</td>\n",
       "      <td>103.7</td>\n",
       "      <td>104.3</td>\n",
       "      <td>104.3</td>\n",
       "      <td>104.7</td>\n",
       "    </tr>\n",
       "    <tr>\n",
       "      <th>...</th>\n",
       "      <td>...</td>\n",
       "      <td>...</td>\n",
       "      <td>...</td>\n",
       "      <td>...</td>\n",
       "      <td>...</td>\n",
       "      <td>...</td>\n",
       "      <td>...</td>\n",
       "      <td>...</td>\n",
       "      <td>...</td>\n",
       "      <td>...</td>\n",
       "      <td>...</td>\n",
       "      <td>...</td>\n",
       "      <td>...</td>\n",
       "      <td>...</td>\n",
       "      <td>...</td>\n",
       "      <td>...</td>\n",
       "    </tr>\n",
       "    <tr>\n",
       "      <th>360</th>\n",
       "      <td>174.2</td>\n",
       "      <td>205.2</td>\n",
       "      <td>173.9</td>\n",
       "      <td>177.0</td>\n",
       "      <td>183.4</td>\n",
       "      <td>167.2</td>\n",
       "      <td>140.9</td>\n",
       "      <td>181.6</td>\n",
       "      <td>NaN</td>\n",
       "      <td>186.6</td>\n",
       "      <td>169.0</td>\n",
       "      <td>172.8</td>\n",
       "      <td>178.5</td>\n",
       "      <td>180.7</td>\n",
       "      <td>177.9</td>\n",
       "      <td>178.0</td>\n",
       "    </tr>\n",
       "    <tr>\n",
       "      <th>361</th>\n",
       "      <td>174.7</td>\n",
       "      <td>212.2</td>\n",
       "      <td>177.2</td>\n",
       "      <td>177.9</td>\n",
       "      <td>172.2</td>\n",
       "      <td>172.1</td>\n",
       "      <td>175.8</td>\n",
       "      <td>182.8</td>\n",
       "      <td>173.5</td>\n",
       "      <td>180.8</td>\n",
       "      <td>159.8</td>\n",
       "      <td>168.4</td>\n",
       "      <td>172.5</td>\n",
       "      <td>181.4</td>\n",
       "      <td>170.0</td>\n",
       "      <td>176.3</td>\n",
       "    </tr>\n",
       "    <tr>\n",
       "      <th>362</th>\n",
       "      <td>174.4</td>\n",
       "      <td>207.7</td>\n",
       "      <td>175.2</td>\n",
       "      <td>177.3</td>\n",
       "      <td>179.3</td>\n",
       "      <td>169.5</td>\n",
       "      <td>152.7</td>\n",
       "      <td>182.1</td>\n",
       "      <td>173.5</td>\n",
       "      <td>184.4</td>\n",
       "      <td>164.2</td>\n",
       "      <td>170.3</td>\n",
       "      <td>175.0</td>\n",
       "      <td>181.0</td>\n",
       "      <td>174.1</td>\n",
       "      <td>177.2</td>\n",
       "    </tr>\n",
       "    <tr>\n",
       "      <th>363</th>\n",
       "      <td>174.3</td>\n",
       "      <td>205.2</td>\n",
       "      <td>173.9</td>\n",
       "      <td>177.0</td>\n",
       "      <td>183.3</td>\n",
       "      <td>167.2</td>\n",
       "      <td>140.9</td>\n",
       "      <td>181.4</td>\n",
       "      <td>NaN</td>\n",
       "      <td>186.6</td>\n",
       "      <td>169.0</td>\n",
       "      <td>172.8</td>\n",
       "      <td>178.5</td>\n",
       "      <td>180.7</td>\n",
       "      <td>177.9</td>\n",
       "      <td>178.0</td>\n",
       "    </tr>\n",
       "    <tr>\n",
       "      <th>364</th>\n",
       "      <td>174.7</td>\n",
       "      <td>212.2</td>\n",
       "      <td>177.2</td>\n",
       "      <td>177.9</td>\n",
       "      <td>172.2</td>\n",
       "      <td>172.1</td>\n",
       "      <td>175.9</td>\n",
       "      <td>182.6</td>\n",
       "      <td>173.5</td>\n",
       "      <td>180.8</td>\n",
       "      <td>159.8</td>\n",
       "      <td>168.4</td>\n",
       "      <td>172.5</td>\n",
       "      <td>181.5</td>\n",
       "      <td>170.0</td>\n",
       "      <td>176.3</td>\n",
       "    </tr>\n",
       "  </tbody>\n",
       "</table>\n",
       "<p>365 rows × 16 columns</p>\n",
       "</div>"
      ],
      "text/plain": [
       "     cereals_and_products  meat_and_fish    egg  milk_and_products  \\\n",
       "0                   107.5          106.3  108.1              104.9   \n",
       "1                   110.5          109.1  113.0              103.6   \n",
       "2                   108.4          107.3  110.0              104.4   \n",
       "3                   109.2          108.7  110.2              105.4   \n",
       "4                   112.9          112.9  116.9              104.0   \n",
       "..                    ...            ...    ...                ...   \n",
       "360                 174.2          205.2  173.9              177.0   \n",
       "361                 174.7          212.2  177.2              177.9   \n",
       "362                 174.4          207.7  175.2              177.3   \n",
       "363                 174.3          205.2  173.9              177.0   \n",
       "364                 174.7          212.2  177.2              177.9   \n",
       "\n",
       "     oils_and_fats  fruits  vegetables  fuel_and_light  housing  health  \\\n",
       "0            106.1   103.9       101.9           105.5      NaN   104.0   \n",
       "1            103.4   102.3       102.9           105.4    100.3   104.1   \n",
       "2            105.1   103.2       102.2           105.5    100.3   104.0   \n",
       "3            106.7   104.0       102.4           106.2      NaN   104.4   \n",
       "4            103.5   103.1       104.9           105.7    100.4   104.7   \n",
       "..             ...     ...         ...             ...      ...     ...   \n",
       "360          183.4   167.2       140.9           181.6      NaN   186.6   \n",
       "361          172.2   172.1       175.8           182.8    173.5   180.8   \n",
       "362          179.3   169.5       152.7           182.1    173.5   184.4   \n",
       "363          183.3   167.2       140.9           181.4      NaN   186.6   \n",
       "364          172.2   172.1       175.9           182.6    173.5   180.8   \n",
       "\n",
       "     transport_and_communication  recreation_and_amusement  education  \\\n",
       "0                          103.3                     103.4      103.8   \n",
       "1                          103.2                     102.9      103.5   \n",
       "2                          103.2                     103.1      103.6   \n",
       "3                          103.9                     104.0      104.1   \n",
       "4                          104.4                     103.3      103.7   \n",
       "..                           ...                       ...        ...   \n",
       "360                        169.0                     172.8      178.5   \n",
       "361                        159.8                     168.4      172.5   \n",
       "362                        164.2                     170.3      175.0   \n",
       "363                        169.0                     172.8      178.5   \n",
       "364                        159.8                     168.4      172.5   \n",
       "\n",
       "     personal_care_and_effects  miscellaneous  general_index  \n",
       "0                        104.7          104.0          105.1  \n",
       "1                        104.3          103.7          104.0  \n",
       "2                        104.5          103.9          104.6  \n",
       "3                        104.6          104.4          105.8  \n",
       "4                        104.3          104.3          104.7  \n",
       "..                         ...            ...            ...  \n",
       "360                      180.7          177.9          178.0  \n",
       "361                      181.4          170.0          176.3  \n",
       "362                      181.0          174.1          177.2  \n",
       "363                      180.7          177.9          178.0  \n",
       "364                      181.5          170.0          176.3  \n",
       "\n",
       "[365 rows x 16 columns]"
      ]
     },
     "execution_count": 122,
     "metadata": {},
     "output_type": "execute_result"
    }
   ],
   "source": [
    "cpi_categories"
   ]
  },
  {
   "cell_type": "code",
   "execution_count": 123,
   "id": "c3d325dc-c0bc-4426-9c0c-3a8355bc7c92",
   "metadata": {},
   "outputs": [],
   "source": [
    "correlation_matrix = cpi_categories.corr()"
   ]
  },
  {
   "cell_type": "code",
   "execution_count": 124,
   "id": "8d16fa76-83ed-4c97-bbac-3993bee11d21",
   "metadata": {},
   "outputs": [
    {
     "data": {
      "text/html": [
       "<div>\n",
       "<style scoped>\n",
       "    .dataframe tbody tr th:only-of-type {\n",
       "        vertical-align: middle;\n",
       "    }\n",
       "\n",
       "    .dataframe tbody tr th {\n",
       "        vertical-align: top;\n",
       "    }\n",
       "\n",
       "    .dataframe thead th {\n",
       "        text-align: right;\n",
       "    }\n",
       "</style>\n",
       "<table border=\"1\" class=\"dataframe\">\n",
       "  <thead>\n",
       "    <tr style=\"text-align: right;\">\n",
       "      <th></th>\n",
       "      <th>cereals_and_products</th>\n",
       "      <th>meat_and_fish</th>\n",
       "      <th>egg</th>\n",
       "      <th>milk_and_products</th>\n",
       "      <th>oils_and_fats</th>\n",
       "      <th>fruits</th>\n",
       "      <th>vegetables</th>\n",
       "      <th>fuel_and_light</th>\n",
       "      <th>housing</th>\n",
       "      <th>health</th>\n",
       "      <th>transport_and_communication</th>\n",
       "      <th>recreation_and_amusement</th>\n",
       "      <th>education</th>\n",
       "      <th>personal_care_and_effects</th>\n",
       "      <th>miscellaneous</th>\n",
       "      <th>general_index</th>\n",
       "    </tr>\n",
       "  </thead>\n",
       "  <tbody>\n",
       "    <tr>\n",
       "      <th>cereals_and_products</th>\n",
       "      <td>1.000000</td>\n",
       "      <td>0.936088</td>\n",
       "      <td>0.920298</td>\n",
       "      <td>0.978281</td>\n",
       "      <td>0.835740</td>\n",
       "      <td>0.904204</td>\n",
       "      <td>0.582257</td>\n",
       "      <td>0.936357</td>\n",
       "      <td>0.963590</td>\n",
       "      <td>0.952303</td>\n",
       "      <td>0.913571</td>\n",
       "      <td>0.952961</td>\n",
       "      <td>0.952354</td>\n",
       "      <td>0.965539</td>\n",
       "      <td>0.954863</td>\n",
       "      <td>0.969758</td>\n",
       "    </tr>\n",
       "    <tr>\n",
       "      <th>meat_and_fish</th>\n",
       "      <td>0.936088</td>\n",
       "      <td>1.000000</td>\n",
       "      <td>0.958486</td>\n",
       "      <td>0.948047</td>\n",
       "      <td>0.929413</td>\n",
       "      <td>0.893158</td>\n",
       "      <td>0.614168</td>\n",
       "      <td>0.932032</td>\n",
       "      <td>0.944540</td>\n",
       "      <td>0.968236</td>\n",
       "      <td>0.961164</td>\n",
       "      <td>0.966051</td>\n",
       "      <td>0.941889</td>\n",
       "      <td>0.986152</td>\n",
       "      <td>0.972195</td>\n",
       "      <td>0.975611</td>\n",
       "    </tr>\n",
       "    <tr>\n",
       "      <th>egg</th>\n",
       "      <td>0.920298</td>\n",
       "      <td>0.958486</td>\n",
       "      <td>1.000000</td>\n",
       "      <td>0.927769</td>\n",
       "      <td>0.902606</td>\n",
       "      <td>0.846174</td>\n",
       "      <td>0.608180</td>\n",
       "      <td>0.912386</td>\n",
       "      <td>0.931014</td>\n",
       "      <td>0.946648</td>\n",
       "      <td>0.936133</td>\n",
       "      <td>0.940178</td>\n",
       "      <td>0.920434</td>\n",
       "      <td>0.964577</td>\n",
       "      <td>0.949330</td>\n",
       "      <td>0.954838</td>\n",
       "    </tr>\n",
       "    <tr>\n",
       "      <th>milk_and_products</th>\n",
       "      <td>0.978281</td>\n",
       "      <td>0.948047</td>\n",
       "      <td>0.927769</td>\n",
       "      <td>1.000000</td>\n",
       "      <td>0.856929</td>\n",
       "      <td>0.941188</td>\n",
       "      <td>0.577734</td>\n",
       "      <td>0.945304</td>\n",
       "      <td>0.981278</td>\n",
       "      <td>0.967199</td>\n",
       "      <td>0.918134</td>\n",
       "      <td>0.971093</td>\n",
       "      <td>0.977767</td>\n",
       "      <td>0.964898</td>\n",
       "      <td>0.967568</td>\n",
       "      <td>0.985070</td>\n",
       "    </tr>\n",
       "    <tr>\n",
       "      <th>oils_and_fats</th>\n",
       "      <td>0.835740</td>\n",
       "      <td>0.929413</td>\n",
       "      <td>0.902606</td>\n",
       "      <td>0.856929</td>\n",
       "      <td>1.000000</td>\n",
       "      <td>0.808059</td>\n",
       "      <td>0.460572</td>\n",
       "      <td>0.927878</td>\n",
       "      <td>0.851395</td>\n",
       "      <td>0.920110</td>\n",
       "      <td>0.971347</td>\n",
       "      <td>0.917494</td>\n",
       "      <td>0.847736</td>\n",
       "      <td>0.921764</td>\n",
       "      <td>0.931460</td>\n",
       "      <td>0.914509</td>\n",
       "    </tr>\n",
       "    <tr>\n",
       "      <th>fruits</th>\n",
       "      <td>0.904204</td>\n",
       "      <td>0.893158</td>\n",
       "      <td>0.846174</td>\n",
       "      <td>0.941188</td>\n",
       "      <td>0.808059</td>\n",
       "      <td>1.000000</td>\n",
       "      <td>0.553701</td>\n",
       "      <td>0.891488</td>\n",
       "      <td>0.936356</td>\n",
       "      <td>0.895997</td>\n",
       "      <td>0.853697</td>\n",
       "      <td>0.903154</td>\n",
       "      <td>0.910832</td>\n",
       "      <td>0.891989</td>\n",
       "      <td>0.897843</td>\n",
       "      <td>0.924992</td>\n",
       "    </tr>\n",
       "    <tr>\n",
       "      <th>vegetables</th>\n",
       "      <td>0.582257</td>\n",
       "      <td>0.614168</td>\n",
       "      <td>0.608180</td>\n",
       "      <td>0.577734</td>\n",
       "      <td>0.460572</td>\n",
       "      <td>0.553701</td>\n",
       "      <td>1.000000</td>\n",
       "      <td>0.493003</td>\n",
       "      <td>0.634510</td>\n",
       "      <td>0.547994</td>\n",
       "      <td>0.524637</td>\n",
       "      <td>0.548237</td>\n",
       "      <td>0.571334</td>\n",
       "      <td>0.594531</td>\n",
       "      <td>0.553092</td>\n",
       "      <td>0.616267</td>\n",
       "    </tr>\n",
       "    <tr>\n",
       "      <th>fuel_and_light</th>\n",
       "      <td>0.936357</td>\n",
       "      <td>0.932032</td>\n",
       "      <td>0.912386</td>\n",
       "      <td>0.945304</td>\n",
       "      <td>0.927878</td>\n",
       "      <td>0.891488</td>\n",
       "      <td>0.493003</td>\n",
       "      <td>1.000000</td>\n",
       "      <td>0.927042</td>\n",
       "      <td>0.976021</td>\n",
       "      <td>0.967982</td>\n",
       "      <td>0.978188</td>\n",
       "      <td>0.942411</td>\n",
       "      <td>0.955313</td>\n",
       "      <td>0.977670</td>\n",
       "      <td>0.969113</td>\n",
       "    </tr>\n",
       "    <tr>\n",
       "      <th>housing</th>\n",
       "      <td>0.963590</td>\n",
       "      <td>0.944540</td>\n",
       "      <td>0.931014</td>\n",
       "      <td>0.981278</td>\n",
       "      <td>0.851395</td>\n",
       "      <td>0.936356</td>\n",
       "      <td>0.634510</td>\n",
       "      <td>0.927042</td>\n",
       "      <td>1.000000</td>\n",
       "      <td>0.974505</td>\n",
       "      <td>0.907393</td>\n",
       "      <td>0.973939</td>\n",
       "      <td>0.994764</td>\n",
       "      <td>0.964413</td>\n",
       "      <td>0.970385</td>\n",
       "      <td>0.980883</td>\n",
       "    </tr>\n",
       "    <tr>\n",
       "      <th>health</th>\n",
       "      <td>0.952303</td>\n",
       "      <td>0.968236</td>\n",
       "      <td>0.946648</td>\n",
       "      <td>0.967199</td>\n",
       "      <td>0.920110</td>\n",
       "      <td>0.895997</td>\n",
       "      <td>0.547994</td>\n",
       "      <td>0.976021</td>\n",
       "      <td>0.974505</td>\n",
       "      <td>1.000000</td>\n",
       "      <td>0.972382</td>\n",
       "      <td>0.997594</td>\n",
       "      <td>0.981640</td>\n",
       "      <td>0.985409</td>\n",
       "      <td>0.998284</td>\n",
       "      <td>0.990248</td>\n",
       "    </tr>\n",
       "    <tr>\n",
       "      <th>transport_and_communication</th>\n",
       "      <td>0.913571</td>\n",
       "      <td>0.961164</td>\n",
       "      <td>0.936133</td>\n",
       "      <td>0.918134</td>\n",
       "      <td>0.971347</td>\n",
       "      <td>0.853697</td>\n",
       "      <td>0.524637</td>\n",
       "      <td>0.967982</td>\n",
       "      <td>0.907393</td>\n",
       "      <td>0.972382</td>\n",
       "      <td>1.000000</td>\n",
       "      <td>0.970701</td>\n",
       "      <td>0.919880</td>\n",
       "      <td>0.970351</td>\n",
       "      <td>0.981195</td>\n",
       "      <td>0.963198</td>\n",
       "    </tr>\n",
       "    <tr>\n",
       "      <th>recreation_and_amusement</th>\n",
       "      <td>0.952961</td>\n",
       "      <td>0.966051</td>\n",
       "      <td>0.940178</td>\n",
       "      <td>0.971093</td>\n",
       "      <td>0.917494</td>\n",
       "      <td>0.903154</td>\n",
       "      <td>0.548237</td>\n",
       "      <td>0.978188</td>\n",
       "      <td>0.973939</td>\n",
       "      <td>0.997594</td>\n",
       "      <td>0.970701</td>\n",
       "      <td>1.000000</td>\n",
       "      <td>0.983323</td>\n",
       "      <td>0.981642</td>\n",
       "      <td>0.997460</td>\n",
       "      <td>0.990422</td>\n",
       "    </tr>\n",
       "    <tr>\n",
       "      <th>education</th>\n",
       "      <td>0.952354</td>\n",
       "      <td>0.941889</td>\n",
       "      <td>0.920434</td>\n",
       "      <td>0.977767</td>\n",
       "      <td>0.847736</td>\n",
       "      <td>0.910832</td>\n",
       "      <td>0.571334</td>\n",
       "      <td>0.942411</td>\n",
       "      <td>0.994764</td>\n",
       "      <td>0.981640</td>\n",
       "      <td>0.919880</td>\n",
       "      <td>0.983323</td>\n",
       "      <td>1.000000</td>\n",
       "      <td>0.961293</td>\n",
       "      <td>0.977121</td>\n",
       "      <td>0.979515</td>\n",
       "    </tr>\n",
       "    <tr>\n",
       "      <th>personal_care_and_effects</th>\n",
       "      <td>0.965539</td>\n",
       "      <td>0.986152</td>\n",
       "      <td>0.964577</td>\n",
       "      <td>0.964898</td>\n",
       "      <td>0.921764</td>\n",
       "      <td>0.891989</td>\n",
       "      <td>0.594531</td>\n",
       "      <td>0.955313</td>\n",
       "      <td>0.964413</td>\n",
       "      <td>0.985409</td>\n",
       "      <td>0.970351</td>\n",
       "      <td>0.981642</td>\n",
       "      <td>0.961293</td>\n",
       "      <td>1.000000</td>\n",
       "      <td>0.988381</td>\n",
       "      <td>0.988399</td>\n",
       "    </tr>\n",
       "    <tr>\n",
       "      <th>miscellaneous</th>\n",
       "      <td>0.954863</td>\n",
       "      <td>0.972195</td>\n",
       "      <td>0.949330</td>\n",
       "      <td>0.967568</td>\n",
       "      <td>0.931460</td>\n",
       "      <td>0.897843</td>\n",
       "      <td>0.553092</td>\n",
       "      <td>0.977670</td>\n",
       "      <td>0.970385</td>\n",
       "      <td>0.998284</td>\n",
       "      <td>0.981195</td>\n",
       "      <td>0.997460</td>\n",
       "      <td>0.977121</td>\n",
       "      <td>0.988381</td>\n",
       "      <td>1.000000</td>\n",
       "      <td>0.991833</td>\n",
       "    </tr>\n",
       "    <tr>\n",
       "      <th>general_index</th>\n",
       "      <td>0.969758</td>\n",
       "      <td>0.975611</td>\n",
       "      <td>0.954838</td>\n",
       "      <td>0.985070</td>\n",
       "      <td>0.914509</td>\n",
       "      <td>0.924992</td>\n",
       "      <td>0.616267</td>\n",
       "      <td>0.969113</td>\n",
       "      <td>0.980883</td>\n",
       "      <td>0.990248</td>\n",
       "      <td>0.963198</td>\n",
       "      <td>0.990422</td>\n",
       "      <td>0.979515</td>\n",
       "      <td>0.988399</td>\n",
       "      <td>0.991833</td>\n",
       "      <td>1.000000</td>\n",
       "    </tr>\n",
       "  </tbody>\n",
       "</table>\n",
       "</div>"
      ],
      "text/plain": [
       "                             cereals_and_products  meat_and_fish       egg  \\\n",
       "cereals_and_products                     1.000000       0.936088  0.920298   \n",
       "meat_and_fish                            0.936088       1.000000  0.958486   \n",
       "egg                                      0.920298       0.958486  1.000000   \n",
       "milk_and_products                        0.978281       0.948047  0.927769   \n",
       "oils_and_fats                            0.835740       0.929413  0.902606   \n",
       "fruits                                   0.904204       0.893158  0.846174   \n",
       "vegetables                               0.582257       0.614168  0.608180   \n",
       "fuel_and_light                           0.936357       0.932032  0.912386   \n",
       "housing                                  0.963590       0.944540  0.931014   \n",
       "health                                   0.952303       0.968236  0.946648   \n",
       "transport_and_communication              0.913571       0.961164  0.936133   \n",
       "recreation_and_amusement                 0.952961       0.966051  0.940178   \n",
       "education                                0.952354       0.941889  0.920434   \n",
       "personal_care_and_effects                0.965539       0.986152  0.964577   \n",
       "miscellaneous                            0.954863       0.972195  0.949330   \n",
       "general_index                            0.969758       0.975611  0.954838   \n",
       "\n",
       "                             milk_and_products  oils_and_fats    fruits  \\\n",
       "cereals_and_products                  0.978281       0.835740  0.904204   \n",
       "meat_and_fish                         0.948047       0.929413  0.893158   \n",
       "egg                                   0.927769       0.902606  0.846174   \n",
       "milk_and_products                     1.000000       0.856929  0.941188   \n",
       "oils_and_fats                         0.856929       1.000000  0.808059   \n",
       "fruits                                0.941188       0.808059  1.000000   \n",
       "vegetables                            0.577734       0.460572  0.553701   \n",
       "fuel_and_light                        0.945304       0.927878  0.891488   \n",
       "housing                               0.981278       0.851395  0.936356   \n",
       "health                                0.967199       0.920110  0.895997   \n",
       "transport_and_communication           0.918134       0.971347  0.853697   \n",
       "recreation_and_amusement              0.971093       0.917494  0.903154   \n",
       "education                             0.977767       0.847736  0.910832   \n",
       "personal_care_and_effects             0.964898       0.921764  0.891989   \n",
       "miscellaneous                         0.967568       0.931460  0.897843   \n",
       "general_index                         0.985070       0.914509  0.924992   \n",
       "\n",
       "                             vegetables  fuel_and_light   housing    health  \\\n",
       "cereals_and_products           0.582257        0.936357  0.963590  0.952303   \n",
       "meat_and_fish                  0.614168        0.932032  0.944540  0.968236   \n",
       "egg                            0.608180        0.912386  0.931014  0.946648   \n",
       "milk_and_products              0.577734        0.945304  0.981278  0.967199   \n",
       "oils_and_fats                  0.460572        0.927878  0.851395  0.920110   \n",
       "fruits                         0.553701        0.891488  0.936356  0.895997   \n",
       "vegetables                     1.000000        0.493003  0.634510  0.547994   \n",
       "fuel_and_light                 0.493003        1.000000  0.927042  0.976021   \n",
       "housing                        0.634510        0.927042  1.000000  0.974505   \n",
       "health                         0.547994        0.976021  0.974505  1.000000   \n",
       "transport_and_communication    0.524637        0.967982  0.907393  0.972382   \n",
       "recreation_and_amusement       0.548237        0.978188  0.973939  0.997594   \n",
       "education                      0.571334        0.942411  0.994764  0.981640   \n",
       "personal_care_and_effects      0.594531        0.955313  0.964413  0.985409   \n",
       "miscellaneous                  0.553092        0.977670  0.970385  0.998284   \n",
       "general_index                  0.616267        0.969113  0.980883  0.990248   \n",
       "\n",
       "                             transport_and_communication  \\\n",
       "cereals_and_products                            0.913571   \n",
       "meat_and_fish                                   0.961164   \n",
       "egg                                             0.936133   \n",
       "milk_and_products                               0.918134   \n",
       "oils_and_fats                                   0.971347   \n",
       "fruits                                          0.853697   \n",
       "vegetables                                      0.524637   \n",
       "fuel_and_light                                  0.967982   \n",
       "housing                                         0.907393   \n",
       "health                                          0.972382   \n",
       "transport_and_communication                     1.000000   \n",
       "recreation_and_amusement                        0.970701   \n",
       "education                                       0.919880   \n",
       "personal_care_and_effects                       0.970351   \n",
       "miscellaneous                                   0.981195   \n",
       "general_index                                   0.963198   \n",
       "\n",
       "                             recreation_and_amusement  education  \\\n",
       "cereals_and_products                         0.952961   0.952354   \n",
       "meat_and_fish                                0.966051   0.941889   \n",
       "egg                                          0.940178   0.920434   \n",
       "milk_and_products                            0.971093   0.977767   \n",
       "oils_and_fats                                0.917494   0.847736   \n",
       "fruits                                       0.903154   0.910832   \n",
       "vegetables                                   0.548237   0.571334   \n",
       "fuel_and_light                               0.978188   0.942411   \n",
       "housing                                      0.973939   0.994764   \n",
       "health                                       0.997594   0.981640   \n",
       "transport_and_communication                  0.970701   0.919880   \n",
       "recreation_and_amusement                     1.000000   0.983323   \n",
       "education                                    0.983323   1.000000   \n",
       "personal_care_and_effects                    0.981642   0.961293   \n",
       "miscellaneous                                0.997460   0.977121   \n",
       "general_index                                0.990422   0.979515   \n",
       "\n",
       "                             personal_care_and_effects  miscellaneous  \\\n",
       "cereals_and_products                          0.965539       0.954863   \n",
       "meat_and_fish                                 0.986152       0.972195   \n",
       "egg                                           0.964577       0.949330   \n",
       "milk_and_products                             0.964898       0.967568   \n",
       "oils_and_fats                                 0.921764       0.931460   \n",
       "fruits                                        0.891989       0.897843   \n",
       "vegetables                                    0.594531       0.553092   \n",
       "fuel_and_light                                0.955313       0.977670   \n",
       "housing                                       0.964413       0.970385   \n",
       "health                                        0.985409       0.998284   \n",
       "transport_and_communication                   0.970351       0.981195   \n",
       "recreation_and_amusement                      0.981642       0.997460   \n",
       "education                                     0.961293       0.977121   \n",
       "personal_care_and_effects                     1.000000       0.988381   \n",
       "miscellaneous                                 0.988381       1.000000   \n",
       "general_index                                 0.988399       0.991833   \n",
       "\n",
       "                             general_index  \n",
       "cereals_and_products              0.969758  \n",
       "meat_and_fish                     0.975611  \n",
       "egg                               0.954838  \n",
       "milk_and_products                 0.985070  \n",
       "oils_and_fats                     0.914509  \n",
       "fruits                            0.924992  \n",
       "vegetables                        0.616267  \n",
       "fuel_and_light                    0.969113  \n",
       "housing                           0.980883  \n",
       "health                            0.990248  \n",
       "transport_and_communication       0.963198  \n",
       "recreation_and_amusement          0.990422  \n",
       "education                         0.979515  \n",
       "personal_care_and_effects         0.988399  \n",
       "miscellaneous                     0.991833  \n",
       "general_index                     1.000000  "
      ]
     },
     "execution_count": 124,
     "metadata": {},
     "output_type": "execute_result"
    }
   ],
   "source": [
    "correlation_matrix"
   ]
  },
  {
   "cell_type": "code",
   "execution_count": 125,
   "id": "ddf88952-496d-4b18-876f-54d66c287b66",
   "metadata": {},
   "outputs": [
    {
     "data": {
      "image/png": "[encoded data removed]",
      "text/plain": [
       "<Figure size 1000x600 with 2 Axes>"
      ]
     },
     "metadata": {},
     "output_type": "display_data"
    }
   ],
   "source": [
    "# Set the figure size\n",
    "plt.figure(figsize=(10, 6))\n",
    "\n",
    "# Create the heatmap\n",
    "sns.heatmap(correlation_matrix, annot=True, cmap='RdBu_r', center=0, vmin=-1, vmax=1, linewidths=0.5)\n",
    "\n",
    "# Add labels and title\n",
    "plt.xlabel(\"CPI Category\", fontsize=12)\n",
    "plt.ylabel(\"CPI Category\", fontsize=12)\n",
    "plt.title(\"Correlation between CPI Categories and General Index\", fontsize=14)\n",
    "\n",
    "# Show the plot\n",
    "plt.show()\n"
   ]
  },
  {
   "cell_type": "markdown",
   "id": "88a47afb-7aee-408a-9f50-e0b846960f42",
   "metadata": {},
   "source": [
    "Categories such as Housing, Transport and communication, and Miscellaneous show high positive correlations with each other and with the overall index, which suggests that changes in these categories have a significant impact on the general CPI. Conversely, categories like Egg and Vegetables show relatively lower correlations with other categories, which indicates more independent or variable price movements in these areas."
   ]
  },
  {
   "cell_type": "markdown",
   "id": "303eb7be-891c-4b78-8398-921688080ad6",
   "metadata": {},
   "source": [
    "# CPI and Specific Sector Analysis\n",
    "\n",
    "- Now, let’s analyze the inflation trends within specific sectors over time:"
   ]
  },
  {
   "cell_type": "code",
   "execution_count": 126,
   "id": "82e0b0f1-3b22-437f-b97f-13df7ec1a170",
   "metadata": {},
   "outputs": [],
   "source": [
    "sectors_to_analyze = ['fuel_and_light', 'health', 'housing', 'cereals_and_products']\n",
    "sector_data = rural_urban_cpi[sectors_to_analyze].fillna(method='ffill').reset_index()"
   ]
  },
  {
   "cell_type": "code",
   "execution_count": 127,
   "id": "c6abc0b5-f1b8-407e-9e82-67f384ef0381",
   "metadata": {},
   "outputs": [
    {
     "data": {
      "text/html": [
       "<div>\n",
       "<style scoped>\n",
       "    .dataframe tbody tr th:only-of-type {\n",
       "        vertical-align: middle;\n",
       "    }\n",
       "\n",
       "    .dataframe tbody tr th {\n",
       "        vertical-align: top;\n",
       "    }\n",
       "\n",
       "    .dataframe thead th {\n",
       "        text-align: right;\n",
       "    }\n",
       "</style>\n",
       "<table border=\"1\" class=\"dataframe\">\n",
       "  <thead>\n",
       "    <tr style=\"text-align: right;\">\n",
       "      <th></th>\n",
       "      <th>date</th>\n",
       "      <th>fuel_and_light</th>\n",
       "      <th>health</th>\n",
       "      <th>housing</th>\n",
       "      <th>cereals_and_products</th>\n",
       "    </tr>\n",
       "  </thead>\n",
       "  <tbody>\n",
       "    <tr>\n",
       "      <th>0</th>\n",
       "      <td>2013-01-01</td>\n",
       "      <td>105.5</td>\n",
       "      <td>104.0</td>\n",
       "      <td>100.3</td>\n",
       "      <td>108.4</td>\n",
       "    </tr>\n",
       "    <tr>\n",
       "      <th>1</th>\n",
       "      <td>2013-02-01</td>\n",
       "      <td>106.0</td>\n",
       "      <td>104.5</td>\n",
       "      <td>100.4</td>\n",
       "      <td>110.4</td>\n",
       "    </tr>\n",
       "    <tr>\n",
       "      <th>2</th>\n",
       "      <td>2013-03-01</td>\n",
       "      <td>106.1</td>\n",
       "      <td>104.9</td>\n",
       "      <td>100.4</td>\n",
       "      <td>111.4</td>\n",
       "    </tr>\n",
       "    <tr>\n",
       "      <th>3</th>\n",
       "      <td>2013-04-01</td>\n",
       "      <td>106.5</td>\n",
       "      <td>105.3</td>\n",
       "      <td>100.5</td>\n",
       "      <td>111.6</td>\n",
       "    </tr>\n",
       "    <tr>\n",
       "      <th>4</th>\n",
       "      <td>2013-05-01</td>\n",
       "      <td>107.4</td>\n",
       "      <td>105.9</td>\n",
       "      <td>100.5</td>\n",
       "      <td>112.3</td>\n",
       "    </tr>\n",
       "    <tr>\n",
       "      <th>...</th>\n",
       "      <td>...</td>\n",
       "      <td>...</td>\n",
       "      <td>...</td>\n",
       "      <td>...</td>\n",
       "      <td>...</td>\n",
       "    </tr>\n",
       "    <tr>\n",
       "      <th>116</th>\n",
       "      <td>2022-10-01</td>\n",
       "      <td>180.5</td>\n",
       "      <td>178.7</td>\n",
       "      <td>171.2</td>\n",
       "      <td>165.2</td>\n",
       "    </tr>\n",
       "    <tr>\n",
       "      <th>117</th>\n",
       "      <td>2022-11-01</td>\n",
       "      <td>181.3</td>\n",
       "      <td>179.8</td>\n",
       "      <td>171.8</td>\n",
       "      <td>167.4</td>\n",
       "    </tr>\n",
       "    <tr>\n",
       "      <th>118</th>\n",
       "      <td>2022-12-01</td>\n",
       "      <td>182.0</td>\n",
       "      <td>181.1</td>\n",
       "      <td>170.7</td>\n",
       "      <td>169.2</td>\n",
       "    </tr>\n",
       "    <tr>\n",
       "      <th>119</th>\n",
       "      <td>2023-01-01</td>\n",
       "      <td>182.0</td>\n",
       "      <td>182.3</td>\n",
       "      <td>172.1</td>\n",
       "      <td>173.8</td>\n",
       "    </tr>\n",
       "    <tr>\n",
       "      <th>120</th>\n",
       "      <td>2023-02-01</td>\n",
       "      <td>182.1</td>\n",
       "      <td>184.4</td>\n",
       "      <td>173.5</td>\n",
       "      <td>174.4</td>\n",
       "    </tr>\n",
       "  </tbody>\n",
       "</table>\n",
       "<p>121 rows × 5 columns</p>\n",
       "</div>"
      ],
      "text/plain": [
       "          date  fuel_and_light  health housing  cereals_and_products\n",
       "0   2013-01-01           105.5   104.0   100.3                 108.4\n",
       "1   2013-02-01           106.0   104.5   100.4                 110.4\n",
       "2   2013-03-01           106.1   104.9   100.4                 111.4\n",
       "3   2013-04-01           106.5   105.3   100.5                 111.6\n",
       "4   2013-05-01           107.4   105.9   100.5                 112.3\n",
       "..         ...             ...     ...     ...                   ...\n",
       "116 2022-10-01           180.5   178.7   171.2                 165.2\n",
       "117 2022-11-01           181.3   179.8   171.8                 167.4\n",
       "118 2022-12-01           182.0   181.1   170.7                 169.2\n",
       "119 2023-01-01           182.0   182.3   172.1                 173.8\n",
       "120 2023-02-01           182.1   184.4   173.5                 174.4\n",
       "\n",
       "[121 rows x 5 columns]"
      ]
     },
     "execution_count": 127,
     "metadata": {},
     "output_type": "execute_result"
    }
   ],
   "source": [
    "sector_data"
   ]
  },
  {
   "cell_type": "code",
   "execution_count": 130,
   "id": "e2cf1095-0073-4455-bcde-8aee020b62d5",
   "metadata": {},
   "outputs": [
    {
     "data": {
      "application/vnd.plotly.v1+json": {
       "config": {
        "plotlyServerURL": "https://plot.ly"
       },
       "data": [
        {
         "mode": "lines",
         "name": "fuel_and_light",
         "type": "scatter",
         "x": [
          "2013-01-01T00:00:00",
          "2013-02-01T00:00:00",
          "2013-03-01T00:00:00",
          "2013-04-01T00:00:00",
          "2013-05-01T00:00:00",
          "2013-06-01T00:00:00",
          "2013-07-01T00:00:00",
          "2013-08-01T00:00:00",
          "2013-09-01T00:00:00",
          "2013-10-01T00:00:00",
          "2013-11-01T00:00:00",
          "2013-12-01T00:00:00",
          "2014-01-01T00:00:00",
          "2014-02-01T00:00:00",
          "2014-03-01T00:00:00",
          "2014-04-01T00:00:00",
          "2014-05-01T00:00:00",
          "2014-06-01T00:00:00",
          "2014-07-01T00:00:00",
          "2014-08-01T00:00:00",
          "2014-09-01T00:00:00",
          "2014-10-01T00:00:00",
          "2014-11-01T00:00:00",
          "2014-12-01T00:00:00",
          "2015-01-01T00:00:00",
          "2015-02-01T00:00:00",
          "2015-03-01T00:00:00",
          "2015-04-01T00:00:00",
          "2015-05-01T00:00:00",
          "2015-06-01T00:00:00",
          "2015-07-01T00:00:00",
          "2015-08-01T00:00:00",
          "2015-09-01T00:00:00",
          "2015-10-01T00:00:00",
          "2015-11-01T00:00:00",
          "2015-12-01T00:00:00",
          "2016-01-01T00:00:00",
          "2016-02-01T00:00:00",
          "2016-03-01T00:00:00",
          "2016-04-01T00:00:00",
          "2016-05-01T00:00:00",
          "2016-06-01T00:00:00",
          "2016-07-01T00:00:00",
          "2016-08-01T00:00:00",
          "2016-09-01T00:00:00",
          "2016-10-01T00:00:00",
          "2016-11-01T00:00:00",
          "2016-12-01T00:00:00",
          "2017-01-01T00:00:00",
          "2017-02-01T00:00:00",
          "2017-03-01T00:00:00",
          "2017-04-01T00:00:00",
          "2017-05-01T00:00:00",
          "2017-06-01T00:00:00",
          "2017-07-01T00:00:00",
          "2017-08-01T00:00:00",
          "2017-09-01T00:00:00",
          "2017-10-01T00:00:00",
          "2017-11-01T00:00:00",
          "2017-12-01T00:00:00",
          "2018-01-01T00:00:00",
          "2018-02-01T00:00:00",
          "2018-03-01T00:00:00",
          "2018-04-01T00:00:00",
          "2018-05-01T00:00:00",
          "2018-06-01T00:00:00",
          "2018-07-01T00:00:00",
          "2018-08-01T00:00:00",
          "2018-09-01T00:00:00",
          "2018-10-01T00:00:00",
          "2018-11-01T00:00:00",
          "2018-12-01T00:00:00",
          "2019-01-01T00:00:00",
          "2019-02-01T00:00:00",
          "2019-03-01T00:00:00",
          "2019-05-01T00:00:00",
          "2019-06-01T00:00:00",
          "2019-07-01T00:00:00",
          "2019-08-01T00:00:00",
          "2019-09-01T00:00:00",
          "2019-10-01T00:00:00",
          "2019-11-01T00:00:00",
          "2019-12-01T00:00:00",
          "2020-01-01T00:00:00",
          "2020-02-01T00:00:00",
          "2020-03-01T00:00:00",
          "2020-04-01T00:00:00",
          "2020-05-01T00:00:00",
          "2020-06-01T00:00:00",
          "2020-07-01T00:00:00",
          "2020-08-01T00:00:00",
          "2020-09-01T00:00:00",
          "2020-10-01T00:00:00",
          "2020-11-01T00:00:00",
          "2020-12-01T00:00:00",
          "2021-01-01T00:00:00",
          "2021-02-01T00:00:00",
          "2021-03-01T00:00:00",
          "2021-04-01T00:00:00",
          "2021-05-01T00:00:00",
          "2021-06-01T00:00:00",
          "2021-07-01T00:00:00",
          "2021-08-01T00:00:00",
          "2021-09-01T00:00:00",
          "2021-10-01T00:00:00",
          "2021-11-01T00:00:00",
          "2021-12-01T00:00:00",
          "2022-01-01T00:00:00",
          "2022-02-01T00:00:00",
          "2022-03-01T00:00:00",
          "2022-04-01T00:00:00",
          "2022-05-01T00:00:00",
          "2022-06-01T00:00:00",
          "2022-07-01T00:00:00",
          "2022-08-01T00:00:00",
          "2022-09-01T00:00:00",
          "2022-10-01T00:00:00",
          "2022-11-01T00:00:00",
          "2022-12-01T00:00:00",
          "2023-01-01T00:00:00",
          "2023-02-01T00:00:00"
         ],
         "y": [
          105.5,
          106,
          106.1,
          106.5,
          107.4,
          108.3,
          109.2,
          109.7,
          110.5,
          110.9,
          111.6,
          111.9,
          112.2,
          112.4,
          112.5,
          112.5,
          112.5,
          113.2,
          113.9,
          114,
          114.3,
          114.7,
          115.5,
          115.7,
          116.5,
          117.7,
          118.3,
          118.7,
          119.2,
          119.8,
          120.1,
          120.6,
          120.4,
          120.8,
          121.6,
          122,
          122.7,
          123.1,
          122.4,
          122.3,
          122.7,
          123.3,
          123.4,
          123.6,
          124.1,
          124.3,
          125,
          126.6,
          126.8,
          127.9,
          129.1,
          129.8,
          129.4,
          128.8,
          129.4,
          129.8,
          131,
          132.2,
          135.3,
          136.6,
          136.6,
          136.7,
          136.5,
          136.5,
          136.9,
          138.1,
          139.7,
          140.9,
          142.3,
          145.3,
          145.1,
          142.7,
          139.5,
          138.4,
          139.7,
          140.3,
          141.2,
          139.3,
          138.5,
          139.2,
          140.6,
          142.3,
          143.7,
          144.6,
          147.2,
          148.9,
          144.1,
          144.1,
          141.9,
          141.9,
          143,
          142.9,
          143.1,
          143.6,
          144.6,
          147.9,
          152.4,
          155.5,
          155.6,
          159.4,
          159.8,
          160.7,
          162.6,
          162.6,
          164.2,
          163.9,
          164.1,
          164.2,
          165.7,
          167.2,
          172.2,
          174.6,
          176,
          179.6,
          178.8,
          179.5,
          180.5,
          181.3,
          182,
          182,
          182.1
         ]
        },
        {
         "mode": "lines",
         "name": "health",
         "type": "scatter",
         "x": [
          "2013-01-01T00:00:00",
          "2013-02-01T00:00:00",
          "2013-03-01T00:00:00",
          "2013-04-01T00:00:00",
          "2013-05-01T00:00:00",
          "2013-06-01T00:00:00",
          "2013-07-01T00:00:00",
          "2013-08-01T00:00:00",
          "2013-09-01T00:00:00",
          "2013-10-01T00:00:00",
          "2013-11-01T00:00:00",
          "2013-12-01T00:00:00",
          "2014-01-01T00:00:00",
          "2014-02-01T00:00:00",
          "2014-03-01T00:00:00",
          "2014-04-01T00:00:00",
          "2014-05-01T00:00:00",
          "2014-06-01T00:00:00",
          "2014-07-01T00:00:00",
          "2014-08-01T00:00:00",
          "2014-09-01T00:00:00",
          "2014-10-01T00:00:00",
          "2014-11-01T00:00:00",
          "2014-12-01T00:00:00",
          "2015-01-01T00:00:00",
          "2015-02-01T00:00:00",
          "2015-03-01T00:00:00",
          "2015-04-01T00:00:00",
          "2015-05-01T00:00:00",
          "2015-06-01T00:00:00",
          "2015-07-01T00:00:00",
          "2015-08-01T00:00:00",
          "2015-09-01T00:00:00",
          "2015-10-01T00:00:00",
          "2015-11-01T00:00:00",
          "2015-12-01T00:00:00",
          "2016-01-01T00:00:00",
          "2016-02-01T00:00:00",
          "2016-03-01T00:00:00",
          "2016-04-01T00:00:00",
          "2016-05-01T00:00:00",
          "2016-06-01T00:00:00",
          "2016-07-01T00:00:00",
          "2016-08-01T00:00:00",
          "2016-09-01T00:00:00",
          "2016-10-01T00:00:00",
          "2016-11-01T00:00:00",
          "2016-12-01T00:00:00",
          "2017-01-01T00:00:00",
          "2017-02-01T00:00:00",
          "2017-03-01T00:00:00",
          "2017-04-01T00:00:00",
          "2017-05-01T00:00:00",
          "2017-06-01T00:00:00",
          "2017-07-01T00:00:00",
          "2017-08-01T00:00:00",
          "2017-09-01T00:00:00",
          "2017-10-01T00:00:00",
          "2017-11-01T00:00:00",
          "2017-12-01T00:00:00",
          "2018-01-01T00:00:00",
          "2018-02-01T00:00:00",
          "2018-03-01T00:00:00",
          "2018-04-01T00:00:00",
          "2018-05-01T00:00:00",
          "2018-06-01T00:00:00",
          "2018-07-01T00:00:00",
          "2018-08-01T00:00:00",
          "2018-09-01T00:00:00",
          "2018-10-01T00:00:00",
          "2018-11-01T00:00:00",
          "2018-12-01T00:00:00",
          "2019-01-01T00:00:00",
          "2019-02-01T00:00:00",
          "2019-03-01T00:00:00",
          "2019-05-01T00:00:00",
          "2019-06-01T00:00:00",
          "2019-07-01T00:00:00",
          "2019-08-01T00:00:00",
          "2019-09-01T00:00:00",
          "2019-10-01T00:00:00",
          "2019-11-01T00:00:00",
          "2019-12-01T00:00:00",
          "2020-01-01T00:00:00",
          "2020-02-01T00:00:00",
          "2020-03-01T00:00:00",
          "2020-04-01T00:00:00",
          "2020-05-01T00:00:00",
          "2020-06-01T00:00:00",
          "2020-07-01T00:00:00",
          "2020-08-01T00:00:00",
          "2020-09-01T00:00:00",
          "2020-10-01T00:00:00",
          "2020-11-01T00:00:00",
          "2020-12-01T00:00:00",
          "2021-01-01T00:00:00",
          "2021-02-01T00:00:00",
          "2021-03-01T00:00:00",
          "2021-04-01T00:00:00",
          "2021-05-01T00:00:00",
          "2021-06-01T00:00:00",
          "2021-07-01T00:00:00",
          "2021-08-01T00:00:00",
          "2021-09-01T00:00:00",
          "2021-10-01T00:00:00",
          "2021-11-01T00:00:00",
          "2021-12-01T00:00:00",
          "2022-01-01T00:00:00",
          "2022-02-01T00:00:00",
          "2022-03-01T00:00:00",
          "2022-04-01T00:00:00",
          "2022-05-01T00:00:00",
          "2022-06-01T00:00:00",
          "2022-07-01T00:00:00",
          "2022-08-01T00:00:00",
          "2022-09-01T00:00:00",
          "2022-10-01T00:00:00",
          "2022-11-01T00:00:00",
          "2022-12-01T00:00:00",
          "2023-01-01T00:00:00",
          "2023-02-01T00:00:00"
         ],
         "y": [
          104,
          104.5,
          104.9,
          105.3,
          105.9,
          106.4,
          107,
          107.5,
          108.1,
          108.6,
          109.3,
          109.7,
          110.3,
          110.7,
          111.2,
          111.5,
          111.8,
          112.3,
          112.7,
          113.3,
          113.7,
          114.3,
          114.8,
          115.1,
          115.5,
          116.3,
          116.7,
          117.1,
          117.7,
          118.5,
          119,
          119.4,
          119.8,
          120.4,
          120.9,
          121.4,
          122,
          122.5,
          122.9,
          123.2,
          123.7,
          124.1,
          124.5,
          124.8,
          125.4,
          126.1,
          126.4,
          126.9,
          127.1,
          127.4,
          127.8,
          128.1,
          128.4,
          128.5,
          129.4,
          130.2,
          130.6,
          131.3,
          132.6,
          133.1,
          133.3,
          133.8,
          134.3,
          135.2,
          136,
          136.2,
          137,
          137.7,
          138.4,
          142.1,
          142.1,
          144.9,
          145.1,
          145.6,
          146.2,
          146.9,
          147.4,
          147.9,
          148.5,
          149,
          149.4,
          149.9,
          150.4,
          151.2,
          151.7,
          152.3,
          150.7,
          150.7,
          154.4,
          154.4,
          155,
          155.6,
          156.3,
          157.2,
          158.3,
          159.3,
          161.3,
          161.7,
          162.3,
          165.8,
          166.3,
          167,
          168.4,
          168.4,
          169.1,
          169.9,
          170.6,
          171.4,
          172.2,
          173,
          174,
          174.8,
          175.4,
          176.1,
          176.8,
          177.8,
          178.7,
          179.8,
          181.1,
          182.3,
          184.4
         ]
        },
        {
         "mode": "lines",
         "name": "housing",
         "type": "scatter",
         "x": [
          "2013-01-01T00:00:00",
          "2013-02-01T00:00:00",
          "2013-03-01T00:00:00",
          "2013-04-01T00:00:00",
          "2013-05-01T00:00:00",
          "2013-06-01T00:00:00",
          "2013-07-01T00:00:00",
          "2013-08-01T00:00:00",
          "2013-09-01T00:00:00",
          "2013-10-01T00:00:00",
          "2013-11-01T00:00:00",
          "2013-12-01T00:00:00",
          "2014-01-01T00:00:00",
          "2014-02-01T00:00:00",
          "2014-03-01T00:00:00",
          "2014-04-01T00:00:00",
          "2014-05-01T00:00:00",
          "2014-06-01T00:00:00",
          "2014-07-01T00:00:00",
          "2014-08-01T00:00:00",
          "2014-09-01T00:00:00",
          "2014-10-01T00:00:00",
          "2014-11-01T00:00:00",
          "2014-12-01T00:00:00",
          "2015-01-01T00:00:00",
          "2015-02-01T00:00:00",
          "2015-03-01T00:00:00",
          "2015-04-01T00:00:00",
          "2015-05-01T00:00:00",
          "2015-06-01T00:00:00",
          "2015-07-01T00:00:00",
          "2015-08-01T00:00:00",
          "2015-09-01T00:00:00",
          "2015-10-01T00:00:00",
          "2015-11-01T00:00:00",
          "2015-12-01T00:00:00",
          "2016-01-01T00:00:00",
          "2016-02-01T00:00:00",
          "2016-03-01T00:00:00",
          "2016-04-01T00:00:00",
          "2016-05-01T00:00:00",
          "2016-06-01T00:00:00",
          "2016-07-01T00:00:00",
          "2016-08-01T00:00:00",
          "2016-09-01T00:00:00",
          "2016-10-01T00:00:00",
          "2016-11-01T00:00:00",
          "2016-12-01T00:00:00",
          "2017-01-01T00:00:00",
          "2017-02-01T00:00:00",
          "2017-03-01T00:00:00",
          "2017-04-01T00:00:00",
          "2017-05-01T00:00:00",
          "2017-06-01T00:00:00",
          "2017-07-01T00:00:00",
          "2017-08-01T00:00:00",
          "2017-09-01T00:00:00",
          "2017-10-01T00:00:00",
          "2017-11-01T00:00:00",
          "2017-12-01T00:00:00",
          "2018-01-01T00:00:00",
          "2018-02-01T00:00:00",
          "2018-03-01T00:00:00",
          "2018-04-01T00:00:00",
          "2018-05-01T00:00:00",
          "2018-06-01T00:00:00",
          "2018-07-01T00:00:00",
          "2018-08-01T00:00:00",
          "2018-09-01T00:00:00",
          "2018-10-01T00:00:00",
          "2018-11-01T00:00:00",
          "2018-12-01T00:00:00",
          "2019-01-01T00:00:00",
          "2019-02-01T00:00:00",
          "2019-03-01T00:00:00",
          "2019-05-01T00:00:00",
          "2019-06-01T00:00:00",
          "2019-07-01T00:00:00",
          "2019-08-01T00:00:00",
          "2019-09-01T00:00:00",
          "2019-10-01T00:00:00",
          "2019-11-01T00:00:00",
          "2019-12-01T00:00:00",
          "2020-01-01T00:00:00",
          "2020-02-01T00:00:00",
          "2020-03-01T00:00:00",
          "2020-04-01T00:00:00",
          "2020-05-01T00:00:00",
          "2020-06-01T00:00:00",
          "2020-07-01T00:00:00",
          "2020-08-01T00:00:00",
          "2020-09-01T00:00:00",
          "2020-10-01T00:00:00",
          "2020-11-01T00:00:00",
          "2020-12-01T00:00:00",
          "2021-01-01T00:00:00",
          "2021-02-01T00:00:00",
          "2021-03-01T00:00:00",
          "2021-04-01T00:00:00",
          "2021-05-01T00:00:00",
          "2021-06-01T00:00:00",
          "2021-07-01T00:00:00",
          "2021-08-01T00:00:00",
          "2021-09-01T00:00:00",
          "2021-10-01T00:00:00",
          "2021-11-01T00:00:00",
          "2021-12-01T00:00:00",
          "2022-01-01T00:00:00",
          "2022-02-01T00:00:00",
          "2022-03-01T00:00:00",
          "2022-04-01T00:00:00",
          "2022-05-01T00:00:00",
          "2022-06-01T00:00:00",
          "2022-07-01T00:00:00",
          "2022-08-01T00:00:00",
          "2022-09-01T00:00:00",
          "2022-10-01T00:00:00",
          "2022-11-01T00:00:00",
          "2022-12-01T00:00:00",
          "2023-01-01T00:00:00",
          "2023-02-01T00:00:00"
         ],
         "y": [
          "100.3",
          "100.4",
          "100.4",
          "100.5",
          "100.5",
          "106.6",
          "107.7",
          "108.9",
          "109.7",
          "110.5",
          "111.1",
          "110.7",
          "111.6",
          "112.5",
          "113.2",
          "113.9",
          "114.3",
          "113.9",
          "114.8",
          "115.5",
          "116.1",
          "116.7",
          "117.1",
          "116.5",
          "117.3",
          "118.1",
          "118.6",
          "119.2",
          "119.6",
          "119",
          "119.9",
          "120.9",
          "121.6",
          "122.4",
          "122.9",
          "122.4",
          "123.4",
          "124.4",
          "124.9",
          "125.6",
          "126",
          "125.5",
          "126.4",
          "127.3",
          "127.9",
          "128.7",
          "129.1",
          "128.5",
          "129.6",
          "130.5",
          "131.1",
          "131.7",
          "132.1",
          "131.4",
          "132.6",
          "134.4",
          "135.7",
          "137.3",
          "138.6",
          "139.1",
          "140.4",
          "141.3",
          "142",
          "142.9",
          "143.2",
          "142.5",
          "143.6",
          "144.6",
          "145.3",
          "146.9",
          "146.9",
          "146.5",
          "147.7",
          "148.5",
          "149",
          "150.1",
          "149.4",
          "150.6",
          "151.6",
          "152.2",
          "153",
          "153.5",
          "152.8",
          "153.9",
          "154.8",
          "154.5",
          "155.6",
          "155.6",
          "154.7",
          "154.7",
          "155.5",
          "156.3",
          "156.5",
          "158",
          "158.4",
          "157.7",
          "159.8",
          "159.9",
          "161.4",
          "161.6",
          "160.5",
          "161.5",
          "162.1",
          "162.1",
          "163.6",
          "164.2",
          "163.4",
          "164.5",
          "165.5",
          "165.3",
          "167",
          "167.5",
          "166.8",
          "167.8",
          "169",
          "169.5",
          "171.2",
          "171.8",
          "170.7",
          "172.1",
          "173.5"
         ]
        },
        {
         "mode": "lines",
         "name": "cereals_and_products",
         "type": "scatter",
         "x": [
          "2013-01-01T00:00:00",
          "2013-02-01T00:00:00",
          "2013-03-01T00:00:00",
          "2013-04-01T00:00:00",
          "2013-05-01T00:00:00",
          "2013-06-01T00:00:00",
          "2013-07-01T00:00:00",
          "2013-08-01T00:00:00",
          "2013-09-01T00:00:00",
          "2013-10-01T00:00:00",
          "2013-11-01T00:00:00",
          "2013-12-01T00:00:00",
          "2014-01-01T00:00:00",
          "2014-02-01T00:00:00",
          "2014-03-01T00:00:00",
          "2014-04-01T00:00:00",
          "2014-05-01T00:00:00",
          "2014-06-01T00:00:00",
          "2014-07-01T00:00:00",
          "2014-08-01T00:00:00",
          "2014-09-01T00:00:00",
          "2014-10-01T00:00:00",
          "2014-11-01T00:00:00",
          "2014-12-01T00:00:00",
          "2015-01-01T00:00:00",
          "2015-02-01T00:00:00",
          "2015-03-01T00:00:00",
          "2015-04-01T00:00:00",
          "2015-05-01T00:00:00",
          "2015-06-01T00:00:00",
          "2015-07-01T00:00:00",
          "2015-08-01T00:00:00",
          "2015-09-01T00:00:00",
          "2015-10-01T00:00:00",
          "2015-11-01T00:00:00",
          "2015-12-01T00:00:00",
          "2016-01-01T00:00:00",
          "2016-02-01T00:00:00",
          "2016-03-01T00:00:00",
          "2016-04-01T00:00:00",
          "2016-05-01T00:00:00",
          "2016-06-01T00:00:00",
          "2016-07-01T00:00:00",
          "2016-08-01T00:00:00",
          "2016-09-01T00:00:00",
          "2016-10-01T00:00:00",
          "2016-11-01T00:00:00",
          "2016-12-01T00:00:00",
          "2017-01-01T00:00:00",
          "2017-02-01T00:00:00",
          "2017-03-01T00:00:00",
          "2017-04-01T00:00:00",
          "2017-05-01T00:00:00",
          "2017-06-01T00:00:00",
          "2017-07-01T00:00:00",
          "2017-08-01T00:00:00",
          "2017-09-01T00:00:00",
          "2017-10-01T00:00:00",
          "2017-11-01T00:00:00",
          "2017-12-01T00:00:00",
          "2018-01-01T00:00:00",
          "2018-02-01T00:00:00",
          "2018-03-01T00:00:00",
          "2018-04-01T00:00:00",
          "2018-05-01T00:00:00",
          "2018-06-01T00:00:00",
          "2018-07-01T00:00:00",
          "2018-08-01T00:00:00",
          "2018-09-01T00:00:00",
          "2018-10-01T00:00:00",
          "2018-11-01T00:00:00",
          "2018-12-01T00:00:00",
          "2019-01-01T00:00:00",
          "2019-02-01T00:00:00",
          "2019-03-01T00:00:00",
          "2019-05-01T00:00:00",
          "2019-06-01T00:00:00",
          "2019-07-01T00:00:00",
          "2019-08-01T00:00:00",
          "2019-09-01T00:00:00",
          "2019-10-01T00:00:00",
          "2019-11-01T00:00:00",
          "2019-12-01T00:00:00",
          "2020-01-01T00:00:00",
          "2020-02-01T00:00:00",
          "2020-03-01T00:00:00",
          "2020-04-01T00:00:00",
          "2020-05-01T00:00:00",
          "2020-06-01T00:00:00",
          "2020-07-01T00:00:00",
          "2020-08-01T00:00:00",
          "2020-09-01T00:00:00",
          "2020-10-01T00:00:00",
          "2020-11-01T00:00:00",
          "2020-12-01T00:00:00",
          "2021-01-01T00:00:00",
          "2021-02-01T00:00:00",
          "2021-03-01T00:00:00",
          "2021-04-01T00:00:00",
          "2021-05-01T00:00:00",
          "2021-06-01T00:00:00",
          "2021-07-01T00:00:00",
          "2021-08-01T00:00:00",
          "2021-09-01T00:00:00",
          "2021-10-01T00:00:00",
          "2021-11-01T00:00:00",
          "2021-12-01T00:00:00",
          "2022-01-01T00:00:00",
          "2022-02-01T00:00:00",
          "2022-03-01T00:00:00",
          "2022-04-01T00:00:00",
          "2022-05-01T00:00:00",
          "2022-06-01T00:00:00",
          "2022-07-01T00:00:00",
          "2022-08-01T00:00:00",
          "2022-09-01T00:00:00",
          "2022-10-01T00:00:00",
          "2022-11-01T00:00:00",
          "2022-12-01T00:00:00",
          "2023-01-01T00:00:00",
          "2023-02-01T00:00:00"
         ],
         "y": [
          108.4,
          110.4,
          111.4,
          111.6,
          112.3,
          113.8,
          114.8,
          115.6,
          116.4,
          117.1,
          118.1,
          119.1,
          119.6,
          120.2,
          120.7,
          120.9,
          121.1,
          121.5,
          122.4,
          122.7,
          122.9,
          123.2,
          123.3,
          122.9,
          123.4,
          123.7,
          123.5,
          123.5,
          123.6,
          123.9,
          123.7,
          124.2,
          124.6,
          125,
          125.4,
          125.7,
          126.1,
          126.4,
          126.5,
          126.6,
          126.8,
          127.7,
          128.5,
          129.3,
          129.9,
          130.5,
          131.4,
          132.3,
          132.8,
          133.1,
          133.3,
          133,
          132.9,
          133.3,
          133.6,
          134.3,
          134.7,
          135.3,
          135.7,
          135.8,
          136,
          135.9,
          136.2,
          136.4,
          136.6,
          136.9,
          137.5,
          138.3,
          138.6,
          137.4,
          137.4,
          137.5,
          137.1,
          137.6,
          137.8,
          138.3,
          138.7,
          139.3,
          140.1,
          140.9,
          141.8,
          142.5,
          143.5,
          144.3,
          144.8,
          145.1,
          148.7,
          148.7,
          149.6,
          149.6,
          148.9,
          148.4,
          147.5,
          146.8,
          146,
          144.9,
          144.3,
          144.1,
          144.3,
          146.3,
          146.7,
          146.4,
          146.6,
          146.6,
          147.4,
          148.2,
          148.7,
          149.5,
          150,
          151.3,
          152.9,
          154.1,
          155,
          156.5,
          160.3,
          163.5,
          165.2,
          167.4,
          169.2,
          173.8,
          174.4
         ]
        }
       ],
       "layout": {
        "height": 600,
        "template": {
         "data": {
          "bar": [
           {
            "error_x": {
             "color": "#2a3f5f"
            },
            "error_y": {
             "color": "#2a3f5f"
            },
            "marker": {
             "line": {
              "color": "#E5ECF6",
              "width": 0.5
             },
             "pattern": {
              "fillmode": "overlay",
              "size": 10,
              "solidity": 0.2
             }
            },
            "type": "bar"
           }
          ],
          "barpolar": [
           {
            "marker": {
             "line": {
              "color": "#E5ECF6",
              "width": 0.5
             },
             "pattern": {
              "fillmode": "overlay",
              "size": 10,
              "solidity": 0.2
             }
            },
            "type": "barpolar"
           }
          ],
          "carpet": [
           {
            "aaxis": {
             "endlinecolor": "#2a3f5f",
             "gridcolor": "white",
             "linecolor": "white",
             "minorgridcolor": "white",
             "startlinecolor": "#2a3f5f"
            },
            "baxis": {
             "endlinecolor": "#2a3f5f",
             "gridcolor": "white",
             "linecolor": "white",
             "minorgridcolor": "white",
             "startlinecolor": "#2a3f5f"
            },
            "type": "carpet"
           }
          ],
          "choropleth": [
           {
            "colorbar": {
             "outlinewidth": 0,
             "ticks": ""
            },
            "type": "choropleth"
           }
          ],
          "contour": [
           {
            "colorbar": {
             "outlinewidth": 0,
             "ticks": ""
            },
            "colorscale": [
             [
              0,
              "#0d0887"
             ],
             [
              0.1111111111111111,
              "#46039f"
             ],
             [
              0.2222222222222222,
              "#7201a8"
             ],
             [
              0.3333333333333333,
              "#9c179e"
             ],
             [
              0.4444444444444444,
              "#bd3786"
             ],
             [
              0.5555555555555556,
              "#d8576b"
             ],
             [
              0.6666666666666666,
              "#ed7953"
             ],
             [
              0.7777777777777778,
              "#fb9f3a"
             ],
             [
              0.8888888888888888,
              "#fdca26"
             ],
             [
              1,
              "#f0f921"
             ]
            ],
            "type": "contour"
           }
          ],
          "contourcarpet": [
           {
            "colorbar": {
             "outlinewidth": 0,
             "ticks": ""
            },
            "type": "contourcarpet"
           }
          ],
          "heatmap": [
           {
            "colorbar": {
             "outlinewidth": 0,
             "ticks": ""
            },
            "colorscale": [
             [
              0,
              "#0d0887"
             ],
             [
              0.1111111111111111,
              "#46039f"
             ],
             [
              0.2222222222222222,
              "#7201a8"
             ],
             [
              0.3333333333333333,
              "#9c179e"
             ],
             [
              0.4444444444444444,
              "#bd3786"
             ],
             [
              0.5555555555555556,
              "#d8576b"
             ],
             [
              0.6666666666666666,
              "#ed7953"
             ],
             [
              0.7777777777777778,
              "#fb9f3a"
             ],
             [
              0.8888888888888888,
              "#fdca26"
             ],
             [
              1,
              "#f0f921"
             ]
            ],
            "type": "heatmap"
           }
          ],
          "heatmapgl": [
           {
            "colorbar": {
             "outlinewidth": 0,
             "ticks": ""
            },
            "colorscale": [
             [
              0,
              "#0d0887"
             ],
             [
              0.1111111111111111,
              "#46039f"
             ],
             [
              0.2222222222222222,
              "#7201a8"
             ],
             [
              0.3333333333333333,
              "#9c179e"
             ],
             [
              0.4444444444444444,
              "#bd3786"
             ],
             [
              0.5555555555555556,
              "#d8576b"
             ],
             [
              0.6666666666666666,
              "#ed7953"
             ],
             [
              0.7777777777777778,
              "#fb9f3a"
             ],
             [
              0.8888888888888888,
              "#fdca26"
             ],
             [
              1,
              "#f0f921"
             ]
            ],
            "type": "heatmapgl"
           }
          ],
          "histogram": [
           {
            "marker": {
             "pattern": {
              "fillmode": "overlay",
              "size": 10,
              "solidity": 0.2
             }
            },
            "type": "histogram"
           }
          ],
          "histogram2d": [
           {
            "colorbar": {
             "outlinewidth": 0,
             "ticks": ""
            },
            "colorscale": [
             [
              0,
              "#0d0887"
             ],
             [
              0.1111111111111111,
              "#46039f"
             ],
             [
              0.2222222222222222,
              "#7201a8"
             ],
             [
              0.3333333333333333,
              "#9c179e"
             ],
             [
              0.4444444444444444,
              "#bd3786"
             ],
             [
              0.5555555555555556,
              "#d8576b"
             ],
             [
              0.6666666666666666,
              "#ed7953"
             ],
             [
              0.7777777777777778,
              "#fb9f3a"
             ],
             [
              0.8888888888888888,
              "#fdca26"
             ],
             [
              1,
              "#f0f921"
             ]
            ],
            "type": "histogram2d"
           }
          ],
          "histogram2dcontour": [
           {
            "colorbar": {
             "outlinewidth": 0,
             "ticks": ""
            },
            "colorscale": [
             [
              0,
              "#0d0887"
             ],
             [
              0.1111111111111111,
              "#46039f"
             ],
             [
              0.2222222222222222,
              "#7201a8"
             ],
             [
              0.3333333333333333,
              "#9c179e"
             ],
             [
              0.4444444444444444,
              "#bd3786"
             ],
             [
              0.5555555555555556,
              "#d8576b"
             ],
             [
              0.6666666666666666,
              "#ed7953"
             ],
             [
              0.7777777777777778,
              "#fb9f3a"
             ],
             [
              0.8888888888888888,
              "#fdca26"
             ],
             [
              1,
              "#f0f921"
             ]
            ],
            "type": "histogram2dcontour"
           }
          ],
          "mesh3d": [
           {
            "colorbar": {
             "outlinewidth": 0,
             "ticks": ""
            },
            "type": "mesh3d"
           }
          ],
          "parcoords": [
           {
            "line": {
             "colorbar": {
              "outlinewidth": 0,
              "ticks": ""
             }
            },
            "type": "parcoords"
           }
          ],
          "pie": [
           {
            "automargin": true,
            "type": "pie"
           }
          ],
          "scatter": [
           {
            "fillpattern": {
             "fillmode": "overlay",
             "size": 10,
             "solidity": 0.2
            },
            "type": "scatter"
           }
          ],
          "scatter3d": [
           {
            "line": {
             "colorbar": {
              "outlinewidth": 0,
              "ticks": ""
             }
            },
            "marker": {
             "colorbar": {
              "outlinewidth": 0,
              "ticks": ""
             }
            },
            "type": "scatter3d"
           }
          ],
          "scattercarpet": [
           {
            "marker": {
             "colorbar": {
              "outlinewidth": 0,
              "ticks": ""
             }
            },
            "type": "scattercarpet"
           }
          ],
          "scattergeo": [
           {
            "marker": {
             "colorbar": {
              "outlinewidth": 0,
              "ticks": ""
             }
            },
            "type": "scattergeo"
           }
          ],
          "scattergl": [
           {
            "marker": {
             "colorbar": {
              "outlinewidth": 0,
              "ticks": ""
             }
            },
            "type": "scattergl"
           }
          ],
          "scattermapbox": [
           {
            "marker": {
             "colorbar": {
              "outlinewidth": 0,
              "ticks": ""
             }
            },
            "type": "scattermapbox"
           }
          ],
          "scatterpolar": [
           {
            "marker": {
             "colorbar": {
              "outlinewidth": 0,
              "ticks": ""
             }
            },
            "type": "scatterpolar"
           }
          ],
          "scatterpolargl": [
           {
            "marker": {
             "colorbar": {
              "outlinewidth": 0,
              "ticks": ""
             }
            },
            "type": "scatterpolargl"
           }
          ],
          "scatterternary": [
           {
            "marker": {
             "colorbar": {
              "outlinewidth": 0,
              "ticks": ""
             }
            },
            "type": "scatterternary"
           }
          ],
          "surface": [
           {
            "colorbar": {
             "outlinewidth": 0,
             "ticks": ""
            },
            "colorscale": [
             [
              0,
              "#0d0887"
             ],
             [
              0.1111111111111111,
              "#46039f"
             ],
             [
              0.2222222222222222,
              "#7201a8"
             ],
             [
              0.3333333333333333,
              "#9c179e"
             ],
             [
              0.4444444444444444,
              "#bd3786"
             ],
             [
              0.5555555555555556,
              "#d8576b"
             ],
             [
              0.6666666666666666,
              "#ed7953"
             ],
             [
              0.7777777777777778,
              "#fb9f3a"
             ],
             [
              0.8888888888888888,
              "#fdca26"
             ],
             [
              1,
              "#f0f921"
             ]
            ],
            "type": "surface"
           }
          ],
          "table": [
           {
            "cells": {
             "fill": {
              "color": "#EBF0F8"
             },
             "line": {
              "color": "white"
             }
            },
            "header": {
             "fill": {
              "color": "#C8D4E3"
             },
             "line": {
              "color": "white"
             }
            },
            "type": "table"
           }
          ]
         },
         "layout": {
          "annotationdefaults": {
           "arrowcolor": "#2a3f5f",
           "arrowhead": 0,
           "arrowwidth": 1
          },
          "autotypenumbers": "strict",
          "coloraxis": {
           "colorbar": {
            "outlinewidth": 0,
            "ticks": ""
           }
          },
          "colorscale": {
           "diverging": [
            [
             0,
             "#8e0152"
            ],
            [
             0.1,
             "#c51b7d"
            ],
            [
             0.2,
             "#de77ae"
            ],
            [
             0.3,
             "#f1b6da"
            ],
            [
             0.4,
             "#fde0ef"
            ],
            [
             0.5,
             "#f7f7f7"
            ],
            [
             0.6,
             "#e6f5d0"
            ],
            [
             0.7,
             "#b8e186"
            ],
            [
             0.8,
             "#7fbc41"
            ],
            [
             0.9,
             "#4d9221"
            ],
            [
             1,
             "#276419"
            ]
           ],
           "sequential": [
            [
             0,
             "#0d0887"
            ],
            [
             0.1111111111111111,
             "#46039f"
            ],
            [
             0.2222222222222222,
             "#7201a8"
            ],
            [
             0.3333333333333333,
             "#9c179e"
            ],
            [
             0.4444444444444444,
             "#bd3786"
            ],
            [
             0.5555555555555556,
             "#d8576b"
            ],
            [
             0.6666666666666666,
             "#ed7953"
            ],
            [
             0.7777777777777778,
             "#fb9f3a"
            ],
            [
             0.8888888888888888,
             "#fdca26"
            ],
            [
             1,
             "#f0f921"
            ]
           ],
           "sequentialminus": [
            [
             0,
             "#0d0887"
            ],
            [
             0.1111111111111111,
             "#46039f"
            ],
            [
             0.2222222222222222,
             "#7201a8"
            ],
            [
             0.3333333333333333,
             "#9c179e"
            ],
            [
             0.4444444444444444,
             "#bd3786"
            ],
            [
             0.5555555555555556,
             "#d8576b"
            ],
            [
             0.6666666666666666,
             "#ed7953"
            ],
            [
             0.7777777777777778,
             "#fb9f3a"
            ],
            [
             0.8888888888888888,
             "#fdca26"
            ],
            [
             1,
             "#f0f921"
            ]
           ]
          },
          "colorway": [
           "#636efa",
           "#EF553B",
           "#00cc96",
           "#ab63fa",
           "#FFA15A",
           "#19d3f3",
           "#FF6692",
           "#B6E880",
           "#FF97FF",
           "#FECB52"
          ],
          "font": {
           "color": "#2a3f5f"
          },
          "geo": {
           "bgcolor": "white",
           "lakecolor": "white",
           "landcolor": "#E5ECF6",
           "showlakes": true,
           "showland": true,
           "subunitcolor": "white"
          },
          "hoverlabel": {
           "align": "left"
          },
          "hovermode": "closest",
          "mapbox": {
           "style": "light"
          },
          "paper_bgcolor": "white",
          "plot_bgcolor": "#E5ECF6",
          "polar": {
           "angularaxis": {
            "gridcolor": "white",
            "linecolor": "white",
            "ticks": ""
           },
           "bgcolor": "#E5ECF6",
           "radialaxis": {
            "gridcolor": "white",
            "linecolor": "white",
            "ticks": ""
           }
          },
          "scene": {
           "xaxis": {
            "backgroundcolor": "#E5ECF6",
            "gridcolor": "white",
            "gridwidth": 2,
            "linecolor": "white",
            "showbackground": true,
            "ticks": "",
            "zerolinecolor": "white"
           },
           "yaxis": {
            "backgroundcolor": "#E5ECF6",
            "gridcolor": "white",
            "gridwidth": 2,
            "linecolor": "white",
            "showbackground": true,
            "ticks": "",
            "zerolinecolor": "white"
           },
           "zaxis": {
            "backgroundcolor": "#E5ECF6",
            "gridcolor": "white",
            "gridwidth": 2,
            "linecolor": "white",
            "showbackground": true,
            "ticks": "",
            "zerolinecolor": "white"
           }
          },
          "shapedefaults": {
           "line": {
            "color": "#2a3f5f"
           }
          },
          "ternary": {
           "aaxis": {
            "gridcolor": "white",
            "linecolor": "white",
            "ticks": ""
           },
           "baxis": {
            "gridcolor": "white",
            "linecolor": "white",
            "ticks": ""
           },
           "bgcolor": "#E5ECF6",
           "caxis": {
            "gridcolor": "white",
            "linecolor": "white",
            "ticks": ""
           }
          },
          "title": {
           "x": 0.05
          },
          "xaxis": {
           "automargin": true,
           "gridcolor": "white",
           "linecolor": "white",
           "ticks": "",
           "title": {
            "standoff": 15
           },
           "zerolinecolor": "white",
           "zerolinewidth": 2
          },
          "yaxis": {
           "automargin": true,
           "gridcolor": "white",
           "linecolor": "white",
           "ticks": "",
           "title": {
            "standoff": 15
           },
           "zerolinecolor": "white",
           "zerolinewidth": 2
          }
         }
        },
        "title": {
         "text": "CPI Trends for Selected Sectors"
        },
        "width": 1100,
        "xaxis": {
         "autorange": true,
         "range": [
          "2013-01-01",
          "2023-02-01"
         ],
         "title": {
          "text": "Date"
         },
         "type": "date"
        },
        "yaxis": {
         "autorange": true,
         "range": [
          95.62777777777778,
          189.07222222222222
         ],
         "title": {
          "text": "CPI Value"
         },
         "type": "linear"
        }
       }
      },
      "image/png": "[encoded data removed]",
      "text/html": [
       "<div>                            <div id=\"52f8c412-fb3c-4d5a-bc63-8269c29e43a7\" class=\"plotly-graph-div\" style=\"height:600px; width:1100px;\"></div>            <script type=\"text/javascript\">                require([\"plotly\"], function(Plotly) {                    window.PLOTLYENV=window.PLOTLYENV || {};                                    if (document.getElementById(\"52f8c412-fb3c-4d5a-bc63-8269c29e43a7\")) {                    Plotly.newPlot(                        \"52f8c412-fb3c-4d5a-bc63-8269c29e43a7\",                        [{\"mode\":\"lines\",\"name\":\"fuel_and_light\",\"x\":[\"2013-01-01T00:00:00\",\"2013-02-01T00:00:00\",\"2013-03-01T00:00:00\",\"2013-04-01T00:00:00\",\"2013-05-01T00:00:00\",\"2013-06-01T00:00:00\",\"2013-07-01T00:00:00\",\"2013-08-01T00:00:00\",\"2013-09-01T00:00:00\",\"2013-10-01T00:00:00\",\"2013-11-01T00:00:00\",\"2013-12-01T00:00:00\",\"2014-01-01T00:00:00\",\"2014-02-01T00:00:00\",\"2014-03-01T00:00:00\",\"2014-04-01T00:00:00\",\"2014-05-01T00:00:00\",\"2014-06-01T00:00:00\",\"2014-07-01T00:00:00\",\"2014-08-01T00:00:00\",\"2014-09-01T00:00:00\",\"2014-10-01T00:00:00\",\"2014-11-01T00:00:00\",\"2014-12-01T00:00:00\",\"2015-01-01T00:00:00\",\"2015-02-01T00:00:00\",\"2015-03-01T00:00:00\",\"2015-04-01T00:00:00\",\"2015-05-01T00:00:00\",\"2015-06-01T00:00:00\",\"2015-07-01T00:00:00\",\"2015-08-01T00:00:00\",\"2015-09-01T00:00:00\",\"2015-10-01T00:00:00\",\"2015-11-01T00:00:00\",\"2015-12-01T00:00:00\",\"2016-01-01T00:00:00\",\"2016-02-01T00:00:00\",\"2016-03-01T00:00:00\",\"2016-04-01T00:00:00\",\"2016-05-01T00:00:00\",\"2016-06-01T00:00:00\",\"2016-07-01T00:00:00\",\"2016-08-01T00:00:00\",\"2016-09-01T00:00:00\",\"2016-10-01T00:00:00\",\"2016-11-01T00:00:00\",\"2016-12-01T00:00:00\",\"2017-01-01T00:00:00\",\"2017-02-01T00:00:00\",\"2017-03-01T00:00:00\",\"2017-04-01T00:00:00\",\"2017-05-01T00:00:00\",\"2017-06-01T00:00:00\",\"2017-07-01T00:00:00\",\"2017-08-01T00:00:00\",\"2017-09-01T00:00:00\",\"2017-10-01T00:00:00\",\"2017-11-01T00:00:00\",\"2017-12-01T00:00:00\",\"2018-01-01T00:00:00\",\"2018-02-01T00:00:00\",\"2018-03-01T00:00:00\",\"2018-04-01T00:00:00\",\"2018-05-01T00:00:00\",\"2018-06-01T00:00:00\",\"2018-07-01T00:00:00\",\"2018-08-01T00:00:00\",\"2018-09-01T00:00:00\",\"2018-10-01T00:00:00\",\"2018-11-01T00:00:00\",\"2018-12-01T00:00:00\",\"2019-01-01T00:00:00\",\"2019-02-01T00:00:00\",\"2019-03-01T00:00:00\",\"2019-05-01T00:00:00\",\"2019-06-01T00:00:00\",\"2019-07-01T00:00:00\",\"2019-08-01T00:00:00\",\"2019-09-01T00:00:00\",\"2019-10-01T00:00:00\",\"2019-11-01T00:00:00\",\"2019-12-01T00:00:00\",\"2020-01-01T00:00:00\",\"2020-02-01T00:00:00\",\"2020-03-01T00:00:00\",\"2020-04-01T00:00:00\",\"2020-05-01T00:00:00\",\"2020-06-01T00:00:00\",\"2020-07-01T00:00:00\",\"2020-08-01T00:00:00\",\"2020-09-01T00:00:00\",\"2020-10-01T00:00:00\",\"2020-11-01T00:00:00\",\"2020-12-01T00:00:00\",\"2021-01-01T00:00:00\",\"2021-02-01T00:00:00\",\"2021-03-01T00:00:00\",\"2021-04-01T00:00:00\",\"2021-05-01T00:00:00\",\"2021-06-01T00:00:00\",\"2021-07-01T00:00:00\",\"2021-08-01T00:00:00\",\"2021-09-01T00:00:00\",\"2021-10-01T00:00:00\",\"2021-11-01T00:00:00\",\"2021-12-01T00:00:00\",\"2022-01-01T00:00:00\",\"2022-02-01T00:00:00\",\"2022-03-01T00:00:00\",\"2022-04-01T00:00:00\",\"2022-05-01T00:00:00\",\"2022-06-01T00:00:00\",\"2022-07-01T00:00:00\",\"2022-08-01T00:00:00\",\"2022-09-01T00:00:00\",\"2022-10-01T00:00:00\",\"2022-11-01T00:00:00\",\"2022-12-01T00:00:00\",\"2023-01-01T00:00:00\",\"2023-02-01T00:00:00\"],\"y\":[105.5,106.0,106.1,106.5,107.4,108.3,109.2,109.7,110.5,110.9,111.6,111.9,112.2,112.4,112.5,112.5,112.5,113.2,113.9,114.0,114.3,114.7,115.5,115.7,116.5,117.7,118.3,118.7,119.2,119.8,120.1,120.6,120.4,120.8,121.6,122.0,122.7,123.1,122.4,122.3,122.7,123.3,123.4,123.6,124.1,124.3,125.0,126.6,126.8,127.9,129.1,129.8,129.4,128.8,129.4,129.8,131.0,132.2,135.3,136.6,136.6,136.7,136.5,136.5,136.9,138.1,139.7,140.9,142.3,145.3,145.1,142.7,139.5,138.4,139.7,140.3,141.2,139.3,138.5,139.2,140.6,142.3,143.7,144.6,147.2,148.9,144.1,144.1,141.9,141.9,143.0,142.9,143.1,143.6,144.6,147.9,152.4,155.5,155.6,159.4,159.8,160.7,162.6,162.6,164.2,163.9,164.1,164.2,165.7,167.2,172.2,174.6,176.0,179.6,178.8,179.5,180.5,181.3,182.0,182.0,182.1],\"type\":\"scatter\"},{\"mode\":\"lines\",\"name\":\"health\",\"x\":[\"2013-01-01T00:00:00\",\"2013-02-01T00:00:00\",\"2013-03-01T00:00:00\",\"2013-04-01T00:00:00\",\"2013-05-01T00:00:00\",\"2013-06-01T00:00:00\",\"2013-07-01T00:00:00\",\"2013-08-01T00:00:00\",\"2013-09-01T00:00:00\",\"2013-10-01T00:00:00\",\"2013-11-01T00:00:00\",\"2013-12-01T00:00:00\",\"2014-01-01T00:00:00\",\"2014-02-01T00:00:00\",\"2014-03-01T00:00:00\",\"2014-04-01T00:00:00\",\"2014-05-01T00:00:00\",\"2014-06-01T00:00:00\",\"2014-07-01T00:00:00\",\"2014-08-01T00:00:00\",\"2014-09-01T00:00:00\",\"2014-10-01T00:00:00\",\"2014-11-01T00:00:00\",\"2014-12-01T00:00:00\",\"2015-01-01T00:00:00\",\"2015-02-01T00:00:00\",\"2015-03-01T00:00:00\",\"2015-04-01T00:00:00\",\"2015-05-01T00:00:00\",\"2015-06-01T00:00:00\",\"2015-07-01T00:00:00\",\"2015-08-01T00:00:00\",\"2015-09-01T00:00:00\",\"2015-10-01T00:00:00\",\"2015-11-01T00:00:00\",\"2015-12-01T00:00:00\",\"2016-01-01T00:00:00\",\"2016-02-01T00:00:00\",\"2016-03-01T00:00:00\",\"2016-04-01T00:00:00\",\"2016-05-01T00:00:00\",\"2016-06-01T00:00:00\",\"2016-07-01T00:00:00\",\"2016-08-01T00:00:00\",\"2016-09-01T00:00:00\",\"2016-10-01T00:00:00\",\"2016-11-01T00:00:00\",\"2016-12-01T00:00:00\",\"2017-01-01T00:00:00\",\"2017-02-01T00:00:00\",\"2017-03-01T00:00:00\",\"2017-04-01T00:00:00\",\"2017-05-01T00:00:00\",\"2017-06-01T00:00:00\",\"2017-07-01T00:00:00\",\"2017-08-01T00:00:00\",\"2017-09-01T00:00:00\",\"2017-10-01T00:00:00\",\"2017-11-01T00:00:00\",\"2017-12-01T00:00:00\",\"2018-01-01T00:00:00\",\"2018-02-01T00:00:00\",\"2018-03-01T00:00:00\",\"2018-04-01T00:00:00\",\"2018-05-01T00:00:00\",\"2018-06-01T00:00:00\",\"2018-07-01T00:00:00\",\"2018-08-01T00:00:00\",\"2018-09-01T00:00:00\",\"2018-10-01T00:00:00\",\"2018-11-01T00:00:00\",\"2018-12-01T00:00:00\",\"2019-01-01T00:00:00\",\"2019-02-01T00:00:00\",\"2019-03-01T00:00:00\",\"2019-05-01T00:00:00\",\"2019-06-01T00:00:00\",\"2019-07-01T00:00:00\",\"2019-08-01T00:00:00\",\"2019-09-01T00:00:00\",\"2019-10-01T00:00:00\",\"2019-11-01T00:00:00\",\"2019-12-01T00:00:00\",\"2020-01-01T00:00:00\",\"2020-02-01T00:00:00\",\"2020-03-01T00:00:00\",\"2020-04-01T00:00:00\",\"2020-05-01T00:00:00\",\"2020-06-01T00:00:00\",\"2020-07-01T00:00:00\",\"2020-08-01T00:00:00\",\"2020-09-01T00:00:00\",\"2020-10-01T00:00:00\",\"2020-11-01T00:00:00\",\"2020-12-01T00:00:00\",\"2021-01-01T00:00:00\",\"2021-02-01T00:00:00\",\"2021-03-01T00:00:00\",\"2021-04-01T00:00:00\",\"2021-05-01T00:00:00\",\"2021-06-01T00:00:00\",\"2021-07-01T00:00:00\",\"2021-08-01T00:00:00\",\"2021-09-01T00:00:00\",\"2021-10-01T00:00:00\",\"2021-11-01T00:00:00\",\"2021-12-01T00:00:00\",\"2022-01-01T00:00:00\",\"2022-02-01T00:00:00\",\"2022-03-01T00:00:00\",\"2022-04-01T00:00:00\",\"2022-05-01T00:00:00\",\"2022-06-01T00:00:00\",\"2022-07-01T00:00:00\",\"2022-08-01T00:00:00\",\"2022-09-01T00:00:00\",\"2022-10-01T00:00:00\",\"2022-11-01T00:00:00\",\"2022-12-01T00:00:00\",\"2023-01-01T00:00:00\",\"2023-02-01T00:00:00\"],\"y\":[104.0,104.5,104.9,105.3,105.9,106.4,107.0,107.5,108.1,108.6,109.3,109.7,110.3,110.7,111.2,111.5,111.8,112.3,112.7,113.3,113.7,114.3,114.8,115.1,115.5,116.3,116.7,117.1,117.7,118.5,119.0,119.4,119.8,120.4,120.9,121.4,122.0,122.5,122.9,123.2,123.7,124.1,124.5,124.8,125.4,126.1,126.4,126.9,127.1,127.4,127.8,128.1,128.4,128.5,129.4,130.2,130.6,131.3,132.6,133.1,133.3,133.8,134.3,135.2,136.0,136.2,137.0,137.7,138.4,142.1,142.1,144.9,145.1,145.6,146.2,146.9,147.4,147.9,148.5,149.0,149.4,149.9,150.4,151.2,151.7,152.3,150.7,150.7,154.4,154.4,155.0,155.6,156.3,157.2,158.3,159.3,161.3,161.7,162.3,165.8,166.3,167.0,168.4,168.4,169.1,169.9,170.6,171.4,172.2,173.0,174.0,174.8,175.4,176.1,176.8,177.8,178.7,179.8,181.1,182.3,184.4],\"type\":\"scatter\"},{\"mode\":\"lines\",\"name\":\"housing\",\"x\":[\"2013-01-01T00:00:00\",\"2013-02-01T00:00:00\",\"2013-03-01T00:00:00\",\"2013-04-01T00:00:00\",\"2013-05-01T00:00:00\",\"2013-06-01T00:00:00\",\"2013-07-01T00:00:00\",\"2013-08-01T00:00:00\",\"2013-09-01T00:00:00\",\"2013-10-01T00:00:00\",\"2013-11-01T00:00:00\",\"2013-12-01T00:00:00\",\"2014-01-01T00:00:00\",\"2014-02-01T00:00:00\",\"2014-03-01T00:00:00\",\"2014-04-01T00:00:00\",\"2014-05-01T00:00:00\",\"2014-06-01T00:00:00\",\"2014-07-01T00:00:00\",\"2014-08-01T00:00:00\",\"2014-09-01T00:00:00\",\"2014-10-01T00:00:00\",\"2014-11-01T00:00:00\",\"2014-12-01T00:00:00\",\"2015-01-01T00:00:00\",\"2015-02-01T00:00:00\",\"2015-03-01T00:00:00\",\"2015-04-01T00:00:00\",\"2015-05-01T00:00:00\",\"2015-06-01T00:00:00\",\"2015-07-01T00:00:00\",\"2015-08-01T00:00:00\",\"2015-09-01T00:00:00\",\"2015-10-01T00:00:00\",\"2015-11-01T00:00:00\",\"2015-12-01T00:00:00\",\"2016-01-01T00:00:00\",\"2016-02-01T00:00:00\",\"2016-03-01T00:00:00\",\"2016-04-01T00:00:00\",\"2016-05-01T00:00:00\",\"2016-06-01T00:00:00\",\"2016-07-01T00:00:00\",\"2016-08-01T00:00:00\",\"2016-09-01T00:00:00\",\"2016-10-01T00:00:00\",\"2016-11-01T00:00:00\",\"2016-12-01T00:00:00\",\"2017-01-01T00:00:00\",\"2017-02-01T00:00:00\",\"2017-03-01T00:00:00\",\"2017-04-01T00:00:00\",\"2017-05-01T00:00:00\",\"2017-06-01T00:00:00\",\"2017-07-01T00:00:00\",\"2017-08-01T00:00:00\",\"2017-09-01T00:00:00\",\"2017-10-01T00:00:00\",\"2017-11-01T00:00:00\",\"2017-12-01T00:00:00\",\"2018-01-01T00:00:00\",\"2018-02-01T00:00:00\",\"2018-03-01T00:00:00\",\"2018-04-01T00:00:00\",\"2018-05-01T00:00:00\",\"2018-06-01T00:00:00\",\"2018-07-01T00:00:00\",\"2018-08-01T00:00:00\",\"2018-09-01T00:00:00\",\"2018-10-01T00:00:00\",\"2018-11-01T00:00:00\",\"2018-12-01T00:00:00\",\"2019-01-01T00:00:00\",\"2019-02-01T00:00:00\",\"2019-03-01T00:00:00\",\"2019-05-01T00:00:00\",\"2019-06-01T00:00:00\",\"2019-07-01T00:00:00\",\"2019-08-01T00:00:00\",\"2019-09-01T00:00:00\",\"2019-10-01T00:00:00\",\"2019-11-01T00:00:00\",\"2019-12-01T00:00:00\",\"2020-01-01T00:00:00\",\"2020-02-01T00:00:00\",\"2020-03-01T00:00:00\",\"2020-04-01T00:00:00\",\"2020-05-01T00:00:00\",\"2020-06-01T00:00:00\",\"2020-07-01T00:00:00\",\"2020-08-01T00:00:00\",\"2020-09-01T00:00:00\",\"2020-10-01T00:00:00\",\"2020-11-01T00:00:00\",\"2020-12-01T00:00:00\",\"2021-01-01T00:00:00\",\"2021-02-01T00:00:00\",\"2021-03-01T00:00:00\",\"2021-04-01T00:00:00\",\"2021-05-01T00:00:00\",\"2021-06-01T00:00:00\",\"2021-07-01T00:00:00\",\"2021-08-01T00:00:00\",\"2021-09-01T00:00:00\",\"2021-10-01T00:00:00\",\"2021-11-01T00:00:00\",\"2021-12-01T00:00:00\",\"2022-01-01T00:00:00\",\"2022-02-01T00:00:00\",\"2022-03-01T00:00:00\",\"2022-04-01T00:00:00\",\"2022-05-01T00:00:00\",\"2022-06-01T00:00:00\",\"2022-07-01T00:00:00\",\"2022-08-01T00:00:00\",\"2022-09-01T00:00:00\",\"2022-10-01T00:00:00\",\"2022-11-01T00:00:00\",\"2022-12-01T00:00:00\",\"2023-01-01T00:00:00\",\"2023-02-01T00:00:00\"],\"y\":[\"100.3\",\"100.4\",\"100.4\",\"100.5\",\"100.5\",\"106.6\",\"107.7\",\"108.9\",\"109.7\",\"110.5\",\"111.1\",\"110.7\",\"111.6\",\"112.5\",\"113.2\",\"113.9\",\"114.3\",\"113.9\",\"114.8\",\"115.5\",\"116.1\",\"116.7\",\"117.1\",\"116.5\",\"117.3\",\"118.1\",\"118.6\",\"119.2\",\"119.6\",\"119\",\"119.9\",\"120.9\",\"121.6\",\"122.4\",\"122.9\",\"122.4\",\"123.4\",\"124.4\",\"124.9\",\"125.6\",\"126\",\"125.5\",\"126.4\",\"127.3\",\"127.9\",\"128.7\",\"129.1\",\"128.5\",\"129.6\",\"130.5\",\"131.1\",\"131.7\",\"132.1\",\"131.4\",\"132.6\",\"134.4\",\"135.7\",\"137.3\",\"138.6\",\"139.1\",\"140.4\",\"141.3\",\"142\",\"142.9\",\"143.2\",\"142.5\",\"143.6\",\"144.6\",\"145.3\",\"146.9\",\"146.9\",\"146.5\",\"147.7\",\"148.5\",\"149\",\"150.1\",\"149.4\",\"150.6\",\"151.6\",\"152.2\",\"153\",\"153.5\",\"152.8\",\"153.9\",\"154.8\",\"154.5\",\"155.6\",\"155.6\",\"154.7\",\"154.7\",\"155.5\",\"156.3\",\"156.5\",\"158\",\"158.4\",\"157.7\",\"159.8\",\"159.9\",\"161.4\",\"161.6\",\"160.5\",\"161.5\",\"162.1\",\"162.1\",\"163.6\",\"164.2\",\"163.4\",\"164.5\",\"165.5\",\"165.3\",\"167\",\"167.5\",\"166.8\",\"167.8\",\"169\",\"169.5\",\"171.2\",\"171.8\",\"170.7\",\"172.1\",\"173.5\"],\"type\":\"scatter\"},{\"mode\":\"lines\",\"name\":\"cereals_and_products\",\"x\":[\"2013-01-01T00:00:00\",\"2013-02-01T00:00:00\",\"2013-03-01T00:00:00\",\"2013-04-01T00:00:00\",\"2013-05-01T00:00:00\",\"2013-06-01T00:00:00\",\"2013-07-01T00:00:00\",\"2013-08-01T00:00:00\",\"2013-09-01T00:00:00\",\"2013-10-01T00:00:00\",\"2013-11-01T00:00:00\",\"2013-12-01T00:00:00\",\"2014-01-01T00:00:00\",\"2014-02-01T00:00:00\",\"2014-03-01T00:00:00\",\"2014-04-01T00:00:00\",\"2014-05-01T00:00:00\",\"2014-06-01T00:00:00\",\"2014-07-01T00:00:00\",\"2014-08-01T00:00:00\",\"2014-09-01T00:00:00\",\"2014-10-01T00:00:00\",\"2014-11-01T00:00:00\",\"2014-12-01T00:00:00\",\"2015-01-01T00:00:00\",\"2015-02-01T00:00:00\",\"2015-03-01T00:00:00\",\"2015-04-01T00:00:00\",\"2015-05-01T00:00:00\",\"2015-06-01T00:00:00\",\"2015-07-01T00:00:00\",\"2015-08-01T00:00:00\",\"2015-09-01T00:00:00\",\"2015-10-01T00:00:00\",\"2015-11-01T00:00:00\",\"2015-12-01T00:00:00\",\"2016-01-01T00:00:00\",\"2016-02-01T00:00:00\",\"2016-03-01T00:00:00\",\"2016-04-01T00:00:00\",\"2016-05-01T00:00:00\",\"2016-06-01T00:00:00\",\"2016-07-01T00:00:00\",\"2016-08-01T00:00:00\",\"2016-09-01T00:00:00\",\"2016-10-01T00:00:00\",\"2016-11-01T00:00:00\",\"2016-12-01T00:00:00\",\"2017-01-01T00:00:00\",\"2017-02-01T00:00:00\",\"2017-03-01T00:00:00\",\"2017-04-01T00:00:00\",\"2017-05-01T00:00:00\",\"2017-06-01T00:00:00\",\"2017-07-01T00:00:00\",\"2017-08-01T00:00:00\",\"2017-09-01T00:00:00\",\"2017-10-01T00:00:00\",\"2017-11-01T00:00:00\",\"2017-12-01T00:00:00\",\"2018-01-01T00:00:00\",\"2018-02-01T00:00:00\",\"2018-03-01T00:00:00\",\"2018-04-01T00:00:00\",\"2018-05-01T00:00:00\",\"2018-06-01T00:00:00\",\"2018-07-01T00:00:00\",\"2018-08-01T00:00:00\",\"2018-09-01T00:00:00\",\"2018-10-01T00:00:00\",\"2018-11-01T00:00:00\",\"2018-12-01T00:00:00\",\"2019-01-01T00:00:00\",\"2019-02-01T00:00:00\",\"2019-03-01T00:00:00\",\"2019-05-01T00:00:00\",\"2019-06-01T00:00:00\",\"2019-07-01T00:00:00\",\"2019-08-01T00:00:00\",\"2019-09-01T00:00:00\",\"2019-10-01T00:00:00\",\"2019-11-01T00:00:00\",\"2019-12-01T00:00:00\",\"2020-01-01T00:00:00\",\"2020-02-01T00:00:00\",\"2020-03-01T00:00:00\",\"2020-04-01T00:00:00\",\"2020-05-01T00:00:00\",\"2020-06-01T00:00:00\",\"2020-07-01T00:00:00\",\"2020-08-01T00:00:00\",\"2020-09-01T00:00:00\",\"2020-10-01T00:00:00\",\"2020-11-01T00:00:00\",\"2020-12-01T00:00:00\",\"2021-01-01T00:00:00\",\"2021-02-01T00:00:00\",\"2021-03-01T00:00:00\",\"2021-04-01T00:00:00\",\"2021-05-01T00:00:00\",\"2021-06-01T00:00:00\",\"2021-07-01T00:00:00\",\"2021-08-01T00:00:00\",\"2021-09-01T00:00:00\",\"2021-10-01T00:00:00\",\"2021-11-01T00:00:00\",\"2021-12-01T00:00:00\",\"2022-01-01T00:00:00\",\"2022-02-01T00:00:00\",\"2022-03-01T00:00:00\",\"2022-04-01T00:00:00\",\"2022-05-01T00:00:00\",\"2022-06-01T00:00:00\",\"2022-07-01T00:00:00\",\"2022-08-01T00:00:00\",\"2022-09-01T00:00:00\",\"2022-10-01T00:00:00\",\"2022-11-01T00:00:00\",\"2022-12-01T00:00:00\",\"2023-01-01T00:00:00\",\"2023-02-01T00:00:00\"],\"y\":[108.4,110.4,111.4,111.6,112.3,113.8,114.8,115.6,116.4,117.1,118.1,119.1,119.6,120.2,120.7,120.9,121.1,121.5,122.4,122.7,122.9,123.2,123.3,122.9,123.4,123.7,123.5,123.5,123.6,123.9,123.7,124.2,124.6,125.0,125.4,125.7,126.1,126.4,126.5,126.6,126.8,127.7,128.5,129.3,129.9,130.5,131.4,132.3,132.8,133.1,133.3,133.0,132.9,133.3,133.6,134.3,134.7,135.3,135.7,135.8,136.0,135.9,136.2,136.4,136.6,136.9,137.5,138.3,138.6,137.4,137.4,137.5,137.1,137.6,137.8,138.3,138.7,139.3,140.1,140.9,141.8,142.5,143.5,144.3,144.8,145.1,148.7,148.7,149.6,149.6,148.9,148.4,147.5,146.8,146.0,144.9,144.3,144.1,144.3,146.3,146.7,146.4,146.6,146.6,147.4,148.2,148.7,149.5,150.0,151.3,152.9,154.1,155.0,156.5,160.3,163.5,165.2,167.4,169.2,173.8,174.4],\"type\":\"scatter\"}],                        {\"template\":{\"data\":{\"histogram2dcontour\":[{\"type\":\"histogram2dcontour\",\"colorbar\":{\"outlinewidth\":0,\"ticks\":\"\"},\"colorscale\":[[0.0,\"#0d0887\"],[0.1111111111111111,\"#46039f\"],[0.2222222222222222,\"#7201a8\"],[0.3333333333333333,\"#9c179e\"],[0.4444444444444444,\"#bd3786\"],[0.5555555555555556,\"#d8576b\"],[0.6666666666666666,\"#ed7953\"],[0.7777777777777778,\"#fb9f3a\"],[0.8888888888888888,\"#fdca26\"],[1.0,\"#f0f921\"]]}],\"choropleth\":[{\"type\":\"choropleth\",\"colorbar\":{\"outlinewidth\":0,\"ticks\":\"\"}}],\"histogram2d\":[{\"type\":\"histogram2d\",\"colorbar\":{\"outlinewidth\":0,\"ticks\":\"\"},\"colorscale\":[[0.0,\"#0d0887\"],[0.1111111111111111,\"#46039f\"],[0.2222222222222222,\"#7201a8\"],[0.3333333333333333,\"#9c179e\"],[0.4444444444444444,\"#bd3786\"],[0.5555555555555556,\"#d8576b\"],[0.6666666666666666,\"#ed7953\"],[0.7777777777777778,\"#fb9f3a\"],[0.8888888888888888,\"#fdca26\"],[1.0,\"#f0f921\"]]}],\"heatmap\":[{\"type\":\"heatmap\",\"colorbar\":{\"outlinewidth\":0,\"ticks\":\"\"},\"colorscale\":[[0.0,\"#0d0887\"],[0.1111111111111111,\"#46039f\"],[0.2222222222222222,\"#7201a8\"],[0.3333333333333333,\"#9c179e\"],[0.4444444444444444,\"#bd3786\"],[0.5555555555555556,\"#d8576b\"],[0.6666666666666666,\"#ed7953\"],[0.7777777777777778,\"#fb9f3a\"],[0.8888888888888888,\"#fdca26\"],[1.0,\"#f0f921\"]]}],\"heatmapgl\":[{\"type\":\"heatmapgl\",\"colorbar\":{\"outlinewidth\":0,\"ticks\":\"\"},\"colorscale\":[[0.0,\"#0d0887\"],[0.1111111111111111,\"#46039f\"],[0.2222222222222222,\"#7201a8\"],[0.3333333333333333,\"#9c179e\"],[0.4444444444444444,\"#bd3786\"],[0.5555555555555556,\"#d8576b\"],[0.6666666666666666,\"#ed7953\"],[0.7777777777777778,\"#fb9f3a\"],[0.8888888888888888,\"#fdca26\"],[1.0,\"#f0f921\"]]}],\"contourcarpet\":[{\"type\":\"contourcarpet\",\"colorbar\":{\"outlinewidth\":0,\"ticks\":\"\"}}],\"contour\":[{\"type\":\"contour\",\"colorbar\":{\"outlinewidth\":0,\"ticks\":\"\"},\"colorscale\":[[0.0,\"#0d0887\"],[0.1111111111111111,\"#46039f\"],[0.2222222222222222,\"#7201a8\"],[0.3333333333333333,\"#9c179e\"],[0.4444444444444444,\"#bd3786\"],[0.5555555555555556,\"#d8576b\"],[0.6666666666666666,\"#ed7953\"],[0.7777777777777778,\"#fb9f3a\"],[0.8888888888888888,\"#fdca26\"],[1.0,\"#f0f921\"]]}],\"surface\":[{\"type\":\"surface\",\"colorbar\":{\"outlinewidth\":0,\"ticks\":\"\"},\"colorscale\":[[0.0,\"#0d0887\"],[0.1111111111111111,\"#46039f\"],[0.2222222222222222,\"#7201a8\"],[0.3333333333333333,\"#9c179e\"],[0.4444444444444444,\"#bd3786\"],[0.5555555555555556,\"#d8576b\"],[0.6666666666666666,\"#ed7953\"],[0.7777777777777778,\"#fb9f3a\"],[0.8888888888888888,\"#fdca26\"],[1.0,\"#f0f921\"]]}],\"mesh3d\":[{\"type\":\"mesh3d\",\"colorbar\":{\"outlinewidth\":0,\"ticks\":\"\"}}],\"scatter\":[{\"fillpattern\":{\"fillmode\":\"overlay\",\"size\":10,\"solidity\":0.2},\"type\":\"scatter\"}],\"parcoords\":[{\"type\":\"parcoords\",\"line\":{\"colorbar\":{\"outlinewidth\":0,\"ticks\":\"\"}}}],\"scatterpolargl\":[{\"type\":\"scatterpolargl\",\"marker\":{\"colorbar\":{\"outlinewidth\":0,\"ticks\":\"\"}}}],\"bar\":[{\"error_x\":{\"color\":\"#2a3f5f\"},\"error_y\":{\"color\":\"#2a3f5f\"},\"marker\":{\"line\":{\"color\":\"#E5ECF6\",\"width\":0.5},\"pattern\":{\"fillmode\":\"overlay\",\"size\":10,\"solidity\":0.2}},\"type\":\"bar\"}],\"scattergeo\":[{\"type\":\"scattergeo\",\"marker\":{\"colorbar\":{\"outlinewidth\":0,\"ticks\":\"\"}}}],\"scatterpolar\":[{\"type\":\"scatterpolar\",\"marker\":{\"colorbar\":{\"outlinewidth\":0,\"ticks\":\"\"}}}],\"histogram\":[{\"marker\":{\"pattern\":{\"fillmode\":\"overlay\",\"size\":10,\"solidity\":0.2}},\"type\":\"histogram\"}],\"scattergl\":[{\"type\":\"scattergl\",\"marker\":{\"colorbar\":{\"outlinewidth\":0,\"ticks\":\"\"}}}],\"scatter3d\":[{\"type\":\"scatter3d\",\"line\":{\"colorbar\":{\"outlinewidth\":0,\"ticks\":\"\"}},\"marker\":{\"colorbar\":{\"outlinewidth\":0,\"ticks\":\"\"}}}],\"scattermapbox\":[{\"type\":\"scattermapbox\",\"marker\":{\"colorbar\":{\"outlinewidth\":0,\"ticks\":\"\"}}}],\"scatterternary\":[{\"type\":\"scatterternary\",\"marker\":{\"colorbar\":{\"outlinewidth\":0,\"ticks\":\"\"}}}],\"scattercarpet\":[{\"type\":\"scattercarpet\",\"marker\":{\"colorbar\":{\"outlinewidth\":0,\"ticks\":\"\"}}}],\"carpet\":[{\"aaxis\":{\"endlinecolor\":\"#2a3f5f\",\"gridcolor\":\"white\",\"linecolor\":\"white\",\"minorgridcolor\":\"white\",\"startlinecolor\":\"#2a3f5f\"},\"baxis\":{\"endlinecolor\":\"#2a3f5f\",\"gridcolor\":\"white\",\"linecolor\":\"white\",\"minorgridcolor\":\"white\",\"startlinecolor\":\"#2a3f5f\"},\"type\":\"carpet\"}],\"table\":[{\"cells\":{\"fill\":{\"color\":\"#EBF0F8\"},\"line\":{\"color\":\"white\"}},\"header\":{\"fill\":{\"color\":\"#C8D4E3\"},\"line\":{\"color\":\"white\"}},\"type\":\"table\"}],\"barpolar\":[{\"marker\":{\"line\":{\"color\":\"#E5ECF6\",\"width\":0.5},\"pattern\":{\"fillmode\":\"overlay\",\"size\":10,\"solidity\":0.2}},\"type\":\"barpolar\"}],\"pie\":[{\"automargin\":true,\"type\":\"pie\"}]},\"layout\":{\"autotypenumbers\":\"strict\",\"colorway\":[\"#636efa\",\"#EF553B\",\"#00cc96\",\"#ab63fa\",\"#FFA15A\",\"#19d3f3\",\"#FF6692\",\"#B6E880\",\"#FF97FF\",\"#FECB52\"],\"font\":{\"color\":\"#2a3f5f\"},\"hovermode\":\"closest\",\"hoverlabel\":{\"align\":\"left\"},\"paper_bgcolor\":\"white\",\"plot_bgcolor\":\"#E5ECF6\",\"polar\":{\"bgcolor\":\"#E5ECF6\",\"angularaxis\":{\"gridcolor\":\"white\",\"linecolor\":\"white\",\"ticks\":\"\"},\"radialaxis\":{\"gridcolor\":\"white\",\"linecolor\":\"white\",\"ticks\":\"\"}},\"ternary\":{\"bgcolor\":\"#E5ECF6\",\"aaxis\":{\"gridcolor\":\"white\",\"linecolor\":\"white\",\"ticks\":\"\"},\"baxis\":{\"gridcolor\":\"white\",\"linecolor\":\"white\",\"ticks\":\"\"},\"caxis\":{\"gridcolor\":\"white\",\"linecolor\":\"white\",\"ticks\":\"\"}},\"coloraxis\":{\"colorbar\":{\"outlinewidth\":0,\"ticks\":\"\"}},\"colorscale\":{\"sequential\":[[0.0,\"#0d0887\"],[0.1111111111111111,\"#46039f\"],[0.2222222222222222,\"#7201a8\"],[0.3333333333333333,\"#9c179e\"],[0.4444444444444444,\"#bd3786\"],[0.5555555555555556,\"#d8576b\"],[0.6666666666666666,\"#ed7953\"],[0.7777777777777778,\"#fb9f3a\"],[0.8888888888888888,\"#fdca26\"],[1.0,\"#f0f921\"]],\"sequentialminus\":[[0.0,\"#0d0887\"],[0.1111111111111111,\"#46039f\"],[0.2222222222222222,\"#7201a8\"],[0.3333333333333333,\"#9c179e\"],[0.4444444444444444,\"#bd3786\"],[0.5555555555555556,\"#d8576b\"],[0.6666666666666666,\"#ed7953\"],[0.7777777777777778,\"#fb9f3a\"],[0.8888888888888888,\"#fdca26\"],[1.0,\"#f0f921\"]],\"diverging\":[[0,\"#8e0152\"],[0.1,\"#c51b7d\"],[0.2,\"#de77ae\"],[0.3,\"#f1b6da\"],[0.4,\"#fde0ef\"],[0.5,\"#f7f7f7\"],[0.6,\"#e6f5d0\"],[0.7,\"#b8e186\"],[0.8,\"#7fbc41\"],[0.9,\"#4d9221\"],[1,\"#276419\"]]},\"xaxis\":{\"gridcolor\":\"white\",\"linecolor\":\"white\",\"ticks\":\"\",\"title\":{\"standoff\":15},\"zerolinecolor\":\"white\",\"automargin\":true,\"zerolinewidth\":2},\"yaxis\":{\"gridcolor\":\"white\",\"linecolor\":\"white\",\"ticks\":\"\",\"title\":{\"standoff\":15},\"zerolinecolor\":\"white\",\"automargin\":true,\"zerolinewidth\":2},\"scene\":{\"xaxis\":{\"backgroundcolor\":\"#E5ECF6\",\"gridcolor\":\"white\",\"linecolor\":\"white\",\"showbackground\":true,\"ticks\":\"\",\"zerolinecolor\":\"white\",\"gridwidth\":2},\"yaxis\":{\"backgroundcolor\":\"#E5ECF6\",\"gridcolor\":\"white\",\"linecolor\":\"white\",\"showbackground\":true,\"ticks\":\"\",\"zerolinecolor\":\"white\",\"gridwidth\":2},\"zaxis\":{\"backgroundcolor\":\"#E5ECF6\",\"gridcolor\":\"white\",\"linecolor\":\"white\",\"showbackground\":true,\"ticks\":\"\",\"zerolinecolor\":\"white\",\"gridwidth\":2}},\"shapedefaults\":{\"line\":{\"color\":\"#2a3f5f\"}},\"annotationdefaults\":{\"arrowcolor\":\"#2a3f5f\",\"arrowhead\":0,\"arrowwidth\":1},\"geo\":{\"bgcolor\":\"white\",\"landcolor\":\"#E5ECF6\",\"subunitcolor\":\"white\",\"showland\":true,\"showlakes\":true,\"lakecolor\":\"white\"},\"title\":{\"x\":0.05},\"mapbox\":{\"style\":\"light\"}}},\"title\":{\"text\":\"CPI Trends for Selected Sectors\"},\"xaxis\":{\"title\":{\"text\":\"Date\"}},\"yaxis\":{\"title\":{\"text\":\"CPI Value\"}},\"width\":1100,\"height\":600},                        {\"responsive\": true}                    ).then(function(){\n",
       "                            \n",
       "var gd = document.getElementById('52f8c412-fb3c-4d5a-bc63-8269c29e43a7');\n",
       "var x = new MutationObserver(function (mutations, observer) {{\n",
       "        var display = window.getComputedStyle(gd).display;\n",
       "        if (!display || display === 'none') {{\n",
       "            console.log([gd, 'removed!']);\n",
       "            Plotly.purge(gd);\n",
       "            observer.disconnect();\n",
       "        }}\n",
       "}});\n",
       "\n",
       "// Listen for the removal of the full notebook cells\n",
       "var notebookContainer = gd.closest('#notebook-container');\n",
       "if (notebookContainer) {{\n",
       "    x.observe(notebookContainer, {childList: true});\n",
       "}}\n",
       "\n",
       "// Listen for the clearing of the current output cell\n",
       "var outputEl = gd.closest('.output');\n",
       "if (outputEl) {{\n",
       "    x.observe(outputEl, {childList: true});\n",
       "}}\n",
       "\n",
       "                        })                };                });            </script>        </div>"
      ]
     },
     "metadata": {},
     "output_type": "display_data"
    }
   ],
   "source": [
    "fig = go.Figure()\n",
    "\n",
    "# Loop through each sector and add a trace\n",
    "for sector in sectors_to_analyze:\n",
    "    fig.add_trace(go.Scatter(x=sector_data['date'], y=sector_data[sector], mode='lines', name=sector))\n",
    "\n",
    "# Update layout with increased figure size\n",
    "fig.update_layout(\n",
    "    title='CPI Trends for Selected Sectors',\n",
    "    xaxis_title='Date',\n",
    "    yaxis_title='CPI Value',\n",
    "    width=1100,  # Increase width\n",
    "    height=600   # Increase height\n",
    ")\n",
    "\n",
    "# Show the figure\n",
    "fig.show()\n"
   ]
  },
  {
   "cell_type": "markdown",
   "id": "09af8eb9-d379-41f6-9ea5-513d40fb65ea",
   "metadata": {},
   "source": [
    "Each sector shows a general upward trend over time, which indicates rising prices. Fuel and light have experienced the steepest increase, particularly after 2020, which reflectes higher inflation in this category. Health and Housing have followed a more gradual, steady increase over the years, with Health showing a relatively consistent rise. Cereals and products, while generally increasing, show more fluctuations, particularly around 2020, which indicates price volatility in this category."
   ]
  },
  {
   "cell_type": "markdown",
   "id": "53fc1875-4b6d-4d61-a52c-6d69c080068d",
   "metadata": {},
   "source": [
    "# Event-Based Analysis (COVID-19 Periods)\n",
    "- Now, let’s analyze CPI trends specifically during the COVID-19 period (2020-2021):"
   ]
  },
  {
   "cell_type": "code",
   "execution_count": 135,
   "id": "772fde7c-52d5-4a40-9c96-de03dc984401",
   "metadata": {},
   "outputs": [
    {
     "data": {
      "application/vnd.plotly.v1+json": {
       "config": {
        "plotlyServerURL": "https://plot.ly"
       },
       "data": [
        {
         "line": {
          "color": "black",
          "width": 2
         },
         "mode": "lines",
         "name": "General CPI Index",
         "type": "scatter",
         "x": [
          "2020-01-01T00:00:00",
          "2020-02-01T00:00:00",
          "2020-03-01T00:00:00",
          "2020-04-01T00:00:00",
          "2020-05-01T00:00:00",
          "2020-06-01T00:00:00",
          "2020-07-01T00:00:00",
          "2020-08-01T00:00:00",
          "2020-09-01T00:00:00",
          "2020-10-01T00:00:00",
          "2020-11-01T00:00:00",
          "2020-12-01T00:00:00",
          "2021-01-01T00:00:00",
          "2021-02-01T00:00:00",
          "2021-03-01T00:00:00",
          "2021-04-01T00:00:00",
          "2021-05-01T00:00:00",
          "2021-06-01T00:00:00",
          "2021-07-01T00:00:00",
          "2021-08-01T00:00:00",
          "2021-09-01T00:00:00",
          "2021-10-01T00:00:00",
          "2021-11-01T00:00:00",
          "2021-12-01T00:00:00"
         ],
         "y": [
          150.2,
          149.1,
          148.6,
          148.6,
          148.6,
          151.8,
          151.8,
          153.9,
          154.7,
          156.4,
          158.4,
          158.9,
          157.3,
          156.6,
          156.8,
          157.8,
          160.4,
          161.3,
          162.5,
          163.2,
          163.2,
          165.5,
          166.7,
          166.2
         ]
        },
        {
         "mode": "lines",
         "name": "fuel_and_light",
         "type": "scatter",
         "x": [
          "2020-01-01T00:00:00",
          "2020-02-01T00:00:00",
          "2020-03-01T00:00:00",
          "2020-04-01T00:00:00",
          "2020-05-01T00:00:00",
          "2020-06-01T00:00:00",
          "2020-07-01T00:00:00",
          "2020-08-01T00:00:00",
          "2020-09-01T00:00:00",
          "2020-10-01T00:00:00",
          "2020-11-01T00:00:00",
          "2020-12-01T00:00:00",
          "2021-01-01T00:00:00",
          "2021-02-01T00:00:00",
          "2021-03-01T00:00:00",
          "2021-04-01T00:00:00",
          "2021-05-01T00:00:00",
          "2021-06-01T00:00:00",
          "2021-07-01T00:00:00",
          "2021-08-01T00:00:00",
          "2021-09-01T00:00:00",
          "2021-10-01T00:00:00",
          "2021-11-01T00:00:00",
          "2021-12-01T00:00:00"
         ],
         "y": [
          144.6,
          147.2,
          148.9,
          144.1,
          144.1,
          141.9,
          141.9,
          143,
          142.9,
          143.1,
          143.6,
          144.6,
          147.9,
          152.4,
          155.5,
          155.6,
          159.4,
          159.8,
          160.7,
          162.6,
          162.6,
          164.2,
          163.9,
          164.1
         ]
        },
        {
         "mode": "lines",
         "name": "health",
         "type": "scatter",
         "x": [
          "2020-01-01T00:00:00",
          "2020-02-01T00:00:00",
          "2020-03-01T00:00:00",
          "2020-04-01T00:00:00",
          "2020-05-01T00:00:00",
          "2020-06-01T00:00:00",
          "2020-07-01T00:00:00",
          "2020-08-01T00:00:00",
          "2020-09-01T00:00:00",
          "2020-10-01T00:00:00",
          "2020-11-01T00:00:00",
          "2020-12-01T00:00:00",
          "2021-01-01T00:00:00",
          "2021-02-01T00:00:00",
          "2021-03-01T00:00:00",
          "2021-04-01T00:00:00",
          "2021-05-01T00:00:00",
          "2021-06-01T00:00:00",
          "2021-07-01T00:00:00",
          "2021-08-01T00:00:00",
          "2021-09-01T00:00:00",
          "2021-10-01T00:00:00",
          "2021-11-01T00:00:00",
          "2021-12-01T00:00:00"
         ],
         "y": [
          151.2,
          151.7,
          152.3,
          150.7,
          150.7,
          154.4,
          154.4,
          155,
          155.6,
          156.3,
          157.2,
          158.3,
          159.3,
          161.3,
          161.7,
          162.3,
          165.8,
          166.3,
          167,
          168.4,
          168.4,
          169.1,
          169.9,
          170.6
         ]
        },
        {
         "mode": "lines",
         "name": "housing",
         "type": "scatter",
         "x": [
          "2020-01-01T00:00:00",
          "2020-02-01T00:00:00",
          "2020-03-01T00:00:00",
          "2020-04-01T00:00:00",
          "2020-05-01T00:00:00",
          "2020-06-01T00:00:00",
          "2020-07-01T00:00:00",
          "2020-08-01T00:00:00",
          "2020-09-01T00:00:00",
          "2020-10-01T00:00:00",
          "2020-11-01T00:00:00",
          "2020-12-01T00:00:00",
          "2021-01-01T00:00:00",
          "2021-02-01T00:00:00",
          "2021-03-01T00:00:00",
          "2021-04-01T00:00:00",
          "2021-05-01T00:00:00",
          "2021-06-01T00:00:00",
          "2021-07-01T00:00:00",
          "2021-08-01T00:00:00",
          "2021-09-01T00:00:00",
          "2021-10-01T00:00:00",
          "2021-11-01T00:00:00",
          "2021-12-01T00:00:00"
         ],
         "y": [
          "153.9",
          "154.8",
          "154.5",
          "155.6",
          "155.6",
          "154.7",
          "154.7",
          "155.5",
          "156.3",
          "156.5",
          "158",
          "158.4",
          "157.7",
          "159.8",
          "159.9",
          "161.4",
          "161.6",
          "160.5",
          "161.5",
          "162.1",
          "162.1",
          "163.6",
          "164.2",
          "163.4"
         ]
        },
        {
         "mode": "lines",
         "name": "cereals_and_products",
         "type": "scatter",
         "x": [
          "2020-01-01T00:00:00",
          "2020-02-01T00:00:00",
          "2020-03-01T00:00:00",
          "2020-04-01T00:00:00",
          "2020-05-01T00:00:00",
          "2020-06-01T00:00:00",
          "2020-07-01T00:00:00",
          "2020-08-01T00:00:00",
          "2020-09-01T00:00:00",
          "2020-10-01T00:00:00",
          "2020-11-01T00:00:00",
          "2020-12-01T00:00:00",
          "2021-01-01T00:00:00",
          "2021-02-01T00:00:00",
          "2021-03-01T00:00:00",
          "2021-04-01T00:00:00",
          "2021-05-01T00:00:00",
          "2021-06-01T00:00:00",
          "2021-07-01T00:00:00",
          "2021-08-01T00:00:00",
          "2021-09-01T00:00:00",
          "2021-10-01T00:00:00",
          "2021-11-01T00:00:00",
          "2021-12-01T00:00:00"
         ],
         "y": [
          144.3,
          144.8,
          145.1,
          148.7,
          148.7,
          149.6,
          149.6,
          148.9,
          148.4,
          147.5,
          146.8,
          146,
          144.9,
          144.3,
          144.1,
          144.3,
          146.3,
          146.7,
          146.4,
          146.6,
          146.6,
          147.4,
          148.2,
          148.7
         ]
        }
       ],
       "layout": {
        "autosize": true,
        "template": {
         "data": {
          "bar": [
           {
            "error_x": {
             "color": "#2a3f5f"
            },
            "error_y": {
             "color": "#2a3f5f"
            },
            "marker": {
             "line": {
              "color": "#E5ECF6",
              "width": 0.5
             },
             "pattern": {
              "fillmode": "overlay",
              "size": 10,
              "solidity": 0.2
             }
            },
            "type": "bar"
           }
          ],
          "barpolar": [
           {
            "marker": {
             "line": {
              "color": "#E5ECF6",
              "width": 0.5
             },
             "pattern": {
              "fillmode": "overlay",
              "size": 10,
              "solidity": 0.2
             }
            },
            "type": "barpolar"
           }
          ],
          "carpet": [
           {
            "aaxis": {
             "endlinecolor": "#2a3f5f",
             "gridcolor": "white",
             "linecolor": "white",
             "minorgridcolor": "white",
             "startlinecolor": "#2a3f5f"
            },
            "baxis": {
             "endlinecolor": "#2a3f5f",
             "gridcolor": "white",
             "linecolor": "white",
             "minorgridcolor": "white",
             "startlinecolor": "#2a3f5f"
            },
            "type": "carpet"
           }
          ],
          "choropleth": [
           {
            "colorbar": {
             "outlinewidth": 0,
             "ticks": ""
            },
            "type": "choropleth"
           }
          ],
          "contour": [
           {
            "colorbar": {
             "outlinewidth": 0,
             "ticks": ""
            },
            "colorscale": [
             [
              0,
              "#0d0887"
             ],
             [
              0.1111111111111111,
              "#46039f"
             ],
             [
              0.2222222222222222,
              "#7201a8"
             ],
             [
              0.3333333333333333,
              "#9c179e"
             ],
             [
              0.4444444444444444,
              "#bd3786"
             ],
             [
              0.5555555555555556,
              "#d8576b"
             ],
             [
              0.6666666666666666,
              "#ed7953"
             ],
             [
              0.7777777777777778,
              "#fb9f3a"
             ],
             [
              0.8888888888888888,
              "#fdca26"
             ],
             [
              1,
              "#f0f921"
             ]
            ],
            "type": "contour"
           }
          ],
          "contourcarpet": [
           {
            "colorbar": {
             "outlinewidth": 0,
             "ticks": ""
            },
            "type": "contourcarpet"
           }
          ],
          "heatmap": [
           {
            "colorbar": {
             "outlinewidth": 0,
             "ticks": ""
            },
            "colorscale": [
             [
              0,
              "#0d0887"
             ],
             [
              0.1111111111111111,
              "#46039f"
             ],
             [
              0.2222222222222222,
              "#7201a8"
             ],
             [
              0.3333333333333333,
              "#9c179e"
             ],
             [
              0.4444444444444444,
              "#bd3786"
             ],
             [
              0.5555555555555556,
              "#d8576b"
             ],
             [
              0.6666666666666666,
              "#ed7953"
             ],
             [
              0.7777777777777778,
              "#fb9f3a"
             ],
             [
              0.8888888888888888,
              "#fdca26"
             ],
             [
              1,
              "#f0f921"
             ]
            ],
            "type": "heatmap"
           }
          ],
          "heatmapgl": [
           {
            "colorbar": {
             "outlinewidth": 0,
             "ticks": ""
            },
            "colorscale": [
             [
              0,
              "#0d0887"
             ],
             [
              0.1111111111111111,
              "#46039f"
             ],
             [
              0.2222222222222222,
              "#7201a8"
             ],
             [
              0.3333333333333333,
              "#9c179e"
             ],
             [
              0.4444444444444444,
              "#bd3786"
             ],
             [
              0.5555555555555556,
              "#d8576b"
             ],
             [
              0.6666666666666666,
              "#ed7953"
             ],
             [
              0.7777777777777778,
              "#fb9f3a"
             ],
             [
              0.8888888888888888,
              "#fdca26"
             ],
             [
              1,
              "#f0f921"
             ]
            ],
            "type": "heatmapgl"
           }
          ],
          "histogram": [
           {
            "marker": {
             "pattern": {
              "fillmode": "overlay",
              "size": 10,
              "solidity": 0.2
             }
            },
            "type": "histogram"
           }
          ],
          "histogram2d": [
           {
            "colorbar": {
             "outlinewidth": 0,
             "ticks": ""
            },
            "colorscale": [
             [
              0,
              "#0d0887"
             ],
             [
              0.1111111111111111,
              "#46039f"
             ],
             [
              0.2222222222222222,
              "#7201a8"
             ],
             [
              0.3333333333333333,
              "#9c179e"
             ],
             [
              0.4444444444444444,
              "#bd3786"
             ],
             [
              0.5555555555555556,
              "#d8576b"
             ],
             [
              0.6666666666666666,
              "#ed7953"
             ],
             [
              0.7777777777777778,
              "#fb9f3a"
             ],
             [
              0.8888888888888888,
              "#fdca26"
             ],
             [
              1,
              "#f0f921"
             ]
            ],
            "type": "histogram2d"
           }
          ],
          "histogram2dcontour": [
           {
            "colorbar": {
             "outlinewidth": 0,
             "ticks": ""
            },
            "colorscale": [
             [
              0,
              "#0d0887"
             ],
             [
              0.1111111111111111,
              "#46039f"
             ],
             [
              0.2222222222222222,
              "#7201a8"
             ],
             [
              0.3333333333333333,
              "#9c179e"
             ],
             [
              0.4444444444444444,
              "#bd3786"
             ],
             [
              0.5555555555555556,
              "#d8576b"
             ],
             [
              0.6666666666666666,
              "#ed7953"
             ],
             [
              0.7777777777777778,
              "#fb9f3a"
             ],
             [
              0.8888888888888888,
              "#fdca26"
             ],
             [
              1,
              "#f0f921"
             ]
            ],
            "type": "histogram2dcontour"
           }
          ],
          "mesh3d": [
           {
            "colorbar": {
             "outlinewidth": 0,
             "ticks": ""
            },
            "type": "mesh3d"
           }
          ],
          "parcoords": [
           {
            "line": {
             "colorbar": {
              "outlinewidth": 0,
              "ticks": ""
             }
            },
            "type": "parcoords"
           }
          ],
          "pie": [
           {
            "automargin": true,
            "type": "pie"
           }
          ],
          "scatter": [
           {
            "fillpattern": {
             "fillmode": "overlay",
             "size": 10,
             "solidity": 0.2
            },
            "type": "scatter"
           }
          ],
          "scatter3d": [
           {
            "line": {
             "colorbar": {
              "outlinewidth": 0,
              "ticks": ""
             }
            },
            "marker": {
             "colorbar": {
              "outlinewidth": 0,
              "ticks": ""
             }
            },
            "type": "scatter3d"
           }
          ],
          "scattercarpet": [
           {
            "marker": {
             "colorbar": {
              "outlinewidth": 0,
              "ticks": ""
             }
            },
            "type": "scattercarpet"
           }
          ],
          "scattergeo": [
           {
            "marker": {
             "colorbar": {
              "outlinewidth": 0,
              "ticks": ""
             }
            },
            "type": "scattergeo"
           }
          ],
          "scattergl": [
           {
            "marker": {
             "colorbar": {
              "outlinewidth": 0,
              "ticks": ""
             }
            },
            "type": "scattergl"
           }
          ],
          "scattermapbox": [
           {
            "marker": {
             "colorbar": {
              "outlinewidth": 0,
              "ticks": ""
             }
            },
            "type": "scattermapbox"
           }
          ],
          "scatterpolar": [
           {
            "marker": {
             "colorbar": {
              "outlinewidth": 0,
              "ticks": ""
             }
            },
            "type": "scatterpolar"
           }
          ],
          "scatterpolargl": [
           {
            "marker": {
             "colorbar": {
              "outlinewidth": 0,
              "ticks": ""
             }
            },
            "type": "scatterpolargl"
           }
          ],
          "scatterternary": [
           {
            "marker": {
             "colorbar": {
              "outlinewidth": 0,
              "ticks": ""
             }
            },
            "type": "scatterternary"
           }
          ],
          "surface": [
           {
            "colorbar": {
             "outlinewidth": 0,
             "ticks": ""
            },
            "colorscale": [
             [
              0,
              "#0d0887"
             ],
             [
              0.1111111111111111,
              "#46039f"
             ],
             [
              0.2222222222222222,
              "#7201a8"
             ],
             [
              0.3333333333333333,
              "#9c179e"
             ],
             [
              0.4444444444444444,
              "#bd3786"
             ],
             [
              0.5555555555555556,
              "#d8576b"
             ],
             [
              0.6666666666666666,
              "#ed7953"
             ],
             [
              0.7777777777777778,
              "#fb9f3a"
             ],
             [
              0.8888888888888888,
              "#fdca26"
             ],
             [
              1,
              "#f0f921"
             ]
            ],
            "type": "surface"
           }
          ],
          "table": [
           {
            "cells": {
             "fill": {
              "color": "#EBF0F8"
             },
             "line": {
              "color": "white"
             }
            },
            "header": {
             "fill": {
              "color": "#C8D4E3"
             },
             "line": {
              "color": "white"
             }
            },
            "type": "table"
           }
          ]
         },
         "layout": {
          "annotationdefaults": {
           "arrowcolor": "#2a3f5f",
           "arrowhead": 0,
           "arrowwidth": 1
          },
          "autotypenumbers": "strict",
          "coloraxis": {
           "colorbar": {
            "outlinewidth": 0,
            "ticks": ""
           }
          },
          "colorscale": {
           "diverging": [
            [
             0,
             "#8e0152"
            ],
            [
             0.1,
             "#c51b7d"
            ],
            [
             0.2,
             "#de77ae"
            ],
            [
             0.3,
             "#f1b6da"
            ],
            [
             0.4,
             "#fde0ef"
            ],
            [
             0.5,
             "#f7f7f7"
            ],
            [
             0.6,
             "#e6f5d0"
            ],
            [
             0.7,
             "#b8e186"
            ],
            [
             0.8,
             "#7fbc41"
            ],
            [
             0.9,
             "#4d9221"
            ],
            [
             1,
             "#276419"
            ]
           ],
           "sequential": [
            [
             0,
             "#0d0887"
            ],
            [
             0.1111111111111111,
             "#46039f"
            ],
            [
             0.2222222222222222,
             "#7201a8"
            ],
            [
             0.3333333333333333,
             "#9c179e"
            ],
            [
             0.4444444444444444,
             "#bd3786"
            ],
            [
             0.5555555555555556,
             "#d8576b"
            ],
            [
             0.6666666666666666,
             "#ed7953"
            ],
            [
             0.7777777777777778,
             "#fb9f3a"
            ],
            [
             0.8888888888888888,
             "#fdca26"
            ],
            [
             1,
             "#f0f921"
            ]
           ],
           "sequentialminus": [
            [
             0,
             "#0d0887"
            ],
            [
             0.1111111111111111,
             "#46039f"
            ],
            [
             0.2222222222222222,
             "#7201a8"
            ],
            [
             0.3333333333333333,
             "#9c179e"
            ],
            [
             0.4444444444444444,
             "#bd3786"
            ],
            [
             0.5555555555555556,
             "#d8576b"
            ],
            [
             0.6666666666666666,
             "#ed7953"
            ],
            [
             0.7777777777777778,
             "#fb9f3a"
            ],
            [
             0.8888888888888888,
             "#fdca26"
            ],
            [
             1,
             "#f0f921"
            ]
           ]
          },
          "colorway": [
           "#636efa",
           "#EF553B",
           "#00cc96",
           "#ab63fa",
           "#FFA15A",
           "#19d3f3",
           "#FF6692",
           "#B6E880",
           "#FF97FF",
           "#FECB52"
          ],
          "font": {
           "color": "#2a3f5f"
          },
          "geo": {
           "bgcolor": "white",
           "lakecolor": "white",
           "landcolor": "#E5ECF6",
           "showlakes": true,
           "showland": true,
           "subunitcolor": "white"
          },
          "hoverlabel": {
           "align": "left"
          },
          "hovermode": "closest",
          "mapbox": {
           "style": "light"
          },
          "paper_bgcolor": "white",
          "plot_bgcolor": "#E5ECF6",
          "polar": {
           "angularaxis": {
            "gridcolor": "white",
            "linecolor": "white",
            "ticks": ""
           },
           "bgcolor": "#E5ECF6",
           "radialaxis": {
            "gridcolor": "white",
            "linecolor": "white",
            "ticks": ""
           }
          },
          "scene": {
           "xaxis": {
            "backgroundcolor": "#E5ECF6",
            "gridcolor": "white",
            "gridwidth": 2,
            "linecolor": "white",
            "showbackground": true,
            "ticks": "",
            "zerolinecolor": "white"
           },
           "yaxis": {
            "backgroundcolor": "#E5ECF6",
            "gridcolor": "white",
            "gridwidth": 2,
            "linecolor": "white",
            "showbackground": true,
            "ticks": "",
            "zerolinecolor": "white"
           },
           "zaxis": {
            "backgroundcolor": "#E5ECF6",
            "gridcolor": "white",
            "gridwidth": 2,
            "linecolor": "white",
            "showbackground": true,
            "ticks": "",
            "zerolinecolor": "white"
           }
          },
          "shapedefaults": {
           "line": {
            "color": "#2a3f5f"
           }
          },
          "ternary": {
           "aaxis": {
            "gridcolor": "white",
            "linecolor": "white",
            "ticks": ""
           },
           "baxis": {
            "gridcolor": "white",
            "linecolor": "white",
            "ticks": ""
           },
           "bgcolor": "#E5ECF6",
           "caxis": {
            "gridcolor": "white",
            "linecolor": "white",
            "ticks": ""
           }
          },
          "title": {
           "x": 0.05
          },
          "xaxis": {
           "automargin": true,
           "gridcolor": "white",
           "linecolor": "white",
           "ticks": "",
           "title": {
            "standoff": 15
           },
           "zerolinecolor": "white",
           "zerolinewidth": 2
          },
          "yaxis": {
           "automargin": true,
           "gridcolor": "white",
           "linecolor": "white",
           "ticks": "",
           "title": {
            "standoff": 15
           },
           "zerolinecolor": "white",
           "zerolinewidth": 2
          }
         }
        },
        "title": {
         "text": "CPI Trends During COVID-19 Period (2020-2021)"
        },
        "xaxis": {
         "autorange": true,
         "range": [
          "2020-01-01",
          "2021-12-01"
         ],
         "title": {
          "text": "Date"
         },
         "type": "date"
        },
        "yaxis": {
         "autorange": true,
         "range": [
          140.30555555555557,
          172.19444444444443
         ],
         "title": {
          "text": "CPI Value"
         },
         "type": "linear"
        }
       }
      },
      "image/png": "[encoded data removed]",
      "text/html": [
       "<div>                            <div id=\"ace5140d-2636-4017-9444-4a059c2556a4\" class=\"plotly-graph-div\" style=\"height:525px; width:100%;\"></div>            <script type=\"text/javascript\">                require([\"plotly\"], function(Plotly) {                    window.PLOTLYENV=window.PLOTLYENV || {};                                    if (document.getElementById(\"ace5140d-2636-4017-9444-4a059c2556a4\")) {                    Plotly.newPlot(                        \"ace5140d-2636-4017-9444-4a059c2556a4\",                        [{\"line\":{\"color\":\"black\",\"width\":2},\"mode\":\"lines\",\"name\":\"General CPI Index\",\"x\":[\"2020-01-01T00:00:00\",\"2020-02-01T00:00:00\",\"2020-03-01T00:00:00\",\"2020-04-01T00:00:00\",\"2020-05-01T00:00:00\",\"2020-06-01T00:00:00\",\"2020-07-01T00:00:00\",\"2020-08-01T00:00:00\",\"2020-09-01T00:00:00\",\"2020-10-01T00:00:00\",\"2020-11-01T00:00:00\",\"2020-12-01T00:00:00\",\"2021-01-01T00:00:00\",\"2021-02-01T00:00:00\",\"2021-03-01T00:00:00\",\"2021-04-01T00:00:00\",\"2021-05-01T00:00:00\",\"2021-06-01T00:00:00\",\"2021-07-01T00:00:00\",\"2021-08-01T00:00:00\",\"2021-09-01T00:00:00\",\"2021-10-01T00:00:00\",\"2021-11-01T00:00:00\",\"2021-12-01T00:00:00\"],\"y\":[150.2,149.1,148.6,148.6,148.6,151.8,151.8,153.9,154.7,156.4,158.4,158.9,157.3,156.6,156.8,157.8,160.4,161.3,162.5,163.2,163.2,165.5,166.7,166.2],\"type\":\"scatter\"},{\"mode\":\"lines\",\"name\":\"fuel_and_light\",\"x\":[\"2020-01-01T00:00:00\",\"2020-02-01T00:00:00\",\"2020-03-01T00:00:00\",\"2020-04-01T00:00:00\",\"2020-05-01T00:00:00\",\"2020-06-01T00:00:00\",\"2020-07-01T00:00:00\",\"2020-08-01T00:00:00\",\"2020-09-01T00:00:00\",\"2020-10-01T00:00:00\",\"2020-11-01T00:00:00\",\"2020-12-01T00:00:00\",\"2021-01-01T00:00:00\",\"2021-02-01T00:00:00\",\"2021-03-01T00:00:00\",\"2021-04-01T00:00:00\",\"2021-05-01T00:00:00\",\"2021-06-01T00:00:00\",\"2021-07-01T00:00:00\",\"2021-08-01T00:00:00\",\"2021-09-01T00:00:00\",\"2021-10-01T00:00:00\",\"2021-11-01T00:00:00\",\"2021-12-01T00:00:00\"],\"y\":[144.6,147.2,148.9,144.1,144.1,141.9,141.9,143.0,142.9,143.1,143.6,144.6,147.9,152.4,155.5,155.6,159.4,159.8,160.7,162.6,162.6,164.2,163.9,164.1],\"type\":\"scatter\"},{\"mode\":\"lines\",\"name\":\"health\",\"x\":[\"2020-01-01T00:00:00\",\"2020-02-01T00:00:00\",\"2020-03-01T00:00:00\",\"2020-04-01T00:00:00\",\"2020-05-01T00:00:00\",\"2020-06-01T00:00:00\",\"2020-07-01T00:00:00\",\"2020-08-01T00:00:00\",\"2020-09-01T00:00:00\",\"2020-10-01T00:00:00\",\"2020-11-01T00:00:00\",\"2020-12-01T00:00:00\",\"2021-01-01T00:00:00\",\"2021-02-01T00:00:00\",\"2021-03-01T00:00:00\",\"2021-04-01T00:00:00\",\"2021-05-01T00:00:00\",\"2021-06-01T00:00:00\",\"2021-07-01T00:00:00\",\"2021-08-01T00:00:00\",\"2021-09-01T00:00:00\",\"2021-10-01T00:00:00\",\"2021-11-01T00:00:00\",\"2021-12-01T00:00:00\"],\"y\":[151.2,151.7,152.3,150.7,150.7,154.4,154.4,155.0,155.6,156.3,157.2,158.3,159.3,161.3,161.7,162.3,165.8,166.3,167.0,168.4,168.4,169.1,169.9,170.6],\"type\":\"scatter\"},{\"mode\":\"lines\",\"name\":\"housing\",\"x\":[\"2020-01-01T00:00:00\",\"2020-02-01T00:00:00\",\"2020-03-01T00:00:00\",\"2020-04-01T00:00:00\",\"2020-05-01T00:00:00\",\"2020-06-01T00:00:00\",\"2020-07-01T00:00:00\",\"2020-08-01T00:00:00\",\"2020-09-01T00:00:00\",\"2020-10-01T00:00:00\",\"2020-11-01T00:00:00\",\"2020-12-01T00:00:00\",\"2021-01-01T00:00:00\",\"2021-02-01T00:00:00\",\"2021-03-01T00:00:00\",\"2021-04-01T00:00:00\",\"2021-05-01T00:00:00\",\"2021-06-01T00:00:00\",\"2021-07-01T00:00:00\",\"2021-08-01T00:00:00\",\"2021-09-01T00:00:00\",\"2021-10-01T00:00:00\",\"2021-11-01T00:00:00\",\"2021-12-01T00:00:00\"],\"y\":[\"153.9\",\"154.8\",\"154.5\",\"155.6\",\"155.6\",\"154.7\",\"154.7\",\"155.5\",\"156.3\",\"156.5\",\"158\",\"158.4\",\"157.7\",\"159.8\",\"159.9\",\"161.4\",\"161.6\",\"160.5\",\"161.5\",\"162.1\",\"162.1\",\"163.6\",\"164.2\",\"163.4\"],\"type\":\"scatter\"},{\"mode\":\"lines\",\"name\":\"cereals_and_products\",\"x\":[\"2020-01-01T00:00:00\",\"2020-02-01T00:00:00\",\"2020-03-01T00:00:00\",\"2020-04-01T00:00:00\",\"2020-05-01T00:00:00\",\"2020-06-01T00:00:00\",\"2020-07-01T00:00:00\",\"2020-08-01T00:00:00\",\"2020-09-01T00:00:00\",\"2020-10-01T00:00:00\",\"2020-11-01T00:00:00\",\"2020-12-01T00:00:00\",\"2021-01-01T00:00:00\",\"2021-02-01T00:00:00\",\"2021-03-01T00:00:00\",\"2021-04-01T00:00:00\",\"2021-05-01T00:00:00\",\"2021-06-01T00:00:00\",\"2021-07-01T00:00:00\",\"2021-08-01T00:00:00\",\"2021-09-01T00:00:00\",\"2021-10-01T00:00:00\",\"2021-11-01T00:00:00\",\"2021-12-01T00:00:00\"],\"y\":[144.3,144.8,145.1,148.7,148.7,149.6,149.6,148.9,148.4,147.5,146.8,146.0,144.9,144.3,144.1,144.3,146.3,146.7,146.4,146.6,146.6,147.4,148.2,148.7],\"type\":\"scatter\"}],                        {\"template\":{\"data\":{\"histogram2dcontour\":[{\"type\":\"histogram2dcontour\",\"colorbar\":{\"outlinewidth\":0,\"ticks\":\"\"},\"colorscale\":[[0.0,\"#0d0887\"],[0.1111111111111111,\"#46039f\"],[0.2222222222222222,\"#7201a8\"],[0.3333333333333333,\"#9c179e\"],[0.4444444444444444,\"#bd3786\"],[0.5555555555555556,\"#d8576b\"],[0.6666666666666666,\"#ed7953\"],[0.7777777777777778,\"#fb9f3a\"],[0.8888888888888888,\"#fdca26\"],[1.0,\"#f0f921\"]]}],\"choropleth\":[{\"type\":\"choropleth\",\"colorbar\":{\"outlinewidth\":0,\"ticks\":\"\"}}],\"histogram2d\":[{\"type\":\"histogram2d\",\"colorbar\":{\"outlinewidth\":0,\"ticks\":\"\"},\"colorscale\":[[0.0,\"#0d0887\"],[0.1111111111111111,\"#46039f\"],[0.2222222222222222,\"#7201a8\"],[0.3333333333333333,\"#9c179e\"],[0.4444444444444444,\"#bd3786\"],[0.5555555555555556,\"#d8576b\"],[0.6666666666666666,\"#ed7953\"],[0.7777777777777778,\"#fb9f3a\"],[0.8888888888888888,\"#fdca26\"],[1.0,\"#f0f921\"]]}],\"heatmap\":[{\"type\":\"heatmap\",\"colorbar\":{\"outlinewidth\":0,\"ticks\":\"\"},\"colorscale\":[[0.0,\"#0d0887\"],[0.1111111111111111,\"#46039f\"],[0.2222222222222222,\"#7201a8\"],[0.3333333333333333,\"#9c179e\"],[0.4444444444444444,\"#bd3786\"],[0.5555555555555556,\"#d8576b\"],[0.6666666666666666,\"#ed7953\"],[0.7777777777777778,\"#fb9f3a\"],[0.8888888888888888,\"#fdca26\"],[1.0,\"#f0f921\"]]}],\"heatmapgl\":[{\"type\":\"heatmapgl\",\"colorbar\":{\"outlinewidth\":0,\"ticks\":\"\"},\"colorscale\":[[0.0,\"#0d0887\"],[0.1111111111111111,\"#46039f\"],[0.2222222222222222,\"#7201a8\"],[0.3333333333333333,\"#9c179e\"],[0.4444444444444444,\"#bd3786\"],[0.5555555555555556,\"#d8576b\"],[0.6666666666666666,\"#ed7953\"],[0.7777777777777778,\"#fb9f3a\"],[0.8888888888888888,\"#fdca26\"],[1.0,\"#f0f921\"]]}],\"contourcarpet\":[{\"type\":\"contourcarpet\",\"colorbar\":{\"outlinewidth\":0,\"ticks\":\"\"}}],\"contour\":[{\"type\":\"contour\",\"colorbar\":{\"outlinewidth\":0,\"ticks\":\"\"},\"colorscale\":[[0.0,\"#0d0887\"],[0.1111111111111111,\"#46039f\"],[0.2222222222222222,\"#7201a8\"],[0.3333333333333333,\"#9c179e\"],[0.4444444444444444,\"#bd3786\"],[0.5555555555555556,\"#d8576b\"],[0.6666666666666666,\"#ed7953\"],[0.7777777777777778,\"#fb9f3a\"],[0.8888888888888888,\"#fdca26\"],[1.0,\"#f0f921\"]]}],\"surface\":[{\"type\":\"surface\",\"colorbar\":{\"outlinewidth\":0,\"ticks\":\"\"},\"colorscale\":[[0.0,\"#0d0887\"],[0.1111111111111111,\"#46039f\"],[0.2222222222222222,\"#7201a8\"],[0.3333333333333333,\"#9c179e\"],[0.4444444444444444,\"#bd3786\"],[0.5555555555555556,\"#d8576b\"],[0.6666666666666666,\"#ed7953\"],[0.7777777777777778,\"#fb9f3a\"],[0.8888888888888888,\"#fdca26\"],[1.0,\"#f0f921\"]]}],\"mesh3d\":[{\"type\":\"mesh3d\",\"colorbar\":{\"outlinewidth\":0,\"ticks\":\"\"}}],\"scatter\":[{\"fillpattern\":{\"fillmode\":\"overlay\",\"size\":10,\"solidity\":0.2},\"type\":\"scatter\"}],\"parcoords\":[{\"type\":\"parcoords\",\"line\":{\"colorbar\":{\"outlinewidth\":0,\"ticks\":\"\"}}}],\"scatterpolargl\":[{\"type\":\"scatterpolargl\",\"marker\":{\"colorbar\":{\"outlinewidth\":0,\"ticks\":\"\"}}}],\"bar\":[{\"error_x\":{\"color\":\"#2a3f5f\"},\"error_y\":{\"color\":\"#2a3f5f\"},\"marker\":{\"line\":{\"color\":\"#E5ECF6\",\"width\":0.5},\"pattern\":{\"fillmode\":\"overlay\",\"size\":10,\"solidity\":0.2}},\"type\":\"bar\"}],\"scattergeo\":[{\"type\":\"scattergeo\",\"marker\":{\"colorbar\":{\"outlinewidth\":0,\"ticks\":\"\"}}}],\"scatterpolar\":[{\"type\":\"scatterpolar\",\"marker\":{\"colorbar\":{\"outlinewidth\":0,\"ticks\":\"\"}}}],\"histogram\":[{\"marker\":{\"pattern\":{\"fillmode\":\"overlay\",\"size\":10,\"solidity\":0.2}},\"type\":\"histogram\"}],\"scattergl\":[{\"type\":\"scattergl\",\"marker\":{\"colorbar\":{\"outlinewidth\":0,\"ticks\":\"\"}}}],\"scatter3d\":[{\"type\":\"scatter3d\",\"line\":{\"colorbar\":{\"outlinewidth\":0,\"ticks\":\"\"}},\"marker\":{\"colorbar\":{\"outlinewidth\":0,\"ticks\":\"\"}}}],\"scattermapbox\":[{\"type\":\"scattermapbox\",\"marker\":{\"colorbar\":{\"outlinewidth\":0,\"ticks\":\"\"}}}],\"scatterternary\":[{\"type\":\"scatterternary\",\"marker\":{\"colorbar\":{\"outlinewidth\":0,\"ticks\":\"\"}}}],\"scattercarpet\":[{\"type\":\"scattercarpet\",\"marker\":{\"colorbar\":{\"outlinewidth\":0,\"ticks\":\"\"}}}],\"carpet\":[{\"aaxis\":{\"endlinecolor\":\"#2a3f5f\",\"gridcolor\":\"white\",\"linecolor\":\"white\",\"minorgridcolor\":\"white\",\"startlinecolor\":\"#2a3f5f\"},\"baxis\":{\"endlinecolor\":\"#2a3f5f\",\"gridcolor\":\"white\",\"linecolor\":\"white\",\"minorgridcolor\":\"white\",\"startlinecolor\":\"#2a3f5f\"},\"type\":\"carpet\"}],\"table\":[{\"cells\":{\"fill\":{\"color\":\"#EBF0F8\"},\"line\":{\"color\":\"white\"}},\"header\":{\"fill\":{\"color\":\"#C8D4E3\"},\"line\":{\"color\":\"white\"}},\"type\":\"table\"}],\"barpolar\":[{\"marker\":{\"line\":{\"color\":\"#E5ECF6\",\"width\":0.5},\"pattern\":{\"fillmode\":\"overlay\",\"size\":10,\"solidity\":0.2}},\"type\":\"barpolar\"}],\"pie\":[{\"automargin\":true,\"type\":\"pie\"}]},\"layout\":{\"autotypenumbers\":\"strict\",\"colorway\":[\"#636efa\",\"#EF553B\",\"#00cc96\",\"#ab63fa\",\"#FFA15A\",\"#19d3f3\",\"#FF6692\",\"#B6E880\",\"#FF97FF\",\"#FECB52\"],\"font\":{\"color\":\"#2a3f5f\"},\"hovermode\":\"closest\",\"hoverlabel\":{\"align\":\"left\"},\"paper_bgcolor\":\"white\",\"plot_bgcolor\":\"#E5ECF6\",\"polar\":{\"bgcolor\":\"#E5ECF6\",\"angularaxis\":{\"gridcolor\":\"white\",\"linecolor\":\"white\",\"ticks\":\"\"},\"radialaxis\":{\"gridcolor\":\"white\",\"linecolor\":\"white\",\"ticks\":\"\"}},\"ternary\":{\"bgcolor\":\"#E5ECF6\",\"aaxis\":{\"gridcolor\":\"white\",\"linecolor\":\"white\",\"ticks\":\"\"},\"baxis\":{\"gridcolor\":\"white\",\"linecolor\":\"white\",\"ticks\":\"\"},\"caxis\":{\"gridcolor\":\"white\",\"linecolor\":\"white\",\"ticks\":\"\"}},\"coloraxis\":{\"colorbar\":{\"outlinewidth\":0,\"ticks\":\"\"}},\"colorscale\":{\"sequential\":[[0.0,\"#0d0887\"],[0.1111111111111111,\"#46039f\"],[0.2222222222222222,\"#7201a8\"],[0.3333333333333333,\"#9c179e\"],[0.4444444444444444,\"#bd3786\"],[0.5555555555555556,\"#d8576b\"],[0.6666666666666666,\"#ed7953\"],[0.7777777777777778,\"#fb9f3a\"],[0.8888888888888888,\"#fdca26\"],[1.0,\"#f0f921\"]],\"sequentialminus\":[[0.0,\"#0d0887\"],[0.1111111111111111,\"#46039f\"],[0.2222222222222222,\"#7201a8\"],[0.3333333333333333,\"#9c179e\"],[0.4444444444444444,\"#bd3786\"],[0.5555555555555556,\"#d8576b\"],[0.6666666666666666,\"#ed7953\"],[0.7777777777777778,\"#fb9f3a\"],[0.8888888888888888,\"#fdca26\"],[1.0,\"#f0f921\"]],\"diverging\":[[0,\"#8e0152\"],[0.1,\"#c51b7d\"],[0.2,\"#de77ae\"],[0.3,\"#f1b6da\"],[0.4,\"#fde0ef\"],[0.5,\"#f7f7f7\"],[0.6,\"#e6f5d0\"],[0.7,\"#b8e186\"],[0.8,\"#7fbc41\"],[0.9,\"#4d9221\"],[1,\"#276419\"]]},\"xaxis\":{\"gridcolor\":\"white\",\"linecolor\":\"white\",\"ticks\":\"\",\"title\":{\"standoff\":15},\"zerolinecolor\":\"white\",\"automargin\":true,\"zerolinewidth\":2},\"yaxis\":{\"gridcolor\":\"white\",\"linecolor\":\"white\",\"ticks\":\"\",\"title\":{\"standoff\":15},\"zerolinecolor\":\"white\",\"automargin\":true,\"zerolinewidth\":2},\"scene\":{\"xaxis\":{\"backgroundcolor\":\"#E5ECF6\",\"gridcolor\":\"white\",\"linecolor\":\"white\",\"showbackground\":true,\"ticks\":\"\",\"zerolinecolor\":\"white\",\"gridwidth\":2},\"yaxis\":{\"backgroundcolor\":\"#E5ECF6\",\"gridcolor\":\"white\",\"linecolor\":\"white\",\"showbackground\":true,\"ticks\":\"\",\"zerolinecolor\":\"white\",\"gridwidth\":2},\"zaxis\":{\"backgroundcolor\":\"#E5ECF6\",\"gridcolor\":\"white\",\"linecolor\":\"white\",\"showbackground\":true,\"ticks\":\"\",\"zerolinecolor\":\"white\",\"gridwidth\":2}},\"shapedefaults\":{\"line\":{\"color\":\"#2a3f5f\"}},\"annotationdefaults\":{\"arrowcolor\":\"#2a3f5f\",\"arrowhead\":0,\"arrowwidth\":1},\"geo\":{\"bgcolor\":\"white\",\"landcolor\":\"#E5ECF6\",\"subunitcolor\":\"white\",\"showland\":true,\"showlakes\":true,\"lakecolor\":\"white\"},\"title\":{\"x\":0.05},\"mapbox\":{\"style\":\"light\"}}},\"title\":{\"text\":\"CPI Trends During COVID-19 Period (2020-2021)\"},\"xaxis\":{\"title\":{\"text\":\"Date\"}},\"yaxis\":{\"title\":{\"text\":\"CPI Value\"}}},                        {\"responsive\": true}                    ).then(function(){\n",
       "                            \n",
       "var gd = document.getElementById('ace5140d-2636-4017-9444-4a059c2556a4');\n",
       "var x = new MutationObserver(function (mutations, observer) {{\n",
       "        var display = window.getComputedStyle(gd).display;\n",
       "        if (!display || display === 'none') {{\n",
       "            console.log([gd, 'removed!']);\n",
       "            Plotly.purge(gd);\n",
       "            observer.disconnect();\n",
       "        }}\n",
       "}});\n",
       "\n",
       "// Listen for the removal of the full notebook cells\n",
       "var notebookContainer = gd.closest('#notebook-container');\n",
       "if (notebookContainer) {{\n",
       "    x.observe(notebookContainer, {childList: true});\n",
       "}}\n",
       "\n",
       "// Listen for the clearing of the current output cell\n",
       "var outputEl = gd.closest('.output');\n",
       "if (outputEl) {{\n",
       "    x.observe(outputEl, {childList: true});\n",
       "}}\n",
       "\n",
       "                        })                };                });            </script>        </div>"
      ]
     },
     "metadata": {},
     "output_type": "display_data"
    }
   ],
   "source": [
    "# event-based analysis (COVID-19 Period)\n",
    "covid_period = rural_urban_cpi[(rural_urban_cpi.index >= '2020-01-01') & (rural_urban_cpi.index <= '2021-12-31')][sectors_to_analyze + ['general_index']].fillna(method='ffill').reset_index()\n",
    "\n",
    "fig = go.Figure()\n",
    "fig.add_trace(go.Scatter(x=covid_period['date'], y=covid_period['general_index'], mode='lines', name='General CPI Index', line=dict(width=2, color='black')))\n",
    "for sector in sectors_to_analyze:\n",
    "    fig.add_trace(go.Scatter(x=covid_period['date'], y=covid_period[sector], mode='lines', name=sector))\n",
    "fig.update_layout(title='CPI Trends During COVID-19 Period (2020-2021)', xaxis_title='Date', yaxis_title='CPI Value')\n",
    "fig.show()"
   ]
  },
  {
   "cell_type": "markdown",
   "id": "a378d6ec-477c-43bf-ba25-54aafef730e9",
   "metadata": {},
   "source": [
    "The Health and Housing sectors experienced notable increases, with Health showing a steady rise and Housing seeing a sharper increase from early 2021. Fuel and light saw a significant decline in early 2020, possibly due to reduced demand during lockdowns, followed by a steep rise in 2021 as economic activities resumed. Cereals and products remained relatively stable with minor fluctuations. Overall, the graph reflects the varied inflationary impacts of COVID-19 across these sectors, with essentials like health and housing showing resilience and growth.\r\n",
    "\r\n"
   ]
  },
  {
   "cell_type": "markdown",
   "id": "f249a8eb-4d2f-4210-afd2-a236e22a0e5e",
   "metadata": {},
   "source": [
    "The key findings from the CPI analysis are as follows:\n",
    "\n",
    "- **Overall Inflation Trend**     : There has been a steady increase in the CPI over the past decade, with inflation particularly rising after 2020.\n",
    "- **Minimal Seasonal Effect**     : The seasonal decomposition shows minimal seasonal fluctuations, indicating that CPI trends are mainly driven by                                         long-term factors.\n",
    "- **Rural vs Urban Impact**       : Inflation levels are consistent across rural, urban, and combined sectors, suggesting uniform price changes in                                          these regions.\n",
    "- **Sectoral Correlations**       : High correlations are observed between sectors like housing, transport, and miscellaneous, indicating their                                             significant impact on overall inflation, while categories like eggs and vegetables show more independent price                                          movements.\n",
    "- **Sector-Specific Trends**      : Fuel and light have experienced the steepest price increase, especially post-2020, while health and housing show                                        steady inflation growth. Cereals and products display more volatility.\n",
    "- **COVID-19 Impact (2020-2021)** : During the pandemic, fuel prices initially dropped due to lower demand, then surged in 2021. Health and housing                                         sectors saw consistent price increases, reflecting inflationary pressures on essential services during this period."
   ]
  },
  {
   "cell_type": "code",
   "execution_count": null,
   "id": "bcf0b4f6-5da5-40dc-a075-4cb403331855",
   "metadata": {},
   "outputs": [],
   "source": []
  }
 ],
 "metadata": {
  "kernelspec": {
   "display_name": "Python 3 (ipykernel)",
   "language": "python",
   "name": "python3"
  },
  "language_info": {
   "codemirror_mode": {
    "name": "ipython",
    "version": 3
   },
   "file_extension": ".py",
   "mimetype": "text/x-python",
   "name": "python",
   "nbconvert_exporter": "python",
   "pygments_lexer": "ipython3",
   "version": "3.11.7"
  }
 },
 "nbformat": 4,
 "nbformat_minor": 5
}
